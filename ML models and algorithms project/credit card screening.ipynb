{
 "cells": [
  {
   "cell_type": "markdown",
   "id": "d91a9f83",
   "metadata": {},
   "source": [
    "# Previsione dell'affidabilità creditizia per il rilascio della carta di credito"
   ]
  },
  {
   "cell_type": "code",
   "execution_count": 1,
   "id": "44f155b7",
   "metadata": {},
   "outputs": [],
   "source": [
    "import zipfile\n",
    "import pandas as pd\n",
    "import os\n",
    "import matplotlib.pyplot as plt\n",
    "import numpy as np"
   ]
  },
  {
   "cell_type": "code",
   "execution_count": 2,
   "id": "8e916aae",
   "metadata": {},
   "outputs": [],
   "source": [
    "# Path to the zip file\n",
    "zip_file_path = 'credit_card_approval.zip'\n",
    "\n",
    "# Current working directory\n",
    "csv_directory = os.getcwd() \n",
    "\n",
    "# Extract the files from the zip folder\n",
    "with zipfile.ZipFile(zip_file_path, 'r') as zip_ref:\n",
    "    csv_files=zip_ref.extractall()\n",
    "\n",
    "\n",
    "# Loop through each CSV file in the directory\n",
    "for filename in os.listdir(csv_directory):\n",
    "    if filename.endswith('.csv'):\n",
    "        # Read the CSV file into a DataFrame\n",
    "        file_path = os.path.join(csv_directory, filename)\n",
    "        if 'df1' not in globals():\n",
    "            df1 = pd.read_csv(file_path) \n",
    "        else:\n",
    "            df2 = pd.read_csv(file_path)\n",
    "\n",
    "# zipfile.ZipFile: open a zip file\n",
    "# ZipFile.extractall: Extract all members from the archive to the current working directory.\n",
    "# os.listdir(path): Return a list containing the names of the entries in the directory given by path. \n",
    "# os.path.join(path, *paths): Join one or more path segments intelligently. The return value is the concatenation of path and all members of *paths"
   ]
  },
  {
   "cell_type": "markdown",
   "id": "65340fee",
   "metadata": {},
   "source": [
    "## PRE-PROCESSING"
   ]
  },
  {
   "cell_type": "code",
   "execution_count": 3,
   "id": "aa60c080",
   "metadata": {
    "scrolled": true
   },
   "outputs": [
    {
     "data": {
      "text/html": [
       "<div>\n",
       "<style scoped>\n",
       "    .dataframe tbody tr th:only-of-type {\n",
       "        vertical-align: middle;\n",
       "    }\n",
       "\n",
       "    .dataframe tbody tr th {\n",
       "        vertical-align: top;\n",
       "    }\n",
       "\n",
       "    .dataframe thead th {\n",
       "        text-align: right;\n",
       "    }\n",
       "</style>\n",
       "<table border=\"1\" class=\"dataframe\">\n",
       "  <thead>\n",
       "    <tr style=\"text-align: right;\">\n",
       "      <th></th>\n",
       "      <th>ID</th>\n",
       "      <th>CODE_GENDER</th>\n",
       "      <th>FLAG_OWN_CAR</th>\n",
       "      <th>FLAG_OWN_REALTY</th>\n",
       "      <th>CNT_CHILDREN</th>\n",
       "      <th>AMT_INCOME_TOTAL</th>\n",
       "      <th>NAME_INCOME_TYPE</th>\n",
       "      <th>NAME_EDUCATION_TYPE</th>\n",
       "      <th>NAME_FAMILY_STATUS</th>\n",
       "      <th>NAME_HOUSING_TYPE</th>\n",
       "      <th>DAYS_BIRTH</th>\n",
       "      <th>DAYS_EMPLOYED</th>\n",
       "      <th>FLAG_MOBIL</th>\n",
       "      <th>FLAG_WORK_PHONE</th>\n",
       "      <th>FLAG_PHONE</th>\n",
       "      <th>FLAG_EMAIL</th>\n",
       "      <th>OCCUPATION_TYPE</th>\n",
       "      <th>CNT_FAM_MEMBERS</th>\n",
       "    </tr>\n",
       "  </thead>\n",
       "  <tbody>\n",
       "    <tr>\n",
       "      <th>0</th>\n",
       "      <td>5008804</td>\n",
       "      <td>M</td>\n",
       "      <td>Y</td>\n",
       "      <td>Y</td>\n",
       "      <td>0</td>\n",
       "      <td>427500.0</td>\n",
       "      <td>Working</td>\n",
       "      <td>Higher education</td>\n",
       "      <td>Civil marriage</td>\n",
       "      <td>Rented apartment</td>\n",
       "      <td>-12005</td>\n",
       "      <td>-4542</td>\n",
       "      <td>1</td>\n",
       "      <td>1</td>\n",
       "      <td>0</td>\n",
       "      <td>0</td>\n",
       "      <td>NaN</td>\n",
       "      <td>2.0</td>\n",
       "    </tr>\n",
       "    <tr>\n",
       "      <th>1</th>\n",
       "      <td>5008805</td>\n",
       "      <td>M</td>\n",
       "      <td>Y</td>\n",
       "      <td>Y</td>\n",
       "      <td>0</td>\n",
       "      <td>427500.0</td>\n",
       "      <td>Working</td>\n",
       "      <td>Higher education</td>\n",
       "      <td>Civil marriage</td>\n",
       "      <td>Rented apartment</td>\n",
       "      <td>-12005</td>\n",
       "      <td>-4542</td>\n",
       "      <td>1</td>\n",
       "      <td>1</td>\n",
       "      <td>0</td>\n",
       "      <td>0</td>\n",
       "      <td>NaN</td>\n",
       "      <td>2.0</td>\n",
       "    </tr>\n",
       "    <tr>\n",
       "      <th>2</th>\n",
       "      <td>5008806</td>\n",
       "      <td>M</td>\n",
       "      <td>Y</td>\n",
       "      <td>Y</td>\n",
       "      <td>0</td>\n",
       "      <td>112500.0</td>\n",
       "      <td>Working</td>\n",
       "      <td>Secondary / secondary special</td>\n",
       "      <td>Married</td>\n",
       "      <td>House / apartment</td>\n",
       "      <td>-21474</td>\n",
       "      <td>-1134</td>\n",
       "      <td>1</td>\n",
       "      <td>0</td>\n",
       "      <td>0</td>\n",
       "      <td>0</td>\n",
       "      <td>Security staff</td>\n",
       "      <td>2.0</td>\n",
       "    </tr>\n",
       "    <tr>\n",
       "      <th>3</th>\n",
       "      <td>5008808</td>\n",
       "      <td>F</td>\n",
       "      <td>N</td>\n",
       "      <td>Y</td>\n",
       "      <td>0</td>\n",
       "      <td>270000.0</td>\n",
       "      <td>Commercial associate</td>\n",
       "      <td>Secondary / secondary special</td>\n",
       "      <td>Single / not married</td>\n",
       "      <td>House / apartment</td>\n",
       "      <td>-19110</td>\n",
       "      <td>-3051</td>\n",
       "      <td>1</td>\n",
       "      <td>0</td>\n",
       "      <td>1</td>\n",
       "      <td>1</td>\n",
       "      <td>Sales staff</td>\n",
       "      <td>1.0</td>\n",
       "    </tr>\n",
       "    <tr>\n",
       "      <th>4</th>\n",
       "      <td>5008809</td>\n",
       "      <td>F</td>\n",
       "      <td>N</td>\n",
       "      <td>Y</td>\n",
       "      <td>0</td>\n",
       "      <td>270000.0</td>\n",
       "      <td>Commercial associate</td>\n",
       "      <td>Secondary / secondary special</td>\n",
       "      <td>Single / not married</td>\n",
       "      <td>House / apartment</td>\n",
       "      <td>-19110</td>\n",
       "      <td>-3051</td>\n",
       "      <td>1</td>\n",
       "      <td>0</td>\n",
       "      <td>1</td>\n",
       "      <td>1</td>\n",
       "      <td>Sales staff</td>\n",
       "      <td>1.0</td>\n",
       "    </tr>\n",
       "  </tbody>\n",
       "</table>\n",
       "</div>"
      ],
      "text/plain": [
       "        ID CODE_GENDER FLAG_OWN_CAR FLAG_OWN_REALTY  CNT_CHILDREN  \\\n",
       "0  5008804           M            Y               Y             0   \n",
       "1  5008805           M            Y               Y             0   \n",
       "2  5008806           M            Y               Y             0   \n",
       "3  5008808           F            N               Y             0   \n",
       "4  5008809           F            N               Y             0   \n",
       "\n",
       "   AMT_INCOME_TOTAL      NAME_INCOME_TYPE            NAME_EDUCATION_TYPE  \\\n",
       "0          427500.0               Working               Higher education   \n",
       "1          427500.0               Working               Higher education   \n",
       "2          112500.0               Working  Secondary / secondary special   \n",
       "3          270000.0  Commercial associate  Secondary / secondary special   \n",
       "4          270000.0  Commercial associate  Secondary / secondary special   \n",
       "\n",
       "     NAME_FAMILY_STATUS  NAME_HOUSING_TYPE  DAYS_BIRTH  DAYS_EMPLOYED  \\\n",
       "0        Civil marriage   Rented apartment      -12005          -4542   \n",
       "1        Civil marriage   Rented apartment      -12005          -4542   \n",
       "2               Married  House / apartment      -21474          -1134   \n",
       "3  Single / not married  House / apartment      -19110          -3051   \n",
       "4  Single / not married  House / apartment      -19110          -3051   \n",
       "\n",
       "   FLAG_MOBIL  FLAG_WORK_PHONE  FLAG_PHONE  FLAG_EMAIL OCCUPATION_TYPE  \\\n",
       "0           1                1           0           0             NaN   \n",
       "1           1                1           0           0             NaN   \n",
       "2           1                0           0           0  Security staff   \n",
       "3           1                0           1           1     Sales staff   \n",
       "4           1                0           1           1     Sales staff   \n",
       "\n",
       "   CNT_FAM_MEMBERS  \n",
       "0              2.0  \n",
       "1              2.0  \n",
       "2              2.0  \n",
       "3              1.0  \n",
       "4              1.0  "
      ]
     },
     "execution_count": 3,
     "metadata": {},
     "output_type": "execute_result"
    }
   ],
   "source": [
    "df1.head()"
   ]
  },
  {
   "cell_type": "code",
   "execution_count": 4,
   "id": "374fb394",
   "metadata": {},
   "outputs": [
    {
     "data": {
      "text/html": [
       "<div>\n",
       "<style scoped>\n",
       "    .dataframe tbody tr th:only-of-type {\n",
       "        vertical-align: middle;\n",
       "    }\n",
       "\n",
       "    .dataframe tbody tr th {\n",
       "        vertical-align: top;\n",
       "    }\n",
       "\n",
       "    .dataframe thead th {\n",
       "        text-align: right;\n",
       "    }\n",
       "</style>\n",
       "<table border=\"1\" class=\"dataframe\">\n",
       "  <thead>\n",
       "    <tr style=\"text-align: right;\">\n",
       "      <th></th>\n",
       "      <th>ID</th>\n",
       "      <th>MONTHS_BALANCE</th>\n",
       "      <th>STATUS</th>\n",
       "    </tr>\n",
       "  </thead>\n",
       "  <tbody>\n",
       "    <tr>\n",
       "      <th>0</th>\n",
       "      <td>5001711</td>\n",
       "      <td>0</td>\n",
       "      <td>X</td>\n",
       "    </tr>\n",
       "    <tr>\n",
       "      <th>1</th>\n",
       "      <td>5001711</td>\n",
       "      <td>-1</td>\n",
       "      <td>0</td>\n",
       "    </tr>\n",
       "    <tr>\n",
       "      <th>2</th>\n",
       "      <td>5001711</td>\n",
       "      <td>-2</td>\n",
       "      <td>0</td>\n",
       "    </tr>\n",
       "    <tr>\n",
       "      <th>3</th>\n",
       "      <td>5001711</td>\n",
       "      <td>-3</td>\n",
       "      <td>0</td>\n",
       "    </tr>\n",
       "    <tr>\n",
       "      <th>4</th>\n",
       "      <td>5001712</td>\n",
       "      <td>0</td>\n",
       "      <td>C</td>\n",
       "    </tr>\n",
       "  </tbody>\n",
       "</table>\n",
       "</div>"
      ],
      "text/plain": [
       "        ID  MONTHS_BALANCE STATUS\n",
       "0  5001711               0      X\n",
       "1  5001711              -1      0\n",
       "2  5001711              -2      0\n",
       "3  5001711              -3      0\n",
       "4  5001712               0      C"
      ]
     },
     "execution_count": 4,
     "metadata": {},
     "output_type": "execute_result"
    }
   ],
   "source": [
    "df2.head()"
   ]
  },
  {
   "cell_type": "markdown",
   "id": "451208cd",
   "metadata": {},
   "source": [
    "### DUPLICATES: df1"
   ]
  },
  {
   "cell_type": "code",
   "execution_count": 5,
   "id": "0afff938",
   "metadata": {},
   "outputs": [
    {
     "data": {
      "text/plain": [
       "2"
      ]
     },
     "execution_count": 5,
     "metadata": {},
     "output_type": "execute_result"
    }
   ],
   "source": [
    "df1.groupby('ID').size().max()"
   ]
  },
  {
   "cell_type": "markdown",
   "id": "58a73b3a",
   "metadata": {},
   "source": [
    "#### df1 contiene IDs duplicati da rimuovere"
   ]
  },
  {
   "cell_type": "code",
   "execution_count": 6,
   "id": "afffca93",
   "metadata": {},
   "outputs": [],
   "source": [
    "df1=df1.drop_duplicates() # remove rows with same values"
   ]
  },
  {
   "cell_type": "code",
   "execution_count": 7,
   "id": "39a51760",
   "metadata": {},
   "outputs": [
    {
     "data": {
      "text/plain": [
       "2"
      ]
     },
     "execution_count": 7,
     "metadata": {},
     "output_type": "execute_result"
    }
   ],
   "source": [
    "df1.groupby('ID').size().max()"
   ]
  },
  {
   "cell_type": "markdown",
   "id": "9a21ad82",
   "metadata": {},
   "source": [
    "#### Ci sono IDs duplicati con diversi valori delle features"
   ]
  },
  {
   "cell_type": "code",
   "execution_count": 8,
   "id": "f5a5fad5",
   "metadata": {},
   "outputs": [
    {
     "data": {
      "text/plain": [
       "ID\n",
       "5008804    1\n",
       "5008805    1\n",
       "5008806    1\n",
       "5008808    1\n",
       "5008809    1\n",
       "dtype: int64"
      ]
     },
     "execution_count": 8,
     "metadata": {},
     "output_type": "execute_result"
    }
   ],
   "source": [
    "id_counts = df1.groupby('ID').size()  # the 'ID' becomes the label\n",
    "id_counts.head()"
   ]
  },
  {
   "cell_type": "code",
   "execution_count": 9,
   "id": "2d6d81b0",
   "metadata": {},
   "outputs": [
    {
     "name": "stdout",
     "output_type": "stream",
     "text": [
      "ID values with more than one occurrence: [7022197, 7022327, 7023108, 7023651, 7024111, 7036518, 7045794, 7045885, 7046068, 7050948, 7052783, 7052812, 7053557, 7089090, 7090931, 7091721, 7099881, 7135270, 7137299, 7154598, 7154819, 7155150, 7174719, 7207977, 7213374, 7243768, 7282535, 7317997, 7372589, 7416167, 7576316, 7602432, 7603224, 7618285, 7636389, 7636756, 7702238, 7702516, 7742298, 7742853, 7743418, 7744386, 7772847, 7833087, 7836711, 7836971, 7838075]\n"
     ]
    }
   ],
   "source": [
    "multiple_occurrences = id_counts[id_counts > 1].index.tolist() # get the labels when counts > 1 and convert result to list\n",
    "print(\"ID values with more than one occurrence:\", multiple_occurrences)"
   ]
  },
  {
   "cell_type": "code",
   "execution_count": 10,
   "id": "2a293acf",
   "metadata": {},
   "outputs": [
    {
     "data": {
      "text/html": [
       "<div>\n",
       "<style scoped>\n",
       "    .dataframe tbody tr th:only-of-type {\n",
       "        vertical-align: middle;\n",
       "    }\n",
       "\n",
       "    .dataframe tbody tr th {\n",
       "        vertical-align: top;\n",
       "    }\n",
       "\n",
       "    .dataframe thead th {\n",
       "        text-align: right;\n",
       "    }\n",
       "</style>\n",
       "<table border=\"1\" class=\"dataframe\">\n",
       "  <thead>\n",
       "    <tr style=\"text-align: right;\">\n",
       "      <th></th>\n",
       "      <th>ID</th>\n",
       "      <th>CODE_GENDER</th>\n",
       "      <th>FLAG_OWN_CAR</th>\n",
       "      <th>FLAG_OWN_REALTY</th>\n",
       "      <th>CNT_CHILDREN</th>\n",
       "      <th>AMT_INCOME_TOTAL</th>\n",
       "      <th>NAME_INCOME_TYPE</th>\n",
       "      <th>NAME_EDUCATION_TYPE</th>\n",
       "      <th>NAME_FAMILY_STATUS</th>\n",
       "      <th>NAME_HOUSING_TYPE</th>\n",
       "      <th>DAYS_BIRTH</th>\n",
       "      <th>DAYS_EMPLOYED</th>\n",
       "      <th>FLAG_MOBIL</th>\n",
       "      <th>FLAG_WORK_PHONE</th>\n",
       "      <th>FLAG_PHONE</th>\n",
       "      <th>FLAG_EMAIL</th>\n",
       "      <th>OCCUPATION_TYPE</th>\n",
       "      <th>CNT_FAM_MEMBERS</th>\n",
       "    </tr>\n",
       "  </thead>\n",
       "  <tbody>\n",
       "    <tr>\n",
       "      <th>425023</th>\n",
       "      <td>7022197</td>\n",
       "      <td>F</td>\n",
       "      <td>N</td>\n",
       "      <td>Y</td>\n",
       "      <td>0</td>\n",
       "      <td>450000.0</td>\n",
       "      <td>Commercial associate</td>\n",
       "      <td>Higher education</td>\n",
       "      <td>Separated</td>\n",
       "      <td>House / apartment</td>\n",
       "      <td>-19813</td>\n",
       "      <td>-1799</td>\n",
       "      <td>1</td>\n",
       "      <td>0</td>\n",
       "      <td>0</td>\n",
       "      <td>1</td>\n",
       "      <td>NaN</td>\n",
       "      <td>1.0</td>\n",
       "    </tr>\n",
       "    <tr>\n",
       "      <th>426818</th>\n",
       "      <td>7022197</td>\n",
       "      <td>M</td>\n",
       "      <td>Y</td>\n",
       "      <td>Y</td>\n",
       "      <td>3</td>\n",
       "      <td>135000.0</td>\n",
       "      <td>Working</td>\n",
       "      <td>Secondary / secondary special</td>\n",
       "      <td>Married</td>\n",
       "      <td>House / apartment</td>\n",
       "      <td>-11945</td>\n",
       "      <td>-735</td>\n",
       "      <td>1</td>\n",
       "      <td>0</td>\n",
       "      <td>0</td>\n",
       "      <td>1</td>\n",
       "      <td>Laborers</td>\n",
       "      <td>5.0</td>\n",
       "    </tr>\n",
       "  </tbody>\n",
       "</table>\n",
       "</div>"
      ],
      "text/plain": [
       "             ID CODE_GENDER FLAG_OWN_CAR FLAG_OWN_REALTY  CNT_CHILDREN  \\\n",
       "425023  7022197           F            N               Y             0   \n",
       "426818  7022197           M            Y               Y             3   \n",
       "\n",
       "        AMT_INCOME_TOTAL      NAME_INCOME_TYPE            NAME_EDUCATION_TYPE  \\\n",
       "425023          450000.0  Commercial associate               Higher education   \n",
       "426818          135000.0               Working  Secondary / secondary special   \n",
       "\n",
       "       NAME_FAMILY_STATUS  NAME_HOUSING_TYPE  DAYS_BIRTH  DAYS_EMPLOYED  \\\n",
       "425023          Separated  House / apartment      -19813          -1799   \n",
       "426818            Married  House / apartment      -11945           -735   \n",
       "\n",
       "        FLAG_MOBIL  FLAG_WORK_PHONE  FLAG_PHONE  FLAG_EMAIL OCCUPATION_TYPE  \\\n",
       "425023           1                0           0           1             NaN   \n",
       "426818           1                0           0           1        Laborers   \n",
       "\n",
       "        CNT_FAM_MEMBERS  \n",
       "425023              1.0  \n",
       "426818              5.0  "
      ]
     },
     "execution_count": 10,
     "metadata": {},
     "output_type": "execute_result"
    }
   ],
   "source": [
    "df1[df1['ID']==7022197]"
   ]
  },
  {
   "cell_type": "markdown",
   "id": "51899b11",
   "metadata": {},
   "source": [
    "#### Osserviamo che due persone diverse (donna e uomo) hanno lo stesso 'ID'"
   ]
  },
  {
   "cell_type": "code",
   "execution_count": 11,
   "id": "c57f1e08",
   "metadata": {},
   "outputs": [],
   "source": [
    "boolean_mask=df1['ID'].isin(multiple_occurrences)"
   ]
  },
  {
   "cell_type": "code",
   "execution_count": 12,
   "id": "75dd71ad",
   "metadata": {},
   "outputs": [],
   "source": [
    "df1=df1[~boolean_mask] # apply the contrary of boolean_mask"
   ]
  },
  {
   "cell_type": "code",
   "execution_count": 13,
   "id": "7e351eea",
   "metadata": {},
   "outputs": [
    {
     "data": {
      "text/plain": [
       "(438463, 18)"
      ]
     },
     "execution_count": 13,
     "metadata": {},
     "output_type": "execute_result"
    }
   ],
   "source": [
    "df1.shape"
   ]
  },
  {
   "cell_type": "code",
   "execution_count": 14,
   "id": "88bdbc15",
   "metadata": {},
   "outputs": [
    {
     "data": {
      "text/plain": [
       "1"
      ]
     },
     "execution_count": 14,
     "metadata": {},
     "output_type": "execute_result"
    }
   ],
   "source": [
    "df1.groupby('ID').size().max()"
   ]
  },
  {
   "cell_type": "markdown",
   "id": "d36d9072",
   "metadata": {},
   "source": [
    "#### Abbiamo eliminato da 'df1' le osservazioni con stesso 'ID' che hanno diversi valori delle altre features"
   ]
  },
  {
   "cell_type": "code",
   "execution_count": 15,
   "id": "7d5234c8",
   "metadata": {},
   "outputs": [],
   "source": [
    "boolean_mask = df1['ID'].isin(df2['ID']) # check if each df1 ID is contained in df2 IDs"
   ]
  },
  {
   "cell_type": "code",
   "execution_count": 16,
   "id": "aea78fe1",
   "metadata": {},
   "outputs": [
    {
     "data": {
      "text/plain": [
       "(438463,)"
      ]
     },
     "execution_count": 16,
     "metadata": {},
     "output_type": "execute_result"
    }
   ],
   "source": [
    "boolean_mask.shape"
   ]
  },
  {
   "cell_type": "code",
   "execution_count": 17,
   "id": "7a86d032",
   "metadata": {},
   "outputs": [
    {
     "data": {
      "text/plain": [
       "0    True\n",
       "1    True\n",
       "2    True\n",
       "3    True\n",
       "4    True\n",
       "Name: ID, dtype: bool"
      ]
     },
     "execution_count": 17,
     "metadata": {},
     "output_type": "execute_result"
    }
   ],
   "source": [
    "boolean_mask.head()"
   ]
  },
  {
   "cell_type": "code",
   "execution_count": 18,
   "id": "a834c3b2",
   "metadata": {},
   "outputs": [
    {
     "data": {
      "text/plain": [
       "(438463, 18)"
      ]
     },
     "execution_count": 18,
     "metadata": {},
     "output_type": "execute_result"
    }
   ],
   "source": [
    "df1.shape"
   ]
  },
  {
   "cell_type": "markdown",
   "id": "25e2b997",
   "metadata": {},
   "source": [
    "#### Manteniamo soltanto gli IDs di df1 che avranno dei valori in df2"
   ]
  },
  {
   "cell_type": "code",
   "execution_count": 19,
   "id": "01668759",
   "metadata": {},
   "outputs": [],
   "source": [
    "df1=df1[boolean_mask]"
   ]
  },
  {
   "cell_type": "code",
   "execution_count": 20,
   "id": "67381d06",
   "metadata": {},
   "outputs": [
    {
     "data": {
      "text/plain": [
       "(36457, 18)"
      ]
     },
     "execution_count": 20,
     "metadata": {},
     "output_type": "execute_result"
    }
   ],
   "source": [
    "df1.shape"
   ]
  },
  {
   "cell_type": "markdown",
   "id": "cf39fd22",
   "metadata": {},
   "source": [
    "### MISSING VALUES: df1"
   ]
  },
  {
   "cell_type": "code",
   "execution_count": 21,
   "id": "ad1a9378",
   "metadata": {},
   "outputs": [
    {
     "data": {
      "text/plain": [
       "ID                      0.000000\n",
       "CODE_GENDER             0.000000\n",
       "FLAG_OWN_CAR            0.000000\n",
       "FLAG_OWN_REALTY         0.000000\n",
       "CNT_CHILDREN            0.000000\n",
       "AMT_INCOME_TOTAL        0.000000\n",
       "NAME_INCOME_TYPE        0.000000\n",
       "NAME_EDUCATION_TYPE     0.000000\n",
       "NAME_FAMILY_STATUS      0.000000\n",
       "NAME_HOUSING_TYPE       0.000000\n",
       "DAYS_BIRTH              0.000000\n",
       "DAYS_EMPLOYED           0.000000\n",
       "FLAG_MOBIL              0.000000\n",
       "FLAG_WORK_PHONE         0.000000\n",
       "FLAG_PHONE              0.000000\n",
       "FLAG_EMAIL              0.000000\n",
       "OCCUPATION_TYPE        31.058507\n",
       "CNT_FAM_MEMBERS         0.000000\n",
       "dtype: float64"
      ]
     },
     "execution_count": 21,
     "metadata": {},
     "output_type": "execute_result"
    }
   ],
   "source": [
    "df1.isna().sum()/df1.shape[0]*100 # normalized count of missing values"
   ]
  },
  {
   "cell_type": "markdown",
   "id": "9723a867",
   "metadata": {},
   "source": [
    "#### La variabile 'OCCUPATION_TYPE' contiene molti valori mancanti (31 %)\n",
    "#### Poichè abbiamo la variabile 'NAME_INCOME_TYPE' decido di eliminare la variabile 'OCCUPATION_TYPE'"
   ]
  },
  {
   "cell_type": "code",
   "execution_count": 22,
   "id": "a096f65a",
   "metadata": {},
   "outputs": [],
   "source": [
    "df1=df1.drop('OCCUPATION_TYPE',axis=1)"
   ]
  },
  {
   "cell_type": "code",
   "execution_count": 23,
   "id": "dbcd2691",
   "metadata": {},
   "outputs": [
    {
     "data": {
      "text/html": [
       "<div>\n",
       "<style scoped>\n",
       "    .dataframe tbody tr th:only-of-type {\n",
       "        vertical-align: middle;\n",
       "    }\n",
       "\n",
       "    .dataframe tbody tr th {\n",
       "        vertical-align: top;\n",
       "    }\n",
       "\n",
       "    .dataframe thead th {\n",
       "        text-align: right;\n",
       "    }\n",
       "</style>\n",
       "<table border=\"1\" class=\"dataframe\">\n",
       "  <thead>\n",
       "    <tr style=\"text-align: right;\">\n",
       "      <th></th>\n",
       "      <th>ID</th>\n",
       "      <th>CODE_GENDER</th>\n",
       "      <th>FLAG_OWN_CAR</th>\n",
       "      <th>FLAG_OWN_REALTY</th>\n",
       "      <th>CNT_CHILDREN</th>\n",
       "      <th>AMT_INCOME_TOTAL</th>\n",
       "      <th>NAME_INCOME_TYPE</th>\n",
       "      <th>NAME_EDUCATION_TYPE</th>\n",
       "      <th>NAME_FAMILY_STATUS</th>\n",
       "      <th>NAME_HOUSING_TYPE</th>\n",
       "      <th>DAYS_BIRTH</th>\n",
       "      <th>DAYS_EMPLOYED</th>\n",
       "      <th>FLAG_MOBIL</th>\n",
       "      <th>FLAG_WORK_PHONE</th>\n",
       "      <th>FLAG_PHONE</th>\n",
       "      <th>FLAG_EMAIL</th>\n",
       "      <th>CNT_FAM_MEMBERS</th>\n",
       "    </tr>\n",
       "  </thead>\n",
       "  <tbody>\n",
       "    <tr>\n",
       "      <th>0</th>\n",
       "      <td>5008804</td>\n",
       "      <td>M</td>\n",
       "      <td>Y</td>\n",
       "      <td>Y</td>\n",
       "      <td>0</td>\n",
       "      <td>427500.0</td>\n",
       "      <td>Working</td>\n",
       "      <td>Higher education</td>\n",
       "      <td>Civil marriage</td>\n",
       "      <td>Rented apartment</td>\n",
       "      <td>-12005</td>\n",
       "      <td>-4542</td>\n",
       "      <td>1</td>\n",
       "      <td>1</td>\n",
       "      <td>0</td>\n",
       "      <td>0</td>\n",
       "      <td>2.0</td>\n",
       "    </tr>\n",
       "    <tr>\n",
       "      <th>1</th>\n",
       "      <td>5008805</td>\n",
       "      <td>M</td>\n",
       "      <td>Y</td>\n",
       "      <td>Y</td>\n",
       "      <td>0</td>\n",
       "      <td>427500.0</td>\n",
       "      <td>Working</td>\n",
       "      <td>Higher education</td>\n",
       "      <td>Civil marriage</td>\n",
       "      <td>Rented apartment</td>\n",
       "      <td>-12005</td>\n",
       "      <td>-4542</td>\n",
       "      <td>1</td>\n",
       "      <td>1</td>\n",
       "      <td>0</td>\n",
       "      <td>0</td>\n",
       "      <td>2.0</td>\n",
       "    </tr>\n",
       "    <tr>\n",
       "      <th>2</th>\n",
       "      <td>5008806</td>\n",
       "      <td>M</td>\n",
       "      <td>Y</td>\n",
       "      <td>Y</td>\n",
       "      <td>0</td>\n",
       "      <td>112500.0</td>\n",
       "      <td>Working</td>\n",
       "      <td>Secondary / secondary special</td>\n",
       "      <td>Married</td>\n",
       "      <td>House / apartment</td>\n",
       "      <td>-21474</td>\n",
       "      <td>-1134</td>\n",
       "      <td>1</td>\n",
       "      <td>0</td>\n",
       "      <td>0</td>\n",
       "      <td>0</td>\n",
       "      <td>2.0</td>\n",
       "    </tr>\n",
       "    <tr>\n",
       "      <th>3</th>\n",
       "      <td>5008808</td>\n",
       "      <td>F</td>\n",
       "      <td>N</td>\n",
       "      <td>Y</td>\n",
       "      <td>0</td>\n",
       "      <td>270000.0</td>\n",
       "      <td>Commercial associate</td>\n",
       "      <td>Secondary / secondary special</td>\n",
       "      <td>Single / not married</td>\n",
       "      <td>House / apartment</td>\n",
       "      <td>-19110</td>\n",
       "      <td>-3051</td>\n",
       "      <td>1</td>\n",
       "      <td>0</td>\n",
       "      <td>1</td>\n",
       "      <td>1</td>\n",
       "      <td>1.0</td>\n",
       "    </tr>\n",
       "    <tr>\n",
       "      <th>4</th>\n",
       "      <td>5008809</td>\n",
       "      <td>F</td>\n",
       "      <td>N</td>\n",
       "      <td>Y</td>\n",
       "      <td>0</td>\n",
       "      <td>270000.0</td>\n",
       "      <td>Commercial associate</td>\n",
       "      <td>Secondary / secondary special</td>\n",
       "      <td>Single / not married</td>\n",
       "      <td>House / apartment</td>\n",
       "      <td>-19110</td>\n",
       "      <td>-3051</td>\n",
       "      <td>1</td>\n",
       "      <td>0</td>\n",
       "      <td>1</td>\n",
       "      <td>1</td>\n",
       "      <td>1.0</td>\n",
       "    </tr>\n",
       "  </tbody>\n",
       "</table>\n",
       "</div>"
      ],
      "text/plain": [
       "        ID CODE_GENDER FLAG_OWN_CAR FLAG_OWN_REALTY  CNT_CHILDREN  \\\n",
       "0  5008804           M            Y               Y             0   \n",
       "1  5008805           M            Y               Y             0   \n",
       "2  5008806           M            Y               Y             0   \n",
       "3  5008808           F            N               Y             0   \n",
       "4  5008809           F            N               Y             0   \n",
       "\n",
       "   AMT_INCOME_TOTAL      NAME_INCOME_TYPE            NAME_EDUCATION_TYPE  \\\n",
       "0          427500.0               Working               Higher education   \n",
       "1          427500.0               Working               Higher education   \n",
       "2          112500.0               Working  Secondary / secondary special   \n",
       "3          270000.0  Commercial associate  Secondary / secondary special   \n",
       "4          270000.0  Commercial associate  Secondary / secondary special   \n",
       "\n",
       "     NAME_FAMILY_STATUS  NAME_HOUSING_TYPE  DAYS_BIRTH  DAYS_EMPLOYED  \\\n",
       "0        Civil marriage   Rented apartment      -12005          -4542   \n",
       "1        Civil marriage   Rented apartment      -12005          -4542   \n",
       "2               Married  House / apartment      -21474          -1134   \n",
       "3  Single / not married  House / apartment      -19110          -3051   \n",
       "4  Single / not married  House / apartment      -19110          -3051   \n",
       "\n",
       "   FLAG_MOBIL  FLAG_WORK_PHONE  FLAG_PHONE  FLAG_EMAIL  CNT_FAM_MEMBERS  \n",
       "0           1                1           0           0              2.0  \n",
       "1           1                1           0           0              2.0  \n",
       "2           1                0           0           0              2.0  \n",
       "3           1                0           1           1              1.0  \n",
       "4           1                0           1           1              1.0  "
      ]
     },
     "execution_count": 23,
     "metadata": {},
     "output_type": "execute_result"
    }
   ],
   "source": [
    "df1.head()"
   ]
  },
  {
   "cell_type": "markdown",
   "id": "b3f5c3ee",
   "metadata": {},
   "source": [
    "### STATISTICS: df1"
   ]
  },
  {
   "cell_type": "code",
   "execution_count": 24,
   "id": "a928e060",
   "metadata": {
    "scrolled": true
   },
   "outputs": [
    {
     "data": {
      "text/html": [
       "<div>\n",
       "<style scoped>\n",
       "    .dataframe tbody tr th:only-of-type {\n",
       "        vertical-align: middle;\n",
       "    }\n",
       "\n",
       "    .dataframe tbody tr th {\n",
       "        vertical-align: top;\n",
       "    }\n",
       "\n",
       "    .dataframe thead th {\n",
       "        text-align: right;\n",
       "    }\n",
       "</style>\n",
       "<table border=\"1\" class=\"dataframe\">\n",
       "  <thead>\n",
       "    <tr style=\"text-align: right;\">\n",
       "      <th></th>\n",
       "      <th>ID</th>\n",
       "      <th>CNT_CHILDREN</th>\n",
       "      <th>AMT_INCOME_TOTAL</th>\n",
       "      <th>DAYS_BIRTH</th>\n",
       "      <th>DAYS_EMPLOYED</th>\n",
       "      <th>FLAG_MOBIL</th>\n",
       "      <th>FLAG_WORK_PHONE</th>\n",
       "      <th>FLAG_PHONE</th>\n",
       "      <th>FLAG_EMAIL</th>\n",
       "      <th>CNT_FAM_MEMBERS</th>\n",
       "    </tr>\n",
       "  </thead>\n",
       "  <tbody>\n",
       "    <tr>\n",
       "      <th>count</th>\n",
       "      <td>3.645700e+04</td>\n",
       "      <td>36457.000000</td>\n",
       "      <td>3.645700e+04</td>\n",
       "      <td>36457.000000</td>\n",
       "      <td>36457.000000</td>\n",
       "      <td>36457.0</td>\n",
       "      <td>36457.000000</td>\n",
       "      <td>36457.000000</td>\n",
       "      <td>36457.000000</td>\n",
       "      <td>36457.000000</td>\n",
       "    </tr>\n",
       "    <tr>\n",
       "      <th>mean</th>\n",
       "      <td>5.078227e+06</td>\n",
       "      <td>0.430315</td>\n",
       "      <td>1.866857e+05</td>\n",
       "      <td>-15975.173382</td>\n",
       "      <td>59262.935568</td>\n",
       "      <td>1.0</td>\n",
       "      <td>0.225526</td>\n",
       "      <td>0.294813</td>\n",
       "      <td>0.089722</td>\n",
       "      <td>2.198453</td>\n",
       "    </tr>\n",
       "    <tr>\n",
       "      <th>std</th>\n",
       "      <td>4.187524e+04</td>\n",
       "      <td>0.742367</td>\n",
       "      <td>1.017892e+05</td>\n",
       "      <td>4200.549944</td>\n",
       "      <td>137651.334859</td>\n",
       "      <td>0.0</td>\n",
       "      <td>0.417934</td>\n",
       "      <td>0.455965</td>\n",
       "      <td>0.285787</td>\n",
       "      <td>0.911686</td>\n",
       "    </tr>\n",
       "    <tr>\n",
       "      <th>min</th>\n",
       "      <td>5.008804e+06</td>\n",
       "      <td>0.000000</td>\n",
       "      <td>2.700000e+04</td>\n",
       "      <td>-25152.000000</td>\n",
       "      <td>-15713.000000</td>\n",
       "      <td>1.0</td>\n",
       "      <td>0.000000</td>\n",
       "      <td>0.000000</td>\n",
       "      <td>0.000000</td>\n",
       "      <td>1.000000</td>\n",
       "    </tr>\n",
       "    <tr>\n",
       "      <th>25%</th>\n",
       "      <td>5.042028e+06</td>\n",
       "      <td>0.000000</td>\n",
       "      <td>1.215000e+05</td>\n",
       "      <td>-19438.000000</td>\n",
       "      <td>-3153.000000</td>\n",
       "      <td>1.0</td>\n",
       "      <td>0.000000</td>\n",
       "      <td>0.000000</td>\n",
       "      <td>0.000000</td>\n",
       "      <td>2.000000</td>\n",
       "    </tr>\n",
       "    <tr>\n",
       "      <th>50%</th>\n",
       "      <td>5.074614e+06</td>\n",
       "      <td>0.000000</td>\n",
       "      <td>1.575000e+05</td>\n",
       "      <td>-15563.000000</td>\n",
       "      <td>-1552.000000</td>\n",
       "      <td>1.0</td>\n",
       "      <td>0.000000</td>\n",
       "      <td>0.000000</td>\n",
       "      <td>0.000000</td>\n",
       "      <td>2.000000</td>\n",
       "    </tr>\n",
       "    <tr>\n",
       "      <th>75%</th>\n",
       "      <td>5.115396e+06</td>\n",
       "      <td>1.000000</td>\n",
       "      <td>2.250000e+05</td>\n",
       "      <td>-12462.000000</td>\n",
       "      <td>-408.000000</td>\n",
       "      <td>1.0</td>\n",
       "      <td>0.000000</td>\n",
       "      <td>1.000000</td>\n",
       "      <td>0.000000</td>\n",
       "      <td>3.000000</td>\n",
       "    </tr>\n",
       "    <tr>\n",
       "      <th>max</th>\n",
       "      <td>5.150487e+06</td>\n",
       "      <td>19.000000</td>\n",
       "      <td>1.575000e+06</td>\n",
       "      <td>-7489.000000</td>\n",
       "      <td>365243.000000</td>\n",
       "      <td>1.0</td>\n",
       "      <td>1.000000</td>\n",
       "      <td>1.000000</td>\n",
       "      <td>1.000000</td>\n",
       "      <td>20.000000</td>\n",
       "    </tr>\n",
       "  </tbody>\n",
       "</table>\n",
       "</div>"
      ],
      "text/plain": [
       "                 ID  CNT_CHILDREN  AMT_INCOME_TOTAL    DAYS_BIRTH  \\\n",
       "count  3.645700e+04  36457.000000      3.645700e+04  36457.000000   \n",
       "mean   5.078227e+06      0.430315      1.866857e+05 -15975.173382   \n",
       "std    4.187524e+04      0.742367      1.017892e+05   4200.549944   \n",
       "min    5.008804e+06      0.000000      2.700000e+04 -25152.000000   \n",
       "25%    5.042028e+06      0.000000      1.215000e+05 -19438.000000   \n",
       "50%    5.074614e+06      0.000000      1.575000e+05 -15563.000000   \n",
       "75%    5.115396e+06      1.000000      2.250000e+05 -12462.000000   \n",
       "max    5.150487e+06     19.000000      1.575000e+06  -7489.000000   \n",
       "\n",
       "       DAYS_EMPLOYED  FLAG_MOBIL  FLAG_WORK_PHONE    FLAG_PHONE    FLAG_EMAIL  \\\n",
       "count   36457.000000     36457.0     36457.000000  36457.000000  36457.000000   \n",
       "mean    59262.935568         1.0         0.225526      0.294813      0.089722   \n",
       "std    137651.334859         0.0         0.417934      0.455965      0.285787   \n",
       "min    -15713.000000         1.0         0.000000      0.000000      0.000000   \n",
       "25%     -3153.000000         1.0         0.000000      0.000000      0.000000   \n",
       "50%     -1552.000000         1.0         0.000000      0.000000      0.000000   \n",
       "75%      -408.000000         1.0         0.000000      1.000000      0.000000   \n",
       "max    365243.000000         1.0         1.000000      1.000000      1.000000   \n",
       "\n",
       "       CNT_FAM_MEMBERS  \n",
       "count     36457.000000  \n",
       "mean          2.198453  \n",
       "std           0.911686  \n",
       "min           1.000000  \n",
       "25%           2.000000  \n",
       "50%           2.000000  \n",
       "75%           3.000000  \n",
       "max          20.000000  "
      ]
     },
     "execution_count": 24,
     "metadata": {},
     "output_type": "execute_result"
    }
   ],
   "source": [
    "df1.describe()"
   ]
  },
  {
   "cell_type": "code",
   "execution_count": 25,
   "id": "bf085074",
   "metadata": {},
   "outputs": [
    {
     "name": "stdout",
     "output_type": "stream",
     "text": [
      "\n",
      "Number of unique values for the variable CODE_GENDER: 2\n",
      "Values: ['M' 'F']\n",
      "\n",
      "Number of unique values for the variable FLAG_OWN_CAR: 2\n",
      "Values: ['Y' 'N']\n",
      "\n",
      "Number of unique values for the variable FLAG_OWN_REALTY: 2\n",
      "Values: ['Y' 'N']\n",
      "\n",
      "Number of unique values for the variable CNT_CHILDREN: 9\n",
      "Values: [ 0  1  3  2  4  5 14 19  7]\n",
      "\n",
      "Number of unique values for the variable AMT_INCOME_TOTAL: 265\n",
      "More than 10 possible values\n",
      "\n",
      "Number of unique values for the variable NAME_INCOME_TYPE: 5\n",
      "Values: ['Working' 'Commercial associate' 'Pensioner' 'State servant' 'Student']\n",
      "\n",
      "Number of unique values for the variable NAME_EDUCATION_TYPE: 5\n",
      "Values: ['Higher education' 'Secondary / secondary special' 'Incomplete higher'\n",
      " 'Lower secondary' 'Academic degree']\n",
      "\n",
      "Number of unique values for the variable NAME_FAMILY_STATUS: 5\n",
      "Values: ['Civil marriage' 'Married' 'Single / not married' 'Separated' 'Widow']\n",
      "\n",
      "Number of unique values for the variable NAME_HOUSING_TYPE: 6\n",
      "Values: ['Rented apartment' 'House / apartment' 'Municipal apartment'\n",
      " 'With parents' 'Co-op apartment' 'Office apartment']\n",
      "\n",
      "Number of unique values for the variable DAYS_BIRTH: 7183\n",
      "More than 10 possible values\n",
      "\n",
      "Number of unique values for the variable DAYS_EMPLOYED: 3640\n",
      "More than 10 possible values\n",
      "\n",
      "Number of unique values for the variable FLAG_MOBIL: 1\n",
      "Values: [1]\n",
      "\n",
      "Number of unique values for the variable FLAG_WORK_PHONE: 2\n",
      "Values: [1 0]\n",
      "\n",
      "Number of unique values for the variable FLAG_PHONE: 2\n",
      "Values: [0 1]\n",
      "\n",
      "Number of unique values for the variable FLAG_EMAIL: 2\n",
      "Values: [0 1]\n",
      "\n",
      "Number of unique values for the variable CNT_FAM_MEMBERS: 10\n",
      "Values: [ 2.  1.  5.  3.  4.  6. 15.  7. 20.  9.]\n"
     ]
    }
   ],
   "source": [
    "for column_index in range(1,df1.shape[1]):\n",
    "    var=df1.iloc[:, column_index]\n",
    "    unique_values=var.unique()\n",
    "    num_unique_values=len(unique_values)\n",
    "    column_name = df1.columns[column_index]\n",
    "    print(f\"\\nNumber of unique values for the variable {column_name}: {num_unique_values}\")\n",
    "    if num_unique_values<=10:\n",
    "        print(f\"Values: {unique_values}\")\n",
    "    else:\n",
    "        print(\"More than 10 possible values\")"
   ]
  },
  {
   "cell_type": "markdown",
   "id": "f9227811",
   "metadata": {},
   "source": [
    "#### Variabili qualitative non ordinali: 'ID','NAME_INCOME_TYPE', 'NAME_FAMILY_STATUS', 'NAME_HOUSING_TYPE'\n",
    "#### Variabili qualitative ordinali: 'NAME_EDUCATION_TYPE', 'MONTHS_BALANCE'\n",
    "#### Variabili qualitative booleane: 'CODE_GENDER', 'FLAG_OWN_CAR', 'FLAG_OWN_REALTY', 'FLAG_MOBIL', 'FLAG_WORK_PHONE', 'FLAG_PHONE', 'FLAG_EMAIL'\n",
    "#### Variabili quantitative discrete: 'CNT_CHILDREN', 'DAYS_BIRTH', 'DAYS_EMPLOYED', 'CNT_FAM_MEMBERS\t'\n",
    "#### Variabili quantitative continue: 'AMT_INCOME_TOTAL'"
   ]
  },
  {
   "cell_type": "markdown",
   "id": "8797dcd8",
   "metadata": {},
   "source": [
    "#### Osservo che la variabile 'FLAG_MOBIL' ha un solo valore e inoltre non risulta apparentemente rilevante per l'analisi, per cui decido di rimuoverla"
   ]
  },
  {
   "cell_type": "code",
   "execution_count": 26,
   "id": "9902ffff",
   "metadata": {},
   "outputs": [
    {
     "data": {
      "text/html": [
       "<div>\n",
       "<style scoped>\n",
       "    .dataframe tbody tr th:only-of-type {\n",
       "        vertical-align: middle;\n",
       "    }\n",
       "\n",
       "    .dataframe tbody tr th {\n",
       "        vertical-align: top;\n",
       "    }\n",
       "\n",
       "    .dataframe thead th {\n",
       "        text-align: right;\n",
       "    }\n",
       "</style>\n",
       "<table border=\"1\" class=\"dataframe\">\n",
       "  <thead>\n",
       "    <tr style=\"text-align: right;\">\n",
       "      <th></th>\n",
       "      <th>ID</th>\n",
       "      <th>CODE_GENDER</th>\n",
       "      <th>FLAG_OWN_CAR</th>\n",
       "      <th>FLAG_OWN_REALTY</th>\n",
       "      <th>CNT_CHILDREN</th>\n",
       "      <th>AMT_INCOME_TOTAL</th>\n",
       "      <th>NAME_INCOME_TYPE</th>\n",
       "      <th>NAME_EDUCATION_TYPE</th>\n",
       "      <th>NAME_FAMILY_STATUS</th>\n",
       "      <th>NAME_HOUSING_TYPE</th>\n",
       "      <th>DAYS_BIRTH</th>\n",
       "      <th>DAYS_EMPLOYED</th>\n",
       "      <th>FLAG_WORK_PHONE</th>\n",
       "      <th>FLAG_PHONE</th>\n",
       "      <th>FLAG_EMAIL</th>\n",
       "      <th>CNT_FAM_MEMBERS</th>\n",
       "    </tr>\n",
       "  </thead>\n",
       "  <tbody>\n",
       "    <tr>\n",
       "      <th>0</th>\n",
       "      <td>5008804</td>\n",
       "      <td>M</td>\n",
       "      <td>Y</td>\n",
       "      <td>Y</td>\n",
       "      <td>0</td>\n",
       "      <td>427500.0</td>\n",
       "      <td>Working</td>\n",
       "      <td>Higher education</td>\n",
       "      <td>Civil marriage</td>\n",
       "      <td>Rented apartment</td>\n",
       "      <td>-12005</td>\n",
       "      <td>-4542</td>\n",
       "      <td>1</td>\n",
       "      <td>0</td>\n",
       "      <td>0</td>\n",
       "      <td>2.0</td>\n",
       "    </tr>\n",
       "    <tr>\n",
       "      <th>1</th>\n",
       "      <td>5008805</td>\n",
       "      <td>M</td>\n",
       "      <td>Y</td>\n",
       "      <td>Y</td>\n",
       "      <td>0</td>\n",
       "      <td>427500.0</td>\n",
       "      <td>Working</td>\n",
       "      <td>Higher education</td>\n",
       "      <td>Civil marriage</td>\n",
       "      <td>Rented apartment</td>\n",
       "      <td>-12005</td>\n",
       "      <td>-4542</td>\n",
       "      <td>1</td>\n",
       "      <td>0</td>\n",
       "      <td>0</td>\n",
       "      <td>2.0</td>\n",
       "    </tr>\n",
       "    <tr>\n",
       "      <th>2</th>\n",
       "      <td>5008806</td>\n",
       "      <td>M</td>\n",
       "      <td>Y</td>\n",
       "      <td>Y</td>\n",
       "      <td>0</td>\n",
       "      <td>112500.0</td>\n",
       "      <td>Working</td>\n",
       "      <td>Secondary / secondary special</td>\n",
       "      <td>Married</td>\n",
       "      <td>House / apartment</td>\n",
       "      <td>-21474</td>\n",
       "      <td>-1134</td>\n",
       "      <td>0</td>\n",
       "      <td>0</td>\n",
       "      <td>0</td>\n",
       "      <td>2.0</td>\n",
       "    </tr>\n",
       "    <tr>\n",
       "      <th>3</th>\n",
       "      <td>5008808</td>\n",
       "      <td>F</td>\n",
       "      <td>N</td>\n",
       "      <td>Y</td>\n",
       "      <td>0</td>\n",
       "      <td>270000.0</td>\n",
       "      <td>Commercial associate</td>\n",
       "      <td>Secondary / secondary special</td>\n",
       "      <td>Single / not married</td>\n",
       "      <td>House / apartment</td>\n",
       "      <td>-19110</td>\n",
       "      <td>-3051</td>\n",
       "      <td>0</td>\n",
       "      <td>1</td>\n",
       "      <td>1</td>\n",
       "      <td>1.0</td>\n",
       "    </tr>\n",
       "    <tr>\n",
       "      <th>4</th>\n",
       "      <td>5008809</td>\n",
       "      <td>F</td>\n",
       "      <td>N</td>\n",
       "      <td>Y</td>\n",
       "      <td>0</td>\n",
       "      <td>270000.0</td>\n",
       "      <td>Commercial associate</td>\n",
       "      <td>Secondary / secondary special</td>\n",
       "      <td>Single / not married</td>\n",
       "      <td>House / apartment</td>\n",
       "      <td>-19110</td>\n",
       "      <td>-3051</td>\n",
       "      <td>0</td>\n",
       "      <td>1</td>\n",
       "      <td>1</td>\n",
       "      <td>1.0</td>\n",
       "    </tr>\n",
       "  </tbody>\n",
       "</table>\n",
       "</div>"
      ],
      "text/plain": [
       "        ID CODE_GENDER FLAG_OWN_CAR FLAG_OWN_REALTY  CNT_CHILDREN  \\\n",
       "0  5008804           M            Y               Y             0   \n",
       "1  5008805           M            Y               Y             0   \n",
       "2  5008806           M            Y               Y             0   \n",
       "3  5008808           F            N               Y             0   \n",
       "4  5008809           F            N               Y             0   \n",
       "\n",
       "   AMT_INCOME_TOTAL      NAME_INCOME_TYPE            NAME_EDUCATION_TYPE  \\\n",
       "0          427500.0               Working               Higher education   \n",
       "1          427500.0               Working               Higher education   \n",
       "2          112500.0               Working  Secondary / secondary special   \n",
       "3          270000.0  Commercial associate  Secondary / secondary special   \n",
       "4          270000.0  Commercial associate  Secondary / secondary special   \n",
       "\n",
       "     NAME_FAMILY_STATUS  NAME_HOUSING_TYPE  DAYS_BIRTH  DAYS_EMPLOYED  \\\n",
       "0        Civil marriage   Rented apartment      -12005          -4542   \n",
       "1        Civil marriage   Rented apartment      -12005          -4542   \n",
       "2               Married  House / apartment      -21474          -1134   \n",
       "3  Single / not married  House / apartment      -19110          -3051   \n",
       "4  Single / not married  House / apartment      -19110          -3051   \n",
       "\n",
       "   FLAG_WORK_PHONE  FLAG_PHONE  FLAG_EMAIL  CNT_FAM_MEMBERS  \n",
       "0                1           0           0              2.0  \n",
       "1                1           0           0              2.0  \n",
       "2                0           0           0              2.0  \n",
       "3                0           1           1              1.0  \n",
       "4                0           1           1              1.0  "
      ]
     },
     "execution_count": 26,
     "metadata": {},
     "output_type": "execute_result"
    }
   ],
   "source": [
    "df1=df1.drop(\"FLAG_MOBIL\",axis=1)\n",
    "df1.head()"
   ]
  },
  {
   "cell_type": "markdown",
   "id": "36598f78",
   "metadata": {},
   "source": [
    "#### Osservo che la variabile 'CNT_CHILDREN' ha valori alti inusuali, per cui ne osservo la distribuzione "
   ]
  },
  {
   "cell_type": "code",
   "execution_count": 27,
   "id": "68ae8067",
   "metadata": {},
   "outputs": [
    {
     "data": {
      "image/png": "[encoded data removed]",
      "text/plain": [
       "<Figure size 640x480 with 1 Axes>"
      ]
     },
     "metadata": {},
     "output_type": "display_data"
    },
    {
     "name": "stdout",
     "output_type": "stream",
     "text": [
      "Min: 0 \n",
      "Max: 19\n"
     ]
    }
   ],
   "source": [
    "# Create histogram\n",
    "bins_number=max(df1[\"CNT_CHILDREN\"])-min(df1[\"CNT_CHILDREN\"])+1\n",
    "plt.hist(df1[\"CNT_CHILDREN\"], density=True, cumulative=True, bins=bins_number, align='left') \n",
    "\n",
    "# Add labels and title\n",
    "plt.xlabel('Values')\n",
    "x_ticks=np.arange(min(df1[\"CNT_CHILDREN\"]), max(df1[\"CNT_CHILDREN\"]) + 1, 1)\n",
    "plt.xticks(x_ticks)\n",
    "plt.ylabel('Normalized Frequency')\n",
    "plt.title('Cumulative Histogram')\n",
    "\n",
    "# Show plot\n",
    "plt.show()\n",
    "\n",
    "# Min and max values\n",
    "print(f'Min: {df1[\"CNT_CHILDREN\"].min()} \\nMax: {df1[\"CNT_CHILDREN\"].max()}')"
   ]
  },
  {
   "cell_type": "markdown",
   "id": "8a6cc9ac",
   "metadata": {},
   "source": [
    "#### Osserviamo che quasi il 100 % delle persone ha al più 3 figli, per cui manteniamo questi dati"
   ]
  },
  {
   "cell_type": "markdown",
   "id": "e89b39db",
   "metadata": {},
   "source": [
    "#### Il reddito annuale, che suppongo essere in euro, varia da 27 k a oltre 1 milione e mezzo, indicando soggetti con redditi da buoni a molto alti e comunque plausibili"
   ]
  },
  {
   "cell_type": "code",
   "execution_count": 28,
   "id": "772ebf17",
   "metadata": {},
   "outputs": [
    {
     "name": "stdout",
     "output_type": "stream",
     "text": [
      "The minimum and maximum ages are around: 21, 69\n"
     ]
    }
   ],
   "source": [
    "min_age=abs(df1[\"DAYS_BIRTH\"]).min()/365\n",
    "max_age=abs(df1[\"DAYS_BIRTH\"]).max()/365\n",
    "print(f\"The minimum and maximum ages are around: {round(min_age)}, {round(max_age)}\")"
   ]
  },
  {
   "cell_type": "markdown",
   "id": "6641b933",
   "metadata": {},
   "source": [
    "#### L'età minima e massima sono plausibili; inoltre, l'età minima per avere una carta di credito in Italia è di 18 anni, quindi questo requisito è presente nei dati"
   ]
  },
  {
   "cell_type": "code",
   "execution_count": 29,
   "id": "1f675540",
   "metadata": {},
   "outputs": [],
   "source": [
    "\"\"\"\n",
    "\n",
    "Function that checks if the date of birth is before the reference date for \n",
    "work\n",
    "\n",
    "\"\"\"\n",
    "\n",
    "def check_employment_variable_plausibility(days_employed,days_birth):\n",
    "    \n",
    "    days_birth=abs(days_birth)\n",
    "    days_employed=abs(days_employed)\n",
    "    \n",
    "    boolean_mask = days_employed >= days_birth \n",
    "    \n",
    "    if sum(boolean_mask) > 0:\n",
    "        print(\"Attention! Some samples have incompatible 'DAYS_BIRTH' and 'DAYS_EMPLOYED' features!\")\n",
    "        \n",
    "    else:\n",
    "        boolean_mask=None\n",
    "    \n",
    "    return boolean_mask\n",
    "        "
   ]
  },
  {
   "cell_type": "code",
   "execution_count": 30,
   "id": "031dc374",
   "metadata": {},
   "outputs": [
    {
     "name": "stdout",
     "output_type": "stream",
     "text": [
      "Attention! Some samples have incompatible 'DAYS_BIRTH' and 'DAYS_EMPLOYED' features!\n"
     ]
    }
   ],
   "source": [
    "days_employed,days_birth=df1[\"DAYS_EMPLOYED\"],df1[\"DAYS_BIRTH\"]\n",
    "boolean_mask=check_employment_variable_plausibility(days_employed,days_birth)"
   ]
  },
  {
   "cell_type": "code",
   "execution_count": 31,
   "id": "4ee7640d",
   "metadata": {},
   "outputs": [
    {
     "data": {
      "text/html": [
       "<div>\n",
       "<style scoped>\n",
       "    .dataframe tbody tr th:only-of-type {\n",
       "        vertical-align: middle;\n",
       "    }\n",
       "\n",
       "    .dataframe tbody tr th {\n",
       "        vertical-align: top;\n",
       "    }\n",
       "\n",
       "    .dataframe thead th {\n",
       "        text-align: right;\n",
       "    }\n",
       "</style>\n",
       "<table border=\"1\" class=\"dataframe\">\n",
       "  <thead>\n",
       "    <tr style=\"text-align: right;\">\n",
       "      <th></th>\n",
       "      <th>ID</th>\n",
       "      <th>CODE_GENDER</th>\n",
       "      <th>FLAG_OWN_CAR</th>\n",
       "      <th>FLAG_OWN_REALTY</th>\n",
       "      <th>CNT_CHILDREN</th>\n",
       "      <th>AMT_INCOME_TOTAL</th>\n",
       "      <th>NAME_INCOME_TYPE</th>\n",
       "      <th>NAME_EDUCATION_TYPE</th>\n",
       "      <th>NAME_FAMILY_STATUS</th>\n",
       "      <th>NAME_HOUSING_TYPE</th>\n",
       "      <th>DAYS_BIRTH</th>\n",
       "      <th>DAYS_EMPLOYED</th>\n",
       "      <th>FLAG_WORK_PHONE</th>\n",
       "      <th>FLAG_PHONE</th>\n",
       "      <th>FLAG_EMAIL</th>\n",
       "      <th>CNT_FAM_MEMBERS</th>\n",
       "    </tr>\n",
       "  </thead>\n",
       "  <tbody>\n",
       "    <tr>\n",
       "      <th>7</th>\n",
       "      <td>5008812</td>\n",
       "      <td>F</td>\n",
       "      <td>N</td>\n",
       "      <td>Y</td>\n",
       "      <td>0</td>\n",
       "      <td>283500.0</td>\n",
       "      <td>Pensioner</td>\n",
       "      <td>Higher education</td>\n",
       "      <td>Separated</td>\n",
       "      <td>House / apartment</td>\n",
       "      <td>-22464</td>\n",
       "      <td>365243</td>\n",
       "      <td>0</td>\n",
       "      <td>0</td>\n",
       "      <td>0</td>\n",
       "      <td>1.0</td>\n",
       "    </tr>\n",
       "    <tr>\n",
       "      <th>8</th>\n",
       "      <td>5008813</td>\n",
       "      <td>F</td>\n",
       "      <td>N</td>\n",
       "      <td>Y</td>\n",
       "      <td>0</td>\n",
       "      <td>283500.0</td>\n",
       "      <td>Pensioner</td>\n",
       "      <td>Higher education</td>\n",
       "      <td>Separated</td>\n",
       "      <td>House / apartment</td>\n",
       "      <td>-22464</td>\n",
       "      <td>365243</td>\n",
       "      <td>0</td>\n",
       "      <td>0</td>\n",
       "      <td>0</td>\n",
       "      <td>1.0</td>\n",
       "    </tr>\n",
       "    <tr>\n",
       "      <th>9</th>\n",
       "      <td>5008814</td>\n",
       "      <td>F</td>\n",
       "      <td>N</td>\n",
       "      <td>Y</td>\n",
       "      <td>0</td>\n",
       "      <td>283500.0</td>\n",
       "      <td>Pensioner</td>\n",
       "      <td>Higher education</td>\n",
       "      <td>Separated</td>\n",
       "      <td>House / apartment</td>\n",
       "      <td>-22464</td>\n",
       "      <td>365243</td>\n",
       "      <td>0</td>\n",
       "      <td>0</td>\n",
       "      <td>0</td>\n",
       "      <td>1.0</td>\n",
       "    </tr>\n",
       "    <tr>\n",
       "      <th>76</th>\n",
       "      <td>5008884</td>\n",
       "      <td>F</td>\n",
       "      <td>N</td>\n",
       "      <td>Y</td>\n",
       "      <td>0</td>\n",
       "      <td>315000.0</td>\n",
       "      <td>Pensioner</td>\n",
       "      <td>Secondary / secondary special</td>\n",
       "      <td>Widow</td>\n",
       "      <td>House / apartment</td>\n",
       "      <td>-20186</td>\n",
       "      <td>365243</td>\n",
       "      <td>0</td>\n",
       "      <td>0</td>\n",
       "      <td>0</td>\n",
       "      <td>1.0</td>\n",
       "    </tr>\n",
       "    <tr>\n",
       "      <th>160</th>\n",
       "      <td>5008974</td>\n",
       "      <td>F</td>\n",
       "      <td>N</td>\n",
       "      <td>Y</td>\n",
       "      <td>0</td>\n",
       "      <td>112500.0</td>\n",
       "      <td>Pensioner</td>\n",
       "      <td>Secondary / secondary special</td>\n",
       "      <td>Married</td>\n",
       "      <td>House / apartment</td>\n",
       "      <td>-22319</td>\n",
       "      <td>365243</td>\n",
       "      <td>0</td>\n",
       "      <td>0</td>\n",
       "      <td>0</td>\n",
       "      <td>2.0</td>\n",
       "    </tr>\n",
       "  </tbody>\n",
       "</table>\n",
       "</div>"
      ],
      "text/plain": [
       "          ID CODE_GENDER FLAG_OWN_CAR FLAG_OWN_REALTY  CNT_CHILDREN  \\\n",
       "7    5008812           F            N               Y             0   \n",
       "8    5008813           F            N               Y             0   \n",
       "9    5008814           F            N               Y             0   \n",
       "76   5008884           F            N               Y             0   \n",
       "160  5008974           F            N               Y             0   \n",
       "\n",
       "     AMT_INCOME_TOTAL NAME_INCOME_TYPE            NAME_EDUCATION_TYPE  \\\n",
       "7            283500.0        Pensioner               Higher education   \n",
       "8            283500.0        Pensioner               Higher education   \n",
       "9            283500.0        Pensioner               Higher education   \n",
       "76           315000.0        Pensioner  Secondary / secondary special   \n",
       "160          112500.0        Pensioner  Secondary / secondary special   \n",
       "\n",
       "    NAME_FAMILY_STATUS  NAME_HOUSING_TYPE  DAYS_BIRTH  DAYS_EMPLOYED  \\\n",
       "7            Separated  House / apartment      -22464         365243   \n",
       "8            Separated  House / apartment      -22464         365243   \n",
       "9            Separated  House / apartment      -22464         365243   \n",
       "76               Widow  House / apartment      -20186         365243   \n",
       "160            Married  House / apartment      -22319         365243   \n",
       "\n",
       "     FLAG_WORK_PHONE  FLAG_PHONE  FLAG_EMAIL  CNT_FAM_MEMBERS  \n",
       "7                  0           0           0              1.0  \n",
       "8                  0           0           0              1.0  \n",
       "9                  0           0           0              1.0  \n",
       "76                 0           0           0              1.0  \n",
       "160                0           0           0              2.0  "
      ]
     },
     "execution_count": 31,
     "metadata": {},
     "output_type": "execute_result"
    }
   ],
   "source": [
    "df1[boolean_mask].head()"
   ]
  },
  {
   "cell_type": "markdown",
   "id": "cddea760",
   "metadata": {},
   "source": [
    "#### Alcune osservazioni presentano una data di nascita successiva alla data da cui si inizia a lavorare/si smette di lavorare. Queste osservazioni vengono eliminate"
   ]
  },
  {
   "cell_type": "code",
   "execution_count": 32,
   "id": "2be3b42a",
   "metadata": {},
   "outputs": [],
   "source": [
    "if boolean_mask is not None:\n",
    "    df1=df1[~boolean_mask]"
   ]
  },
  {
   "cell_type": "code",
   "execution_count": 33,
   "id": "e4348e5c",
   "metadata": {},
   "outputs": [
    {
     "data": {
      "text/plain": [
       "0.0"
      ]
     },
     "execution_count": 33,
     "metadata": {},
     "output_type": "execute_result"
    }
   ],
   "source": [
    "sum((abs(df1[\"DAYS_BIRTH\"]) - abs(df1[\"DAYS_EMPLOYED\"]))/365 < 15)/df1.shape[0]*100"
   ]
  },
  {
   "cell_type": "markdown",
   "id": "8c300633",
   "metadata": {},
   "source": [
    "#### Non ci sono persone che hanno iniziato a lavorare prima dell'età minima in Italia (15 anni)"
   ]
  },
  {
   "cell_type": "code",
   "execution_count": 34,
   "id": "e7b30410",
   "metadata": {},
   "outputs": [
    {
     "data": {
      "image/png": "[encoded data removed]",
      "text/plain": [
       "<Figure size 640x480 with 1 Axes>"
      ]
     },
     "metadata": {},
     "output_type": "display_data"
    },
    {
     "name": "stdout",
     "output_type": "stream",
     "text": [
      "Min: 1 \n",
      "Max: 20\n"
     ]
    }
   ],
   "source": [
    "# Create histogram\n",
    "bins_number=max(df1[\"CNT_FAM_MEMBERS\"])-min(df1[\"CNT_FAM_MEMBERS\"])+1\n",
    "plt.hist(df1[\"CNT_FAM_MEMBERS\"], density=True, cumulative=True, bins=int(bins_number), align='left') \n",
    "\n",
    "# Add labels and title\n",
    "plt.xlabel('Values')\n",
    "x_ticks=np.arange(min(df1[\"CNT_FAM_MEMBERS\"]), max(df1[\"CNT_FAM_MEMBERS\"]) + 1, 1)\n",
    "plt.xticks(x_ticks)\n",
    "plt.ylabel('Normalized Frequency')\n",
    "plt.title('Cumulative Histogram')\n",
    "\n",
    "# Show plot\n",
    "plt.show()\n",
    "\n",
    "# Min and max values\n",
    "print(f'Min: {int(df1[\"CNT_FAM_MEMBERS\"].min())} \\nMax: {int(df1[\"CNT_FAM_MEMBERS\"].max())}')\n"
   ]
  },
  {
   "cell_type": "markdown",
   "id": "aae92019",
   "metadata": {},
   "source": [
    "#### Il numero di membri della famiglia 'CNT_FAM_MEMBERS' varia da un minimo di 1 a un massimo di 20. Quasi il 100 % delle persone ha un numero di membri pari o inferiore a 5, numero plausibile"
   ]
  },
  {
   "cell_type": "markdown",
   "id": "ffbfe0be",
   "metadata": {},
   "source": [
    "### STATISTICS: df2"
   ]
  },
  {
   "cell_type": "code",
   "execution_count": 35,
   "id": "fa412949",
   "metadata": {},
   "outputs": [],
   "source": [
    "boolean_mask = df2['ID'].isin(df1['ID']) # check if each df2 ID is contained in df1 IDs"
   ]
  },
  {
   "cell_type": "code",
   "execution_count": 36,
   "id": "dfe8d0d2",
   "metadata": {},
   "outputs": [
    {
     "data": {
      "text/plain": [
       "(1048575,)"
      ]
     },
     "execution_count": 36,
     "metadata": {},
     "output_type": "execute_result"
    }
   ],
   "source": [
    "boolean_mask.shape"
   ]
  },
  {
   "cell_type": "code",
   "execution_count": 37,
   "id": "d584616f",
   "metadata": {},
   "outputs": [
    {
     "data": {
      "text/plain": [
       "0    False\n",
       "1    False\n",
       "2    False\n",
       "3    False\n",
       "4    False\n",
       "Name: ID, dtype: bool"
      ]
     },
     "execution_count": 37,
     "metadata": {},
     "output_type": "execute_result"
    }
   ],
   "source": [
    "boolean_mask.head()"
   ]
  },
  {
   "cell_type": "code",
   "execution_count": 38,
   "id": "52fe5c23",
   "metadata": {},
   "outputs": [
    {
     "data": {
      "text/plain": [
       "(1048575, 3)"
      ]
     },
     "execution_count": 38,
     "metadata": {},
     "output_type": "execute_result"
    }
   ],
   "source": [
    "df2.shape"
   ]
  },
  {
   "cell_type": "markdown",
   "id": "9a1172e1",
   "metadata": {},
   "source": [
    "#### Mantengo soltanto gli IDs di df2 che avranno dei valori in df1"
   ]
  },
  {
   "cell_type": "code",
   "execution_count": 39,
   "id": "833fbd57",
   "metadata": {},
   "outputs": [],
   "source": [
    "df2=df2[boolean_mask]"
   ]
  },
  {
   "cell_type": "code",
   "execution_count": 40,
   "id": "c4229d7f",
   "metadata": {},
   "outputs": [
    {
     "data": {
      "text/html": [
       "<div>\n",
       "<style scoped>\n",
       "    .dataframe tbody tr th:only-of-type {\n",
       "        vertical-align: middle;\n",
       "    }\n",
       "\n",
       "    .dataframe tbody tr th {\n",
       "        vertical-align: top;\n",
       "    }\n",
       "\n",
       "    .dataframe thead th {\n",
       "        text-align: right;\n",
       "    }\n",
       "</style>\n",
       "<table border=\"1\" class=\"dataframe\">\n",
       "  <thead>\n",
       "    <tr style=\"text-align: right;\">\n",
       "      <th></th>\n",
       "      <th>ID</th>\n",
       "      <th>MONTHS_BALANCE</th>\n",
       "    </tr>\n",
       "  </thead>\n",
       "  <tbody>\n",
       "    <tr>\n",
       "      <th>count</th>\n",
       "      <td>6.497430e+05</td>\n",
       "      <td>649743.000000</td>\n",
       "    </tr>\n",
       "    <tr>\n",
       "      <th>mean</th>\n",
       "      <td>5.079218e+06</td>\n",
       "      <td>-19.343351</td>\n",
       "    </tr>\n",
       "    <tr>\n",
       "      <th>std</th>\n",
       "      <td>4.180550e+04</td>\n",
       "      <td>14.055767</td>\n",
       "    </tr>\n",
       "    <tr>\n",
       "      <th>min</th>\n",
       "      <td>5.008804e+06</td>\n",
       "      <td>-60.000000</td>\n",
       "    </tr>\n",
       "    <tr>\n",
       "      <th>25%</th>\n",
       "      <td>5.045230e+06</td>\n",
       "      <td>-29.000000</td>\n",
       "    </tr>\n",
       "    <tr>\n",
       "      <th>50%</th>\n",
       "      <td>5.078988e+06</td>\n",
       "      <td>-17.000000</td>\n",
       "    </tr>\n",
       "    <tr>\n",
       "      <th>75%</th>\n",
       "      <td>5.115669e+06</td>\n",
       "      <td>-8.000000</td>\n",
       "    </tr>\n",
       "    <tr>\n",
       "      <th>max</th>\n",
       "      <td>5.150487e+06</td>\n",
       "      <td>0.000000</td>\n",
       "    </tr>\n",
       "  </tbody>\n",
       "</table>\n",
       "</div>"
      ],
      "text/plain": [
       "                 ID  MONTHS_BALANCE\n",
       "count  6.497430e+05   649743.000000\n",
       "mean   5.079218e+06      -19.343351\n",
       "std    4.180550e+04       14.055767\n",
       "min    5.008804e+06      -60.000000\n",
       "25%    5.045230e+06      -29.000000\n",
       "50%    5.078988e+06      -17.000000\n",
       "75%    5.115669e+06       -8.000000\n",
       "max    5.150487e+06        0.000000"
      ]
     },
     "execution_count": 40,
     "metadata": {},
     "output_type": "execute_result"
    }
   ],
   "source": [
    "df2.describe()"
   ]
  },
  {
   "cell_type": "code",
   "execution_count": 41,
   "id": "ffbebf21",
   "metadata": {},
   "outputs": [
    {
     "data": {
      "text/plain": [
       "5.0"
      ]
     },
     "execution_count": 41,
     "metadata": {},
     "output_type": "execute_result"
    }
   ],
   "source": [
    "abs(df2[\"MONTHS_BALANCE\"].min())/12"
   ]
  },
  {
   "cell_type": "markdown",
   "id": "790f87ed",
   "metadata": {},
   "source": [
    "#### I dati sono stati raccolti in un range di tempo che va da 0 mesi a 5 anni"
   ]
  },
  {
   "cell_type": "code",
   "execution_count": 42,
   "id": "0f0512b4",
   "metadata": {},
   "outputs": [
    {
     "data": {
      "text/plain": [
       "ID\n",
       "5008804    16\n",
       "5008805    15\n",
       "5008806    30\n",
       "5008808     5\n",
       "5008809     5\n",
       "           ..\n",
       "5150482    18\n",
       "5150483    18\n",
       "5150484    13\n",
       "5150485     2\n",
       "5150487    30\n",
       "Length: 30322, dtype: int64"
      ]
     },
     "execution_count": 42,
     "metadata": {},
     "output_type": "execute_result"
    }
   ],
   "source": [
    "df2.groupby(\"ID\").size()"
   ]
  },
  {
   "cell_type": "code",
   "execution_count": 43,
   "id": "5e3df2f9",
   "metadata": {},
   "outputs": [
    {
     "data": {
      "text/plain": [
       "{'whiskers': [<matplotlib.lines.Line2D at 0x21f011d2910>,\n",
       "  <matplotlib.lines.Line2D at 0x21f0437f790>],\n",
       " 'caps': [<matplotlib.lines.Line2D at 0x21f044d4610>,\n",
       "  <matplotlib.lines.Line2D at 0x21f04388910>],\n",
       " 'boxes': [<matplotlib.lines.Line2D at 0x21f04354450>],\n",
       " 'medians': [<matplotlib.lines.Line2D at 0x21f043891d0>],\n",
       " 'fliers': [<matplotlib.lines.Line2D at 0x21f04349ed0>],\n",
       " 'means': []}"
      ]
     },
     "execution_count": 43,
     "metadata": {},
     "output_type": "execute_result"
    },
    {
     "data": {
      "image/png": "[encoded data removed]",
      "text/plain": [
       "<Figure size 640x480 with 1 Axes>"
      ]
     },
     "metadata": {},
     "output_type": "display_data"
    }
   ],
   "source": [
    "plt.boxplot(df2.groupby(\"ID\").size())"
   ]
  },
  {
   "cell_type": "code",
   "execution_count": 44,
   "id": "88cd8680",
   "metadata": {},
   "outputs": [
    {
     "data": {
      "text/plain": [
       "1"
      ]
     },
     "execution_count": 44,
     "metadata": {},
     "output_type": "execute_result"
    }
   ],
   "source": [
    "df2.groupby(\"ID\").size().min()"
   ]
  },
  {
   "cell_type": "code",
   "execution_count": 45,
   "id": "98a3eb3c",
   "metadata": {},
   "outputs": [
    {
     "data": {
      "text/plain": [
       "61"
      ]
     },
     "execution_count": 45,
     "metadata": {},
     "output_type": "execute_result"
    }
   ],
   "source": [
    "df2.groupby(\"ID\").size().max()"
   ]
  },
  {
   "cell_type": "markdown",
   "id": "5a32d7a2",
   "metadata": {},
   "source": [
    "#### Il numero di STATI della carta di credito non è uniforme sui vari IDs e varia da un minimo di 1 a un massimo di 61, con distribuzione come mostrata nel boxplot: circa 25 % degli IDs ha tra 1 e 10 STATI, circa il 50 % ha tra 10 e 30 STATI, il rimanente 25 % ha tra 30 e 61 STATI"
   ]
  },
  {
   "cell_type": "markdown",
   "id": "8ba81ff9",
   "metadata": {},
   "source": [
    "#### SIGNIFICATO DEGLI STATI:\n",
    "#### \"PAST DUE\" è un termine che include qualsiasi pagamento in ritardo, mentre \"OVERDUE\" indica specificamente che un pagamento è in ritardo di un periodo significativo oltre la sua scadenza.\n",
    "#### \"PAID OFF THAT MONTH\": debiti erano presenti sulla tua carta di credito durante il mese, ma sono stati saldati.\n",
    "#### \"NO LOAN FOR THE MONTH\": non c'era alcun debito sulla carta di credito in nessun momento durante il mese."
   ]
  },
  {
   "cell_type": "code",
   "execution_count": 46,
   "id": "7b788bcb",
   "metadata": {},
   "outputs": [
    {
     "data": {
      "text/html": [
       "<div>\n",
       "<style scoped>\n",
       "    .dataframe tbody tr th:only-of-type {\n",
       "        vertical-align: middle;\n",
       "    }\n",
       "\n",
       "    .dataframe tbody tr th {\n",
       "        vertical-align: top;\n",
       "    }\n",
       "\n",
       "    .dataframe thead th {\n",
       "        text-align: right;\n",
       "    }\n",
       "</style>\n",
       "<table border=\"1\" class=\"dataframe\">\n",
       "  <thead>\n",
       "    <tr style=\"text-align: right;\">\n",
       "      <th></th>\n",
       "      <th>ID</th>\n",
       "      <th>MONTHS_BALANCE</th>\n",
       "      <th>STATUS</th>\n",
       "    </tr>\n",
       "  </thead>\n",
       "  <tbody>\n",
       "    <tr>\n",
       "      <th>92938</th>\n",
       "      <td>5008804</td>\n",
       "      <td>0</td>\n",
       "      <td>C</td>\n",
       "    </tr>\n",
       "    <tr>\n",
       "      <th>92939</th>\n",
       "      <td>5008804</td>\n",
       "      <td>-1</td>\n",
       "      <td>C</td>\n",
       "    </tr>\n",
       "    <tr>\n",
       "      <th>92940</th>\n",
       "      <td>5008804</td>\n",
       "      <td>-2</td>\n",
       "      <td>C</td>\n",
       "    </tr>\n",
       "    <tr>\n",
       "      <th>92941</th>\n",
       "      <td>5008804</td>\n",
       "      <td>-3</td>\n",
       "      <td>C</td>\n",
       "    </tr>\n",
       "    <tr>\n",
       "      <th>92942</th>\n",
       "      <td>5008804</td>\n",
       "      <td>-4</td>\n",
       "      <td>C</td>\n",
       "    </tr>\n",
       "  </tbody>\n",
       "</table>\n",
       "</div>"
      ],
      "text/plain": [
       "            ID  MONTHS_BALANCE STATUS\n",
       "92938  5008804               0      C\n",
       "92939  5008804              -1      C\n",
       "92940  5008804              -2      C\n",
       "92941  5008804              -3      C\n",
       "92942  5008804              -4      C"
      ]
     },
     "execution_count": 46,
     "metadata": {},
     "output_type": "execute_result"
    }
   ],
   "source": [
    "df2.head()"
   ]
  },
  {
   "cell_type": "markdown",
   "id": "25b0c4f1",
   "metadata": {},
   "source": [
    "#### Creo una copia di df2 da modificare per definire l'output di ogni ID"
   ]
  },
  {
   "cell_type": "code",
   "execution_count": 47,
   "id": "1d1c2136",
   "metadata": {},
   "outputs": [],
   "source": [
    "df3=df2.copy()"
   ]
  },
  {
   "cell_type": "markdown",
   "id": "98bf5e40",
   "metadata": {},
   "source": [
    "#### Assegno i seguenti punteggi ai diversi stati:\n",
    "#### 0: no loan for the month\n",
    "#### 1: paid off that month\n",
    "#### 2: 1-29 days past due\n",
    "#### 3: 30-59 days past due\n",
    "#### 4: 60-89 days overdue\n",
    "#### 5: 90-119 days overdue\n",
    "#### 6: 120-149 days overdue\n",
    "#### 7: overdue or bad debts\n",
    "#### Valori più bassi indicano un comportamento migliore; un valore pari a 0 indica l'assenza di debiti\n",
    "#### Nota: tenere in considerazione che non tutti i soggetti hanno avuto lo stesso tempo di osservazione"
   ]
  },
  {
   "cell_type": "code",
   "execution_count": 48,
   "id": "575dd859",
   "metadata": {},
   "outputs": [],
   "source": [
    "status_mapping={'0':2,'1':3,'2':4,'3':5,'4':6,'5':7,'X':0,'C':1}\n",
    "df3[\"STATUS\"] = df3[\"STATUS\"].map(status_mapping)"
   ]
  },
  {
   "cell_type": "code",
   "execution_count": 49,
   "id": "df205527",
   "metadata": {},
   "outputs": [
    {
     "data": {
      "text/plain": [
       "array([1, 3, 2, 0, 4, 5, 7, 6], dtype=int64)"
      ]
     },
     "execution_count": 49,
     "metadata": {},
     "output_type": "execute_result"
    }
   ],
   "source": [
    "df3[\"STATUS\"].unique()"
   ]
  },
  {
   "cell_type": "code",
   "execution_count": 50,
   "id": "425c51f8",
   "metadata": {},
   "outputs": [
    {
     "data": {
      "text/html": [
       "<div>\n",
       "<style scoped>\n",
       "    .dataframe tbody tr th:only-of-type {\n",
       "        vertical-align: middle;\n",
       "    }\n",
       "\n",
       "    .dataframe tbody tr th {\n",
       "        vertical-align: top;\n",
       "    }\n",
       "\n",
       "    .dataframe thead th {\n",
       "        text-align: right;\n",
       "    }\n",
       "</style>\n",
       "<table border=\"1\" class=\"dataframe\">\n",
       "  <thead>\n",
       "    <tr style=\"text-align: right;\">\n",
       "      <th></th>\n",
       "      <th>ID</th>\n",
       "      <th>MONTHS_BALANCE</th>\n",
       "      <th>STATUS</th>\n",
       "    </tr>\n",
       "  </thead>\n",
       "  <tbody>\n",
       "    <tr>\n",
       "      <th>92938</th>\n",
       "      <td>5008804</td>\n",
       "      <td>0</td>\n",
       "      <td>1</td>\n",
       "    </tr>\n",
       "    <tr>\n",
       "      <th>92939</th>\n",
       "      <td>5008804</td>\n",
       "      <td>-1</td>\n",
       "      <td>1</td>\n",
       "    </tr>\n",
       "    <tr>\n",
       "      <th>92940</th>\n",
       "      <td>5008804</td>\n",
       "      <td>-2</td>\n",
       "      <td>1</td>\n",
       "    </tr>\n",
       "    <tr>\n",
       "      <th>92941</th>\n",
       "      <td>5008804</td>\n",
       "      <td>-3</td>\n",
       "      <td>1</td>\n",
       "    </tr>\n",
       "    <tr>\n",
       "      <th>92942</th>\n",
       "      <td>5008804</td>\n",
       "      <td>-4</td>\n",
       "      <td>1</td>\n",
       "    </tr>\n",
       "  </tbody>\n",
       "</table>\n",
       "</div>"
      ],
      "text/plain": [
       "            ID  MONTHS_BALANCE  STATUS\n",
       "92938  5008804               0       1\n",
       "92939  5008804              -1       1\n",
       "92940  5008804              -2       1\n",
       "92941  5008804              -3       1\n",
       "92942  5008804              -4       1"
      ]
     },
     "execution_count": 50,
     "metadata": {},
     "output_type": "execute_result"
    }
   ],
   "source": [
    "df3.head()"
   ]
  },
  {
   "cell_type": "markdown",
   "id": "bec600ec",
   "metadata": {},
   "source": [
    "#### Mantengo solamente gli ID osservati per almeno 12 mesi"
   ]
  },
  {
   "cell_type": "code",
   "execution_count": 51,
   "id": "2adfd190",
   "metadata": {},
   "outputs": [],
   "source": [
    "threshold = 12"
   ]
  },
  {
   "cell_type": "code",
   "execution_count": 52,
   "id": "71f19244",
   "metadata": {},
   "outputs": [
    {
     "data": {
      "text/plain": [
       "ID\n",
       "5008804    16\n",
       "5008805    15\n",
       "5008806    30\n",
       "5008808     5\n",
       "5008809     5\n",
       "           ..\n",
       "5150482    18\n",
       "5150483    18\n",
       "5150484    13\n",
       "5150485     2\n",
       "5150487    30\n",
       "Length: 30322, dtype: int64"
      ]
     },
     "execution_count": 52,
     "metadata": {},
     "output_type": "execute_result"
    }
   ],
   "source": [
    "id_counts = df3.groupby('ID').size()\n",
    "id_counts"
   ]
  },
  {
   "cell_type": "code",
   "execution_count": 53,
   "id": "cf755ab9",
   "metadata": {},
   "outputs": [
    {
     "data": {
      "text/plain": [
       "Int64Index([5008804, 5008805, 5008806, 5008810, 5008811, 5008825, 5008826,\n",
       "            5008830, 5008831, 5008832,\n",
       "            ...\n",
       "            5150475, 5150476, 5150477, 5150478, 5150480, 5150481, 5150482,\n",
       "            5150483, 5150484, 5150487],\n",
       "           dtype='int64', name='ID', length=20627)"
      ]
     },
     "execution_count": 53,
     "metadata": {},
     "output_type": "execute_result"
    }
   ],
   "source": [
    "valid_ids = id_counts[id_counts >= threshold].index\n",
    "valid_ids"
   ]
  },
  {
   "cell_type": "code",
   "execution_count": 54,
   "id": "1890b270",
   "metadata": {},
   "outputs": [
    {
     "data": {
      "text/html": [
       "<div>\n",
       "<style scoped>\n",
       "    .dataframe tbody tr th:only-of-type {\n",
       "        vertical-align: middle;\n",
       "    }\n",
       "\n",
       "    .dataframe tbody tr th {\n",
       "        vertical-align: top;\n",
       "    }\n",
       "\n",
       "    .dataframe thead th {\n",
       "        text-align: right;\n",
       "    }\n",
       "</style>\n",
       "<table border=\"1\" class=\"dataframe\">\n",
       "  <thead>\n",
       "    <tr style=\"text-align: right;\">\n",
       "      <th></th>\n",
       "      <th>ID</th>\n",
       "      <th>MONTHS_BALANCE</th>\n",
       "      <th>STATUS</th>\n",
       "    </tr>\n",
       "  </thead>\n",
       "  <tbody>\n",
       "    <tr>\n",
       "      <th>92954</th>\n",
       "      <td>5008805</td>\n",
       "      <td>0</td>\n",
       "      <td>1</td>\n",
       "    </tr>\n",
       "    <tr>\n",
       "      <th>92955</th>\n",
       "      <td>5008805</td>\n",
       "      <td>-1</td>\n",
       "      <td>1</td>\n",
       "    </tr>\n",
       "    <tr>\n",
       "      <th>92956</th>\n",
       "      <td>5008805</td>\n",
       "      <td>-2</td>\n",
       "      <td>1</td>\n",
       "    </tr>\n",
       "    <tr>\n",
       "      <th>92957</th>\n",
       "      <td>5008805</td>\n",
       "      <td>-3</td>\n",
       "      <td>1</td>\n",
       "    </tr>\n",
       "    <tr>\n",
       "      <th>92958</th>\n",
       "      <td>5008805</td>\n",
       "      <td>-4</td>\n",
       "      <td>1</td>\n",
       "    </tr>\n",
       "    <tr>\n",
       "      <th>92959</th>\n",
       "      <td>5008805</td>\n",
       "      <td>-5</td>\n",
       "      <td>1</td>\n",
       "    </tr>\n",
       "    <tr>\n",
       "      <th>92960</th>\n",
       "      <td>5008805</td>\n",
       "      <td>-6</td>\n",
       "      <td>1</td>\n",
       "    </tr>\n",
       "    <tr>\n",
       "      <th>92961</th>\n",
       "      <td>5008805</td>\n",
       "      <td>-7</td>\n",
       "      <td>1</td>\n",
       "    </tr>\n",
       "    <tr>\n",
       "      <th>92962</th>\n",
       "      <td>5008805</td>\n",
       "      <td>-8</td>\n",
       "      <td>1</td>\n",
       "    </tr>\n",
       "    <tr>\n",
       "      <th>92963</th>\n",
       "      <td>5008805</td>\n",
       "      <td>-9</td>\n",
       "      <td>1</td>\n",
       "    </tr>\n",
       "    <tr>\n",
       "      <th>92964</th>\n",
       "      <td>5008805</td>\n",
       "      <td>-10</td>\n",
       "      <td>1</td>\n",
       "    </tr>\n",
       "    <tr>\n",
       "      <th>92965</th>\n",
       "      <td>5008805</td>\n",
       "      <td>-11</td>\n",
       "      <td>1</td>\n",
       "    </tr>\n",
       "    <tr>\n",
       "      <th>92966</th>\n",
       "      <td>5008805</td>\n",
       "      <td>-12</td>\n",
       "      <td>3</td>\n",
       "    </tr>\n",
       "    <tr>\n",
       "      <th>92967</th>\n",
       "      <td>5008805</td>\n",
       "      <td>-13</td>\n",
       "      <td>2</td>\n",
       "    </tr>\n",
       "    <tr>\n",
       "      <th>92968</th>\n",
       "      <td>5008805</td>\n",
       "      <td>-14</td>\n",
       "      <td>0</td>\n",
       "    </tr>\n",
       "  </tbody>\n",
       "</table>\n",
       "</div>"
      ],
      "text/plain": [
       "            ID  MONTHS_BALANCE  STATUS\n",
       "92954  5008805               0       1\n",
       "92955  5008805              -1       1\n",
       "92956  5008805              -2       1\n",
       "92957  5008805              -3       1\n",
       "92958  5008805              -4       1\n",
       "92959  5008805              -5       1\n",
       "92960  5008805              -6       1\n",
       "92961  5008805              -7       1\n",
       "92962  5008805              -8       1\n",
       "92963  5008805              -9       1\n",
       "92964  5008805             -10       1\n",
       "92965  5008805             -11       1\n",
       "92966  5008805             -12       3\n",
       "92967  5008805             -13       2\n",
       "92968  5008805             -14       0"
      ]
     },
     "execution_count": 54,
     "metadata": {},
     "output_type": "execute_result"
    }
   ],
   "source": [
    "df3[df3[\"ID\"]==5008805]"
   ]
  },
  {
   "cell_type": "code",
   "execution_count": 55,
   "id": "d8d05ce3",
   "metadata": {},
   "outputs": [
    {
     "data": {
      "text/html": [
       "<div>\n",
       "<style scoped>\n",
       "    .dataframe tbody tr th:only-of-type {\n",
       "        vertical-align: middle;\n",
       "    }\n",
       "\n",
       "    .dataframe tbody tr th {\n",
       "        vertical-align: top;\n",
       "    }\n",
       "\n",
       "    .dataframe thead th {\n",
       "        text-align: right;\n",
       "    }\n",
       "</style>\n",
       "<table border=\"1\" class=\"dataframe\">\n",
       "  <thead>\n",
       "    <tr style=\"text-align: right;\">\n",
       "      <th></th>\n",
       "      <th>ID</th>\n",
       "      <th>MONTHS_BALANCE</th>\n",
       "      <th>STATUS</th>\n",
       "    </tr>\n",
       "  </thead>\n",
       "  <tbody>\n",
       "    <tr>\n",
       "      <th>92938</th>\n",
       "      <td>5008804</td>\n",
       "      <td>0</td>\n",
       "      <td>1</td>\n",
       "    </tr>\n",
       "    <tr>\n",
       "      <th>92939</th>\n",
       "      <td>5008804</td>\n",
       "      <td>-1</td>\n",
       "      <td>1</td>\n",
       "    </tr>\n",
       "    <tr>\n",
       "      <th>92940</th>\n",
       "      <td>5008804</td>\n",
       "      <td>-2</td>\n",
       "      <td>1</td>\n",
       "    </tr>\n",
       "    <tr>\n",
       "      <th>92941</th>\n",
       "      <td>5008804</td>\n",
       "      <td>-3</td>\n",
       "      <td>1</td>\n",
       "    </tr>\n",
       "    <tr>\n",
       "      <th>92942</th>\n",
       "      <td>5008804</td>\n",
       "      <td>-4</td>\n",
       "      <td>1</td>\n",
       "    </tr>\n",
       "  </tbody>\n",
       "</table>\n",
       "</div>"
      ],
      "text/plain": [
       "            ID  MONTHS_BALANCE  STATUS\n",
       "92938  5008804               0       1\n",
       "92939  5008804              -1       1\n",
       "92940  5008804              -2       1\n",
       "92941  5008804              -3       1\n",
       "92942  5008804              -4       1"
      ]
     },
     "execution_count": 55,
     "metadata": {},
     "output_type": "execute_result"
    }
   ],
   "source": [
    "df3 = df3[df3['ID'].isin(valid_ids)]\n",
    "df3.head()"
   ]
  },
  {
   "cell_type": "code",
   "execution_count": 56,
   "id": "689b36ee",
   "metadata": {},
   "outputs": [],
   "source": [
    "df3[\"MEAN_STATUS\"]= df3.groupby('ID')[\"STATUS\"].transform(\"mean\")\n",
    "df3[\"MAX_STATUS\"]= df3.groupby('ID')[\"STATUS\"].transform(\"max\")"
   ]
  },
  {
   "cell_type": "code",
   "execution_count": 57,
   "id": "ffd3ed8b",
   "metadata": {},
   "outputs": [
    {
     "data": {
      "text/html": [
       "<div>\n",
       "<style scoped>\n",
       "    .dataframe tbody tr th:only-of-type {\n",
       "        vertical-align: middle;\n",
       "    }\n",
       "\n",
       "    .dataframe tbody tr th {\n",
       "        vertical-align: top;\n",
       "    }\n",
       "\n",
       "    .dataframe thead th {\n",
       "        text-align: right;\n",
       "    }\n",
       "</style>\n",
       "<table border=\"1\" class=\"dataframe\">\n",
       "  <thead>\n",
       "    <tr style=\"text-align: right;\">\n",
       "      <th></th>\n",
       "      <th>ID</th>\n",
       "      <th>MONTHS_BALANCE</th>\n",
       "      <th>STATUS</th>\n",
       "      <th>MEAN_STATUS</th>\n",
       "      <th>MAX_STATUS</th>\n",
       "    </tr>\n",
       "  </thead>\n",
       "  <tbody>\n",
       "    <tr>\n",
       "      <th>92938</th>\n",
       "      <td>5008804</td>\n",
       "      <td>0</td>\n",
       "      <td>1</td>\n",
       "      <td>1.125</td>\n",
       "      <td>3</td>\n",
       "    </tr>\n",
       "    <tr>\n",
       "      <th>92939</th>\n",
       "      <td>5008804</td>\n",
       "      <td>-1</td>\n",
       "      <td>1</td>\n",
       "      <td>1.125</td>\n",
       "      <td>3</td>\n",
       "    </tr>\n",
       "    <tr>\n",
       "      <th>92940</th>\n",
       "      <td>5008804</td>\n",
       "      <td>-2</td>\n",
       "      <td>1</td>\n",
       "      <td>1.125</td>\n",
       "      <td>3</td>\n",
       "    </tr>\n",
       "    <tr>\n",
       "      <th>92941</th>\n",
       "      <td>5008804</td>\n",
       "      <td>-3</td>\n",
       "      <td>1</td>\n",
       "      <td>1.125</td>\n",
       "      <td>3</td>\n",
       "    </tr>\n",
       "    <tr>\n",
       "      <th>92942</th>\n",
       "      <td>5008804</td>\n",
       "      <td>-4</td>\n",
       "      <td>1</td>\n",
       "      <td>1.125</td>\n",
       "      <td>3</td>\n",
       "    </tr>\n",
       "  </tbody>\n",
       "</table>\n",
       "</div>"
      ],
      "text/plain": [
       "            ID  MONTHS_BALANCE  STATUS  MEAN_STATUS  MAX_STATUS\n",
       "92938  5008804               0       1        1.125           3\n",
       "92939  5008804              -1       1        1.125           3\n",
       "92940  5008804              -2       1        1.125           3\n",
       "92941  5008804              -3       1        1.125           3\n",
       "92942  5008804              -4       1        1.125           3"
      ]
     },
     "execution_count": 57,
     "metadata": {},
     "output_type": "execute_result"
    }
   ],
   "source": [
    "df3.head()"
   ]
  },
  {
   "cell_type": "code",
   "execution_count": 58,
   "id": "724d33a0",
   "metadata": {},
   "outputs": [],
   "source": [
    "df3=df3.drop([\"MONTHS_BALANCE\",\"STATUS\"],axis=1)"
   ]
  },
  {
   "cell_type": "code",
   "execution_count": 59,
   "id": "1e72ee27",
   "metadata": {},
   "outputs": [],
   "source": [
    "df3.drop_duplicates(subset='ID', inplace=True)"
   ]
  },
  {
   "cell_type": "code",
   "execution_count": 60,
   "id": "f6545a1b",
   "metadata": {},
   "outputs": [
    {
     "data": {
      "text/html": [
       "<div>\n",
       "<style scoped>\n",
       "    .dataframe tbody tr th:only-of-type {\n",
       "        vertical-align: middle;\n",
       "    }\n",
       "\n",
       "    .dataframe tbody tr th {\n",
       "        vertical-align: top;\n",
       "    }\n",
       "\n",
       "    .dataframe thead th {\n",
       "        text-align: right;\n",
       "    }\n",
       "</style>\n",
       "<table border=\"1\" class=\"dataframe\">\n",
       "  <thead>\n",
       "    <tr style=\"text-align: right;\">\n",
       "      <th></th>\n",
       "      <th>ID</th>\n",
       "      <th>MEAN_STATUS</th>\n",
       "      <th>MAX_STATUS</th>\n",
       "    </tr>\n",
       "  </thead>\n",
       "  <tbody>\n",
       "    <tr>\n",
       "      <th>92938</th>\n",
       "      <td>5008804</td>\n",
       "      <td>1.125000</td>\n",
       "      <td>3</td>\n",
       "    </tr>\n",
       "    <tr>\n",
       "      <th>92954</th>\n",
       "      <td>5008805</td>\n",
       "      <td>1.133333</td>\n",
       "      <td>3</td>\n",
       "    </tr>\n",
       "    <tr>\n",
       "      <th>92969</th>\n",
       "      <td>5008806</td>\n",
       "      <td>0.700000</td>\n",
       "      <td>2</td>\n",
       "    </tr>\n",
       "    <tr>\n",
       "      <th>93009</th>\n",
       "      <td>5008810</td>\n",
       "      <td>1.000000</td>\n",
       "      <td>2</td>\n",
       "    </tr>\n",
       "    <tr>\n",
       "      <th>93036</th>\n",
       "      <td>5008811</td>\n",
       "      <td>1.000000</td>\n",
       "      <td>2</td>\n",
       "    </tr>\n",
       "  </tbody>\n",
       "</table>\n",
       "</div>"
      ],
      "text/plain": [
       "            ID  MEAN_STATUS  MAX_STATUS\n",
       "92938  5008804     1.125000           3\n",
       "92954  5008805     1.133333           3\n",
       "92969  5008806     0.700000           2\n",
       "93009  5008810     1.000000           2\n",
       "93036  5008811     1.000000           2"
      ]
     },
     "execution_count": 60,
     "metadata": {},
     "output_type": "execute_result"
    }
   ],
   "source": [
    "df3.head()"
   ]
  },
  {
   "cell_type": "markdown",
   "id": "f89a56a0",
   "metadata": {},
   "source": [
    "#### Se lo stato massimo ottenuto è minore o uguale a 2 e se lo stato medio è minore o uguale a 1 (cioè se il valore di 2 è stato raggiunto al più una volta in un periodo maggiore o uguale a 12 mesi) , stabilisco che il soggetto appartiene alla classe 0 (SI' carta di credito)\n",
    "#### In tutti gli altri casi stabilisco che il soggetto appartiene alla classe 1 (NO carta di credito)"
   ]
  },
  {
   "cell_type": "code",
   "execution_count": 61,
   "id": "79dccdbb",
   "metadata": {},
   "outputs": [],
   "source": [
    "df3.loc[(df3[\"MEAN_STATUS\"] <= 1) & (df3[\"MAX_STATUS\"] <= 2), \"CLASS\"] = 0"
   ]
  },
  {
   "cell_type": "code",
   "execution_count": 62,
   "id": "7f26b989",
   "metadata": {},
   "outputs": [],
   "source": [
    "df3.loc[df3[\"MEAN_STATUS\"] > 1, \"CLASS\"] = 1"
   ]
  },
  {
   "cell_type": "code",
   "execution_count": 63,
   "id": "89e3bb0d",
   "metadata": {},
   "outputs": [],
   "source": [
    "df3.loc[df3[\"MAX_STATUS\"] > 2, \"CLASS\"] = 1"
   ]
  },
  {
   "cell_type": "code",
   "execution_count": 64,
   "id": "c08491e3",
   "metadata": {},
   "outputs": [
    {
     "data": {
      "text/html": [
       "<div>\n",
       "<style scoped>\n",
       "    .dataframe tbody tr th:only-of-type {\n",
       "        vertical-align: middle;\n",
       "    }\n",
       "\n",
       "    .dataframe tbody tr th {\n",
       "        vertical-align: top;\n",
       "    }\n",
       "\n",
       "    .dataframe thead th {\n",
       "        text-align: right;\n",
       "    }\n",
       "</style>\n",
       "<table border=\"1\" class=\"dataframe\">\n",
       "  <thead>\n",
       "    <tr style=\"text-align: right;\">\n",
       "      <th></th>\n",
       "      <th>ID</th>\n",
       "      <th>MEAN_STATUS</th>\n",
       "      <th>MAX_STATUS</th>\n",
       "      <th>CLASS</th>\n",
       "    </tr>\n",
       "  </thead>\n",
       "  <tbody>\n",
       "    <tr>\n",
       "      <th>92938</th>\n",
       "      <td>5008804</td>\n",
       "      <td>1.125000</td>\n",
       "      <td>3</td>\n",
       "      <td>1.0</td>\n",
       "    </tr>\n",
       "    <tr>\n",
       "      <th>92954</th>\n",
       "      <td>5008805</td>\n",
       "      <td>1.133333</td>\n",
       "      <td>3</td>\n",
       "      <td>1.0</td>\n",
       "    </tr>\n",
       "    <tr>\n",
       "      <th>92969</th>\n",
       "      <td>5008806</td>\n",
       "      <td>0.700000</td>\n",
       "      <td>2</td>\n",
       "      <td>0.0</td>\n",
       "    </tr>\n",
       "    <tr>\n",
       "      <th>93009</th>\n",
       "      <td>5008810</td>\n",
       "      <td>1.000000</td>\n",
       "      <td>2</td>\n",
       "      <td>0.0</td>\n",
       "    </tr>\n",
       "    <tr>\n",
       "      <th>93036</th>\n",
       "      <td>5008811</td>\n",
       "      <td>1.000000</td>\n",
       "      <td>2</td>\n",
       "      <td>0.0</td>\n",
       "    </tr>\n",
       "  </tbody>\n",
       "</table>\n",
       "</div>"
      ],
      "text/plain": [
       "            ID  MEAN_STATUS  MAX_STATUS  CLASS\n",
       "92938  5008804     1.125000           3    1.0\n",
       "92954  5008805     1.133333           3    1.0\n",
       "92969  5008806     0.700000           2    0.0\n",
       "93009  5008810     1.000000           2    0.0\n",
       "93036  5008811     1.000000           2    0.0"
      ]
     },
     "execution_count": 64,
     "metadata": {},
     "output_type": "execute_result"
    }
   ],
   "source": [
    "df3.head()"
   ]
  },
  {
   "cell_type": "code",
   "execution_count": 65,
   "id": "9dd9601d",
   "metadata": {},
   "outputs": [
    {
     "data": {
      "text/plain": [
       "(20627, 4)"
      ]
     },
     "execution_count": 65,
     "metadata": {},
     "output_type": "execute_result"
    }
   ],
   "source": [
    "df3.shape"
   ]
  },
  {
   "cell_type": "code",
   "execution_count": 66,
   "id": "95276ea5",
   "metadata": {},
   "outputs": [
    {
     "data": {
      "text/plain": [
       "1.0    79.575314\n",
       "0.0    20.424686\n",
       "Name: CLASS, dtype: float64"
      ]
     },
     "execution_count": 66,
     "metadata": {},
     "output_type": "execute_result"
    }
   ],
   "source": [
    "df3[\"CLASS\"].value_counts()/df3.shape[0]*100"
   ]
  },
  {
   "cell_type": "markdown",
   "id": "eb4125b7",
   "metadata": {},
   "source": [
    "#### Il dataset è fortemente sbilanciato verso la classe positiva"
   ]
  },
  {
   "cell_type": "markdown",
   "id": "9bae4ff8",
   "metadata": {},
   "source": [
    "### DATASET MERGE"
   ]
  },
  {
   "cell_type": "code",
   "execution_count": 67,
   "id": "deda596b",
   "metadata": {},
   "outputs": [],
   "source": [
    "df = pd.merge(df1, df3[[\"ID\",\"CLASS\"]], on='ID', how='inner')"
   ]
  },
  {
   "cell_type": "code",
   "execution_count": 68,
   "id": "ddfd772c",
   "metadata": {},
   "outputs": [
    {
     "data": {
      "text/html": [
       "<div>\n",
       "<style scoped>\n",
       "    .dataframe tbody tr th:only-of-type {\n",
       "        vertical-align: middle;\n",
       "    }\n",
       "\n",
       "    .dataframe tbody tr th {\n",
       "        vertical-align: top;\n",
       "    }\n",
       "\n",
       "    .dataframe thead th {\n",
       "        text-align: right;\n",
       "    }\n",
       "</style>\n",
       "<table border=\"1\" class=\"dataframe\">\n",
       "  <thead>\n",
       "    <tr style=\"text-align: right;\">\n",
       "      <th></th>\n",
       "      <th>ID</th>\n",
       "      <th>CODE_GENDER</th>\n",
       "      <th>FLAG_OWN_CAR</th>\n",
       "      <th>FLAG_OWN_REALTY</th>\n",
       "      <th>CNT_CHILDREN</th>\n",
       "      <th>AMT_INCOME_TOTAL</th>\n",
       "      <th>NAME_INCOME_TYPE</th>\n",
       "      <th>NAME_EDUCATION_TYPE</th>\n",
       "      <th>NAME_FAMILY_STATUS</th>\n",
       "      <th>NAME_HOUSING_TYPE</th>\n",
       "      <th>DAYS_BIRTH</th>\n",
       "      <th>DAYS_EMPLOYED</th>\n",
       "      <th>FLAG_WORK_PHONE</th>\n",
       "      <th>FLAG_PHONE</th>\n",
       "      <th>FLAG_EMAIL</th>\n",
       "      <th>CNT_FAM_MEMBERS</th>\n",
       "      <th>CLASS</th>\n",
       "    </tr>\n",
       "  </thead>\n",
       "  <tbody>\n",
       "    <tr>\n",
       "      <th>0</th>\n",
       "      <td>5008804</td>\n",
       "      <td>M</td>\n",
       "      <td>Y</td>\n",
       "      <td>Y</td>\n",
       "      <td>0</td>\n",
       "      <td>427500.0</td>\n",
       "      <td>Working</td>\n",
       "      <td>Higher education</td>\n",
       "      <td>Civil marriage</td>\n",
       "      <td>Rented apartment</td>\n",
       "      <td>-12005</td>\n",
       "      <td>-4542</td>\n",
       "      <td>1</td>\n",
       "      <td>0</td>\n",
       "      <td>0</td>\n",
       "      <td>2.0</td>\n",
       "      <td>1.0</td>\n",
       "    </tr>\n",
       "    <tr>\n",
       "      <th>1</th>\n",
       "      <td>5008805</td>\n",
       "      <td>M</td>\n",
       "      <td>Y</td>\n",
       "      <td>Y</td>\n",
       "      <td>0</td>\n",
       "      <td>427500.0</td>\n",
       "      <td>Working</td>\n",
       "      <td>Higher education</td>\n",
       "      <td>Civil marriage</td>\n",
       "      <td>Rented apartment</td>\n",
       "      <td>-12005</td>\n",
       "      <td>-4542</td>\n",
       "      <td>1</td>\n",
       "      <td>0</td>\n",
       "      <td>0</td>\n",
       "      <td>2.0</td>\n",
       "      <td>1.0</td>\n",
       "    </tr>\n",
       "    <tr>\n",
       "      <th>2</th>\n",
       "      <td>5008806</td>\n",
       "      <td>M</td>\n",
       "      <td>Y</td>\n",
       "      <td>Y</td>\n",
       "      <td>0</td>\n",
       "      <td>112500.0</td>\n",
       "      <td>Working</td>\n",
       "      <td>Secondary / secondary special</td>\n",
       "      <td>Married</td>\n",
       "      <td>House / apartment</td>\n",
       "      <td>-21474</td>\n",
       "      <td>-1134</td>\n",
       "      <td>0</td>\n",
       "      <td>0</td>\n",
       "      <td>0</td>\n",
       "      <td>2.0</td>\n",
       "      <td>0.0</td>\n",
       "    </tr>\n",
       "    <tr>\n",
       "      <th>3</th>\n",
       "      <td>5008810</td>\n",
       "      <td>F</td>\n",
       "      <td>N</td>\n",
       "      <td>Y</td>\n",
       "      <td>0</td>\n",
       "      <td>270000.0</td>\n",
       "      <td>Commercial associate</td>\n",
       "      <td>Secondary / secondary special</td>\n",
       "      <td>Single / not married</td>\n",
       "      <td>House / apartment</td>\n",
       "      <td>-19110</td>\n",
       "      <td>-3051</td>\n",
       "      <td>0</td>\n",
       "      <td>1</td>\n",
       "      <td>1</td>\n",
       "      <td>1.0</td>\n",
       "      <td>0.0</td>\n",
       "    </tr>\n",
       "    <tr>\n",
       "      <th>4</th>\n",
       "      <td>5008811</td>\n",
       "      <td>F</td>\n",
       "      <td>N</td>\n",
       "      <td>Y</td>\n",
       "      <td>0</td>\n",
       "      <td>270000.0</td>\n",
       "      <td>Commercial associate</td>\n",
       "      <td>Secondary / secondary special</td>\n",
       "      <td>Single / not married</td>\n",
       "      <td>House / apartment</td>\n",
       "      <td>-19110</td>\n",
       "      <td>-3051</td>\n",
       "      <td>0</td>\n",
       "      <td>1</td>\n",
       "      <td>1</td>\n",
       "      <td>1.0</td>\n",
       "      <td>0.0</td>\n",
       "    </tr>\n",
       "  </tbody>\n",
       "</table>\n",
       "</div>"
      ],
      "text/plain": [
       "        ID CODE_GENDER FLAG_OWN_CAR FLAG_OWN_REALTY  CNT_CHILDREN  \\\n",
       "0  5008804           M            Y               Y             0   \n",
       "1  5008805           M            Y               Y             0   \n",
       "2  5008806           M            Y               Y             0   \n",
       "3  5008810           F            N               Y             0   \n",
       "4  5008811           F            N               Y             0   \n",
       "\n",
       "   AMT_INCOME_TOTAL      NAME_INCOME_TYPE            NAME_EDUCATION_TYPE  \\\n",
       "0          427500.0               Working               Higher education   \n",
       "1          427500.0               Working               Higher education   \n",
       "2          112500.0               Working  Secondary / secondary special   \n",
       "3          270000.0  Commercial associate  Secondary / secondary special   \n",
       "4          270000.0  Commercial associate  Secondary / secondary special   \n",
       "\n",
       "     NAME_FAMILY_STATUS  NAME_HOUSING_TYPE  DAYS_BIRTH  DAYS_EMPLOYED  \\\n",
       "0        Civil marriage   Rented apartment      -12005          -4542   \n",
       "1        Civil marriage   Rented apartment      -12005          -4542   \n",
       "2               Married  House / apartment      -21474          -1134   \n",
       "3  Single / not married  House / apartment      -19110          -3051   \n",
       "4  Single / not married  House / apartment      -19110          -3051   \n",
       "\n",
       "   FLAG_WORK_PHONE  FLAG_PHONE  FLAG_EMAIL  CNT_FAM_MEMBERS  CLASS  \n",
       "0                1           0           0              2.0    1.0  \n",
       "1                1           0           0              2.0    1.0  \n",
       "2                0           0           0              2.0    0.0  \n",
       "3                0           1           1              1.0    0.0  \n",
       "4                0           1           1              1.0    0.0  "
      ]
     },
     "execution_count": 68,
     "metadata": {},
     "output_type": "execute_result"
    }
   ],
   "source": [
    "df.head()"
   ]
  },
  {
   "cell_type": "markdown",
   "id": "ed7b49a1",
   "metadata": {},
   "source": [
    "### TRAIN AND TEST SET CREATION"
   ]
  },
  {
   "cell_type": "code",
   "execution_count": 69,
   "id": "3dd207e3",
   "metadata": {},
   "outputs": [],
   "source": [
    "from sklearn.model_selection import train_test_split"
   ]
  },
  {
   "cell_type": "code",
   "execution_count": 70,
   "id": "c4e484e1",
   "metadata": {},
   "outputs": [],
   "source": [
    "X=df.drop([\"ID\",\"CLASS\"],axis=1)"
   ]
  },
  {
   "cell_type": "code",
   "execution_count": 71,
   "id": "8f4d6f53",
   "metadata": {},
   "outputs": [
    {
     "data": {
      "text/html": [
       "<div>\n",
       "<style scoped>\n",
       "    .dataframe tbody tr th:only-of-type {\n",
       "        vertical-align: middle;\n",
       "    }\n",
       "\n",
       "    .dataframe tbody tr th {\n",
       "        vertical-align: top;\n",
       "    }\n",
       "\n",
       "    .dataframe thead th {\n",
       "        text-align: right;\n",
       "    }\n",
       "</style>\n",
       "<table border=\"1\" class=\"dataframe\">\n",
       "  <thead>\n",
       "    <tr style=\"text-align: right;\">\n",
       "      <th></th>\n",
       "      <th>CODE_GENDER</th>\n",
       "      <th>FLAG_OWN_CAR</th>\n",
       "      <th>FLAG_OWN_REALTY</th>\n",
       "      <th>CNT_CHILDREN</th>\n",
       "      <th>AMT_INCOME_TOTAL</th>\n",
       "      <th>NAME_INCOME_TYPE</th>\n",
       "      <th>NAME_EDUCATION_TYPE</th>\n",
       "      <th>NAME_FAMILY_STATUS</th>\n",
       "      <th>NAME_HOUSING_TYPE</th>\n",
       "      <th>DAYS_BIRTH</th>\n",
       "      <th>DAYS_EMPLOYED</th>\n",
       "      <th>FLAG_WORK_PHONE</th>\n",
       "      <th>FLAG_PHONE</th>\n",
       "      <th>FLAG_EMAIL</th>\n",
       "      <th>CNT_FAM_MEMBERS</th>\n",
       "    </tr>\n",
       "  </thead>\n",
       "  <tbody>\n",
       "    <tr>\n",
       "      <th>0</th>\n",
       "      <td>M</td>\n",
       "      <td>Y</td>\n",
       "      <td>Y</td>\n",
       "      <td>0</td>\n",
       "      <td>427500.0</td>\n",
       "      <td>Working</td>\n",
       "      <td>Higher education</td>\n",
       "      <td>Civil marriage</td>\n",
       "      <td>Rented apartment</td>\n",
       "      <td>-12005</td>\n",
       "      <td>-4542</td>\n",
       "      <td>1</td>\n",
       "      <td>0</td>\n",
       "      <td>0</td>\n",
       "      <td>2.0</td>\n",
       "    </tr>\n",
       "    <tr>\n",
       "      <th>1</th>\n",
       "      <td>M</td>\n",
       "      <td>Y</td>\n",
       "      <td>Y</td>\n",
       "      <td>0</td>\n",
       "      <td>427500.0</td>\n",
       "      <td>Working</td>\n",
       "      <td>Higher education</td>\n",
       "      <td>Civil marriage</td>\n",
       "      <td>Rented apartment</td>\n",
       "      <td>-12005</td>\n",
       "      <td>-4542</td>\n",
       "      <td>1</td>\n",
       "      <td>0</td>\n",
       "      <td>0</td>\n",
       "      <td>2.0</td>\n",
       "    </tr>\n",
       "    <tr>\n",
       "      <th>2</th>\n",
       "      <td>M</td>\n",
       "      <td>Y</td>\n",
       "      <td>Y</td>\n",
       "      <td>0</td>\n",
       "      <td>112500.0</td>\n",
       "      <td>Working</td>\n",
       "      <td>Secondary / secondary special</td>\n",
       "      <td>Married</td>\n",
       "      <td>House / apartment</td>\n",
       "      <td>-21474</td>\n",
       "      <td>-1134</td>\n",
       "      <td>0</td>\n",
       "      <td>0</td>\n",
       "      <td>0</td>\n",
       "      <td>2.0</td>\n",
       "    </tr>\n",
       "    <tr>\n",
       "      <th>3</th>\n",
       "      <td>F</td>\n",
       "      <td>N</td>\n",
       "      <td>Y</td>\n",
       "      <td>0</td>\n",
       "      <td>270000.0</td>\n",
       "      <td>Commercial associate</td>\n",
       "      <td>Secondary / secondary special</td>\n",
       "      <td>Single / not married</td>\n",
       "      <td>House / apartment</td>\n",
       "      <td>-19110</td>\n",
       "      <td>-3051</td>\n",
       "      <td>0</td>\n",
       "      <td>1</td>\n",
       "      <td>1</td>\n",
       "      <td>1.0</td>\n",
       "    </tr>\n",
       "    <tr>\n",
       "      <th>4</th>\n",
       "      <td>F</td>\n",
       "      <td>N</td>\n",
       "      <td>Y</td>\n",
       "      <td>0</td>\n",
       "      <td>270000.0</td>\n",
       "      <td>Commercial associate</td>\n",
       "      <td>Secondary / secondary special</td>\n",
       "      <td>Single / not married</td>\n",
       "      <td>House / apartment</td>\n",
       "      <td>-19110</td>\n",
       "      <td>-3051</td>\n",
       "      <td>0</td>\n",
       "      <td>1</td>\n",
       "      <td>1</td>\n",
       "      <td>1.0</td>\n",
       "    </tr>\n",
       "  </tbody>\n",
       "</table>\n",
       "</div>"
      ],
      "text/plain": [
       "  CODE_GENDER FLAG_OWN_CAR FLAG_OWN_REALTY  CNT_CHILDREN  AMT_INCOME_TOTAL  \\\n",
       "0           M            Y               Y             0          427500.0   \n",
       "1           M            Y               Y             0          427500.0   \n",
       "2           M            Y               Y             0          112500.0   \n",
       "3           F            N               Y             0          270000.0   \n",
       "4           F            N               Y             0          270000.0   \n",
       "\n",
       "       NAME_INCOME_TYPE            NAME_EDUCATION_TYPE    NAME_FAMILY_STATUS  \\\n",
       "0               Working               Higher education        Civil marriage   \n",
       "1               Working               Higher education        Civil marriage   \n",
       "2               Working  Secondary / secondary special               Married   \n",
       "3  Commercial associate  Secondary / secondary special  Single / not married   \n",
       "4  Commercial associate  Secondary / secondary special  Single / not married   \n",
       "\n",
       "   NAME_HOUSING_TYPE  DAYS_BIRTH  DAYS_EMPLOYED  FLAG_WORK_PHONE  FLAG_PHONE  \\\n",
       "0   Rented apartment      -12005          -4542                1           0   \n",
       "1   Rented apartment      -12005          -4542                1           0   \n",
       "2  House / apartment      -21474          -1134                0           0   \n",
       "3  House / apartment      -19110          -3051                0           1   \n",
       "4  House / apartment      -19110          -3051                0           1   \n",
       "\n",
       "   FLAG_EMAIL  CNT_FAM_MEMBERS  \n",
       "0           0              2.0  \n",
       "1           0              2.0  \n",
       "2           0              2.0  \n",
       "3           1              1.0  \n",
       "4           1              1.0  "
      ]
     },
     "execution_count": 71,
     "metadata": {},
     "output_type": "execute_result"
    }
   ],
   "source": [
    "X.head()"
   ]
  },
  {
   "cell_type": "code",
   "execution_count": 72,
   "id": "4c5494cb",
   "metadata": {},
   "outputs": [],
   "source": [
    "y=df[\"CLASS\"]"
   ]
  },
  {
   "cell_type": "code",
   "execution_count": 73,
   "id": "00084a25",
   "metadata": {},
   "outputs": [],
   "source": [
    "X_train, X_test, y_train, y_test = train_test_split(X, y, test_size=0.3)"
   ]
  },
  {
   "cell_type": "markdown",
   "id": "21ff2ec0",
   "metadata": {},
   "source": [
    "### ENCODING"
   ]
  },
  {
   "cell_type": "code",
   "execution_count": 74,
   "id": "4b9ed695",
   "metadata": {},
   "outputs": [],
   "source": [
    "from sklearn.compose import ColumnTransformer\n",
    "from sklearn.preprocessing import OneHotEncoder"
   ]
  },
  {
   "cell_type": "markdown",
   "id": "62913612",
   "metadata": {},
   "source": [
    "#### LABEL ENCODING"
   ]
  },
  {
   "cell_type": "code",
   "execution_count": 75,
   "id": "657c663f",
   "metadata": {},
   "outputs": [],
   "source": [
    "education_mapping={\"Lower secondary\":1,\"Secondary / secondary special\":2,\"Incomplete higher\":3,\"Higher education\":4,\"Academic degree\":5}\n",
    "X_train[\"NAME_EDUCATION_TYPE\"]=X_train[\"NAME_EDUCATION_TYPE\"].map(education_mapping)\n",
    "X_test[\"NAME_EDUCATION_TYPE\"]=X_test[\"NAME_EDUCATION_TYPE\"].map(education_mapping)"
   ]
  },
  {
   "cell_type": "code",
   "execution_count": 76,
   "id": "ae8763c6",
   "metadata": {},
   "outputs": [],
   "source": [
    "gender_mapping={\"F\":1,\"M\":0}\n",
    "X_train[\"CODE_GENDER\"]=X_train[\"CODE_GENDER\"].map(gender_mapping)\n",
    "X_test[\"CODE_GENDER\"]=X_test[\"CODE_GENDER\"].map(gender_mapping)"
   ]
  },
  {
   "cell_type": "code",
   "execution_count": 77,
   "id": "c407de05",
   "metadata": {},
   "outputs": [],
   "source": [
    "car_mapping={\"Y\":1,\"N\":0}\n",
    "X_train[\"FLAG_OWN_CAR\"]=X_train[\"FLAG_OWN_CAR\"].map(car_mapping)\n",
    "X_test[\"FLAG_OWN_CAR\"]=X_test[\"FLAG_OWN_CAR\"].map(car_mapping)"
   ]
  },
  {
   "cell_type": "code",
   "execution_count": 78,
   "id": "5b25dc92",
   "metadata": {},
   "outputs": [],
   "source": [
    "realty_mapping={\"Y\":1,\"N\":0}\n",
    "X_train[\"FLAG_OWN_REALTY\"]=X_train[\"FLAG_OWN_REALTY\"].map(realty_mapping)\n",
    "X_test[\"FLAG_OWN_REALTY\"]=X_test[\"FLAG_OWN_REALTY\"].map(realty_mapping)"
   ]
  },
  {
   "cell_type": "markdown",
   "id": "377837c2",
   "metadata": {},
   "source": [
    "#### ONE HOT ENCODING"
   ]
  },
  {
   "cell_type": "code",
   "execution_count": 79,
   "id": "f217de59",
   "metadata": {},
   "outputs": [],
   "source": [
    "ohe = ColumnTransformer(\n",
    "    transformers=[\n",
    "        (\"ohe\", OneHotEncoder(), [\"NAME_INCOME_TYPE\",\"NAME_FAMILY_STATUS\",\"NAME_HOUSING_TYPE\"])\n",
    "    ],\n",
    "    remainder='passthrough' \n",
    "    )"
   ]
  },
  {
   "cell_type": "code",
   "execution_count": 80,
   "id": "add732c0",
   "metadata": {},
   "outputs": [],
   "source": [
    "X_train = ohe.fit_transform(X_train) \n",
    "X_test = ohe.transform(X_test) "
   ]
  },
  {
   "cell_type": "code",
   "execution_count": 81,
   "id": "61950836",
   "metadata": {
    "scrolled": true
   },
   "outputs": [
    {
     "data": {
      "text/plain": [
       "array([ 0.0000e+00,  0.0000e+00,  0.0000e+00,  0.0000e+00,  1.0000e+00,\n",
       "        0.0000e+00,  1.0000e+00,  0.0000e+00,  0.0000e+00,  0.0000e+00,\n",
       "        0.0000e+00,  0.0000e+00,  0.0000e+00,  0.0000e+00,  0.0000e+00,\n",
       "        1.0000e+00,  1.0000e+00,  1.0000e+00,  0.0000e+00,  2.0000e+00,\n",
       "        1.3500e+05,  2.0000e+00, -1.0018e+04, -7.0400e+02,  0.0000e+00,\n",
       "        0.0000e+00,  1.0000e+00,  4.0000e+00])"
      ]
     },
     "execution_count": 81,
     "metadata": {},
     "output_type": "execute_result"
    }
   ],
   "source": [
    "X_train[1,:]"
   ]
  },
  {
   "cell_type": "markdown",
   "id": "8c5dcac9",
   "metadata": {},
   "source": [
    "### SCALING"
   ]
  },
  {
   "cell_type": "markdown",
   "id": "788c8a2d",
   "metadata": {},
   "source": [
    "#### STANDARDIZATION"
   ]
  },
  {
   "cell_type": "code",
   "execution_count": 82,
   "id": "08aa1aed",
   "metadata": {},
   "outputs": [],
   "source": [
    "from sklearn.preprocessing import StandardScaler"
   ]
  },
  {
   "cell_type": "code",
   "execution_count": 83,
   "id": "8ecd727b",
   "metadata": {},
   "outputs": [],
   "source": [
    "ss=StandardScaler()"
   ]
  },
  {
   "cell_type": "code",
   "execution_count": 84,
   "id": "8324abe3",
   "metadata": {},
   "outputs": [],
   "source": [
    "X_train_st=ss.fit_transform(X_train)\n",
    "X_test_st=ss.transform(X_test)"
   ]
  },
  {
   "cell_type": "markdown",
   "id": "0aa81fca",
   "metadata": {},
   "source": [
    "#### NORMALIZATION"
   ]
  },
  {
   "cell_type": "code",
   "execution_count": 85,
   "id": "e9695757",
   "metadata": {},
   "outputs": [],
   "source": [
    "from sklearn.preprocessing import MinMaxScaler"
   ]
  },
  {
   "cell_type": "code",
   "execution_count": 86,
   "id": "46a4d437",
   "metadata": {},
   "outputs": [],
   "source": [
    "mms=MinMaxScaler()"
   ]
  },
  {
   "cell_type": "code",
   "execution_count": 87,
   "id": "f5cf34c8",
   "metadata": {},
   "outputs": [],
   "source": [
    "X_train_norm=mms.fit_transform(X_train)\n",
    "X_test_norm=mms.transform(X_test)"
   ]
  },
  {
   "cell_type": "markdown",
   "id": "51aa624b",
   "metadata": {},
   "source": [
    "### MODELS METRICS"
   ]
  },
  {
   "cell_type": "markdown",
   "id": "de823714",
   "metadata": {},
   "source": [
    "#### Si vuole avere:\n",
    "#### 1) alta capacità di predirre i positivi (chi non deve ricevere la carta di credito), ovvero recall=TP/(TP+FN) alta -> almeno 0.7 -> requisito più rilevante\n",
    "#### 2) media capacità di predirre i negativi (chi può ricevere la carta di credito), ovvero specificity=TN/(TN+FP) media -> almeno 0.5"
   ]
  },
  {
   "cell_type": "code",
   "execution_count": 88,
   "id": "b04627af",
   "metadata": {},
   "outputs": [],
   "source": [
    "from sklearn.metrics import confusion_matrix, recall_score"
   ]
  },
  {
   "cell_type": "code",
   "execution_count": 89,
   "id": "65459344",
   "metadata": {},
   "outputs": [],
   "source": [
    "import seaborn as sns"
   ]
  },
  {
   "cell_type": "code",
   "execution_count": 90,
   "id": "1dee8182",
   "metadata": {},
   "outputs": [],
   "source": [
    "def plot_confusion_matrix(y_true,y_pred,labels=[\"Negative\",\"Positive\"]):\n",
    "\n",
    "    cm=confusion_matrix(y_true,y_pred) \n",
    "    \n",
    "    df_cm=pd.DataFrame(cm,index=labels,\n",
    "                      columns=[\"Predicted \"+labels[0],\"Predicted \"+labels[1]])\n",
    "    sns.heatmap(df_cm,annot=True,fmt='d')"
   ]
  },
  {
   "cell_type": "code",
   "execution_count": 91,
   "id": "eb96d5f5",
   "metadata": {},
   "outputs": [],
   "source": [
    "def evaluate_model(y_test,y_pred_test,y_train,y_pred_train):\n",
    "    tn, fp, fn, tp = confusion_matrix(y_train, y_pred_train).ravel()\n",
    "    specificity_train = tn / (tn + fp)    \n",
    "    tn, fp, fn, tp = confusion_matrix(y_test, y_pred_test).ravel()\n",
    "    specificity_test = tn / (tn + fp) \n",
    "    recall_train=recall_score(y_train,y_pred_train)\n",
    "    recall_test=recall_score(y_test,y_pred_test)\n",
    "    print(f\"Recall TRAIN: {recall_train:.2f} Recall TEST: {recall_test:.2f}\")\n",
    "    print(f\"Specificity TRAIN: {specificity_train:.2f} Specificity TEST: {specificity_test:.2f}\")    "
   ]
  },
  {
   "cell_type": "markdown",
   "id": "a37ac6e1",
   "metadata": {},
   "source": [
    "### LOGISTIC REGRESSION MODELS"
   ]
  },
  {
   "cell_type": "code",
   "execution_count": 92,
   "id": "2c4911ef",
   "metadata": {},
   "outputs": [],
   "source": [
    "from sklearn.linear_model import LogisticRegression"
   ]
  },
  {
   "cell_type": "markdown",
   "id": "627275d9",
   "metadata": {},
   "source": [
    "#### LOGISTIC REGRESSION MODEL WITH 0.5 THRESHOLD"
   ]
  },
  {
   "cell_type": "code",
   "execution_count": 152,
   "id": "65cca0dd",
   "metadata": {},
   "outputs": [],
   "source": [
    "lr=LogisticRegression()"
   ]
  },
  {
   "cell_type": "code",
   "execution_count": 153,
   "id": "bb5fe6ae",
   "metadata": {},
   "outputs": [],
   "source": [
    "lr.fit(X_train_st,y_train)\n",
    "y_pred_train=lr.predict(X_train_st)\n",
    "y_proba_train=lr.predict_proba(X_train_st)\n",
    "y_pred_test=lr.predict(X_test_st)\n",
    "y_proba_test=lr.predict_proba(X_test_st)"
   ]
  },
  {
   "cell_type": "code",
   "execution_count": 154,
   "id": "ae03c642",
   "metadata": {},
   "outputs": [
    {
     "data": {
      "image/png": "[encoded data removed]",
      "text/plain": [
       "<Figure size 640x480 with 2 Axes>"
      ]
     },
     "metadata": {},
     "output_type": "display_data"
    }
   ],
   "source": [
    "plot_confusion_matrix(y_test,y_pred_test)"
   ]
  },
  {
   "cell_type": "code",
   "execution_count": 155,
   "id": "f8f6b7ae",
   "metadata": {},
   "outputs": [
    {
     "name": "stdout",
     "output_type": "stream",
     "text": [
      "Specificity TRAIN: 0.00 Specificity TEST: 0.00\n",
      "Recall TRAIN: 1.00 Recall TEST: 1.00\n"
     ]
    }
   ],
   "source": [
    "evaluate_model(y_test,y_pred_test,y_train,y_pred_train)"
   ]
  },
  {
   "cell_type": "markdown",
   "id": "c64ec95d",
   "metadata": {},
   "source": [
    "#### Tutte le osservazioni sono classificate come positive"
   ]
  },
  {
   "cell_type": "markdown",
   "id": "a9d13ed1",
   "metadata": {},
   "source": [
    "#### LOGISTIC REGRESSION MODEL WITH 0.8 THRESHOLD"
   ]
  },
  {
   "cell_type": "markdown",
   "id": "00480c4a",
   "metadata": {},
   "source": [
    "#### Alzando la soglia mi aspetto di classificare un maggior numero di negativi"
   ]
  },
  {
   "cell_type": "code",
   "execution_count": 162,
   "id": "be20848b",
   "metadata": {},
   "outputs": [],
   "source": [
    "y_pred_train=np.where(y_proba_train[:,1]>0.8,1,0) \n",
    "y_pred_test=np.where(y_proba_test[:,1]>0.8,1,0)"
   ]
  },
  {
   "cell_type": "code",
   "execution_count": 163,
   "id": "6d02c15f",
   "metadata": {},
   "outputs": [
    {
     "data": {
      "image/png": "[encoded data removed]",
      "text/plain": [
       "<Figure size 640x480 with 2 Axes>"
      ]
     },
     "metadata": {},
     "output_type": "display_data"
    }
   ],
   "source": [
    "plot_confusion_matrix(y_test,y_pred_test)"
   ]
  },
  {
   "cell_type": "code",
   "execution_count": 164,
   "id": "2f1b4aab",
   "metadata": {},
   "outputs": [
    {
     "name": "stdout",
     "output_type": "stream",
     "text": [
      "Specificity TRAIN: 0.64 Specificity TEST: 0.62\n",
      "Recall TRAIN: 0.42 Recall TEST: 0.42\n"
     ]
    }
   ],
   "source": [
    "evaluate_model(y_test,y_pred_test,y_train,y_pred_train)"
   ]
  },
  {
   "cell_type": "markdown",
   "id": "a728ffa3",
   "metadata": {},
   "source": [
    "#### Il modello non rispetta tutti i requisiti"
   ]
  },
  {
   "cell_type": "markdown",
   "id": "b0b703d5",
   "metadata": {},
   "source": [
    "#### LOGISTIC REGRESSION MODEL WITH 0.5 THRESHOLD AND BALANCED CLASSES"
   ]
  },
  {
   "cell_type": "code",
   "execution_count": 100,
   "id": "e34ab33b",
   "metadata": {},
   "outputs": [],
   "source": [
    "lr2=LogisticRegression(class_weight=\"balanced\")"
   ]
  },
  {
   "cell_type": "code",
   "execution_count": 101,
   "id": "11c6463a",
   "metadata": {},
   "outputs": [],
   "source": [
    "lr2.fit(X_train_st,y_train)\n",
    "y_pred_train=lr2.predict(X_train_st)\n",
    "y_proba_train=lr2.predict_proba(X_train_st)\n",
    "y_pred_test=lr2.predict(X_test_st)\n",
    "y_proba_test=lr2.predict_proba(X_test_st)"
   ]
  },
  {
   "cell_type": "code",
   "execution_count": 102,
   "id": "d647a137",
   "metadata": {},
   "outputs": [
    {
     "data": {
      "image/png": "[encoded data removed]",
      "text/plain": [
       "<Figure size 640x480 with 2 Axes>"
      ]
     },
     "metadata": {},
     "output_type": "display_data"
    }
   ],
   "source": [
    "plot_confusion_matrix(y_test,y_pred_test)"
   ]
  },
  {
   "cell_type": "code",
   "execution_count": 103,
   "id": "0c2061b2",
   "metadata": {},
   "outputs": [
    {
     "name": "stdout",
     "output_type": "stream",
     "text": [
      "Specificity TRAIN: 0.50 Specificity TEST: 0.47\n",
      "Recall TRAIN: 0.57 Recall TEST: 0.57\n"
     ]
    }
   ],
   "source": [
    "evaluate_model(y_test,y_pred_test,y_train,y_pred_train)"
   ]
  },
  {
   "cell_type": "markdown",
   "id": "75562fbf",
   "metadata": {},
   "source": [
    "#### Il modello non rispetta i requisiti"
   ]
  },
  {
   "cell_type": "markdown",
   "id": "583d5b22",
   "metadata": {},
   "source": [
    "### SUPPORT VECTOR MACHINES MODELS"
   ]
  },
  {
   "cell_type": "code",
   "execution_count": 104,
   "id": "88c199f6",
   "metadata": {},
   "outputs": [],
   "source": [
    "from sklearn.svm import SVC"
   ]
  },
  {
   "cell_type": "markdown",
   "id": "6a6c3350",
   "metadata": {},
   "source": [
    "#### SVM: LINEAR KERNEL"
   ]
  },
  {
   "cell_type": "code",
   "execution_count": 105,
   "id": "f4f21ab8",
   "metadata": {},
   "outputs": [],
   "source": [
    "svc=SVC(kernel=\"linear\")"
   ]
  },
  {
   "cell_type": "code",
   "execution_count": 106,
   "id": "301235f3",
   "metadata": {
    "scrolled": true
   },
   "outputs": [
    {
     "data": {
      "text/html": [
       "<style>#sk-container-id-1 {color: black;background-color: white;}#sk-container-id-1 pre{padding: 0;}#sk-container-id-1 div.sk-toggleable {background-color: white;}#sk-container-id-1 label.sk-toggleable__label {cursor: pointer;display: block;width: 100%;margin-bottom: 0;padding: 0.3em;box-sizing: border-box;text-align: center;}#sk-container-id-1 label.sk-toggleable__label-arrow:before {content: \"▸\";float: left;margin-right: 0.25em;color: #696969;}#sk-container-id-1 label.sk-toggleable__label-arrow:hover:before {color: black;}#sk-container-id-1 div.sk-estimator:hover label.sk-toggleable__label-arrow:before {color: black;}#sk-container-id-1 div.sk-toggleable__content {max-height: 0;max-width: 0;overflow: hidden;text-align: left;background-color: #f0f8ff;}#sk-container-id-1 div.sk-toggleable__content pre {margin: 0.2em;color: black;border-radius: 0.25em;background-color: #f0f8ff;}#sk-container-id-1 input.sk-toggleable__control:checked~div.sk-toggleable__content {max-height: 200px;max-width: 100%;overflow: auto;}#sk-container-id-1 input.sk-toggleable__control:checked~label.sk-toggleable__label-arrow:before {content: \"▾\";}#sk-container-id-1 div.sk-estimator input.sk-toggleable__control:checked~label.sk-toggleable__label {background-color: #d4ebff;}#sk-container-id-1 div.sk-label input.sk-toggleable__control:checked~label.sk-toggleable__label {background-color: #d4ebff;}#sk-container-id-1 input.sk-hidden--visually {border: 0;clip: rect(1px 1px 1px 1px);clip: rect(1px, 1px, 1px, 1px);height: 1px;margin: -1px;overflow: hidden;padding: 0;position: absolute;width: 1px;}#sk-container-id-1 div.sk-estimator {font-family: monospace;background-color: #f0f8ff;border: 1px dotted black;border-radius: 0.25em;box-sizing: border-box;margin-bottom: 0.5em;}#sk-container-id-1 div.sk-estimator:hover {background-color: #d4ebff;}#sk-container-id-1 div.sk-parallel-item::after {content: \"\";width: 100%;border-bottom: 1px solid gray;flex-grow: 1;}#sk-container-id-1 div.sk-label:hover label.sk-toggleable__label {background-color: #d4ebff;}#sk-container-id-1 div.sk-serial::before {content: \"\";position: absolute;border-left: 1px solid gray;box-sizing: border-box;top: 0;bottom: 0;left: 50%;z-index: 0;}#sk-container-id-1 div.sk-serial {display: flex;flex-direction: column;align-items: center;background-color: white;padding-right: 0.2em;padding-left: 0.2em;position: relative;}#sk-container-id-1 div.sk-item {position: relative;z-index: 1;}#sk-container-id-1 div.sk-parallel {display: flex;align-items: stretch;justify-content: center;background-color: white;position: relative;}#sk-container-id-1 div.sk-item::before, #sk-container-id-1 div.sk-parallel-item::before {content: \"\";position: absolute;border-left: 1px solid gray;box-sizing: border-box;top: 0;bottom: 0;left: 50%;z-index: -1;}#sk-container-id-1 div.sk-parallel-item {display: flex;flex-direction: column;z-index: 1;position: relative;background-color: white;}#sk-container-id-1 div.sk-parallel-item:first-child::after {align-self: flex-end;width: 50%;}#sk-container-id-1 div.sk-parallel-item:last-child::after {align-self: flex-start;width: 50%;}#sk-container-id-1 div.sk-parallel-item:only-child::after {width: 0;}#sk-container-id-1 div.sk-dashed-wrapped {border: 1px dashed gray;margin: 0 0.4em 0.5em 0.4em;box-sizing: border-box;padding-bottom: 0.4em;background-color: white;}#sk-container-id-1 div.sk-label label {font-family: monospace;font-weight: bold;display: inline-block;line-height: 1.2em;}#sk-container-id-1 div.sk-label-container {text-align: center;}#sk-container-id-1 div.sk-container {/* jupyter's `normalize.less` sets `[hidden] { display: none; }` but bootstrap.min.css set `[hidden] { display: none !important; }` so we also need the `!important` here to be able to override the default hidden behavior on the sphinx rendered scikit-learn.org. See: https://github.com/scikit-learn/scikit-learn/issues/21755 */display: inline-block !important;position: relative;}#sk-container-id-1 div.sk-text-repr-fallback {display: none;}</style><div id=\"sk-container-id-1\" class=\"sk-top-container\"><div class=\"sk-text-repr-fallback\"><pre>SVC(kernel=&#x27;linear&#x27;)</pre><b>In a Jupyter environment, please rerun this cell to show the HTML representation or trust the notebook. <br />On GitHub, the HTML representation is unable to render, please try loading this page with nbviewer.org.</b></div><div class=\"sk-container\" hidden><div class=\"sk-item\"><div class=\"sk-estimator sk-toggleable\"><input class=\"sk-toggleable__control sk-hidden--visually\" id=\"sk-estimator-id-1\" type=\"checkbox\" checked><label for=\"sk-estimator-id-1\" class=\"sk-toggleable__label sk-toggleable__label-arrow\">SVC</label><div class=\"sk-toggleable__content\"><pre>SVC(kernel=&#x27;linear&#x27;)</pre></div></div></div></div></div>"
      ],
      "text/plain": [
       "SVC(kernel='linear')"
      ]
     },
     "execution_count": 106,
     "metadata": {},
     "output_type": "execute_result"
    }
   ],
   "source": [
    "svc.fit(X_train_st,y_train)"
   ]
  },
  {
   "cell_type": "code",
   "execution_count": 107,
   "id": "e95bc712",
   "metadata": {},
   "outputs": [],
   "source": [
    "y_pred_train=svc.predict(X_train_st)\n",
    "y_pred_test=svc.predict(X_test_st)"
   ]
  },
  {
   "cell_type": "code",
   "execution_count": 108,
   "id": "5fcaab32",
   "metadata": {},
   "outputs": [
    {
     "data": {
      "image/png": "[encoded data removed]",
      "text/plain": [
       "<Figure size 640x480 with 2 Axes>"
      ]
     },
     "metadata": {},
     "output_type": "display_data"
    }
   ],
   "source": [
    "plot_confusion_matrix(y_test,y_pred_test)"
   ]
  },
  {
   "cell_type": "code",
   "execution_count": 109,
   "id": "def6bbdf",
   "metadata": {},
   "outputs": [
    {
     "name": "stdout",
     "output_type": "stream",
     "text": [
      "Specificity TRAIN: 0.00 Specificity TEST: 0.00\n",
      "Recall TRAIN: 1.00 Recall TEST: 1.00\n"
     ]
    }
   ],
   "source": [
    "evaluate_model(y_test,y_pred_test,y_train,y_pred_train)"
   ]
  },
  {
   "cell_type": "markdown",
   "id": "f6018d8c",
   "metadata": {},
   "source": [
    "#### Tutte le osservazioni sono classificate come positive"
   ]
  },
  {
   "cell_type": "markdown",
   "id": "6bfe1e7c",
   "metadata": {},
   "source": [
    "#### SVM: POLYNOMIAL KERNEL AND BALANCED CLASSES"
   ]
  },
  {
   "cell_type": "code",
   "execution_count": 110,
   "id": "addec659",
   "metadata": {},
   "outputs": [],
   "source": [
    "svc=SVC(kernel=\"poly\",class_weight=\"balanced\")"
   ]
  },
  {
   "cell_type": "code",
   "execution_count": 111,
   "id": "0de755ba",
   "metadata": {
    "scrolled": true
   },
   "outputs": [
    {
     "data": {
      "text/html": [
       "<style>#sk-container-id-2 {color: black;background-color: white;}#sk-container-id-2 pre{padding: 0;}#sk-container-id-2 div.sk-toggleable {background-color: white;}#sk-container-id-2 label.sk-toggleable__label {cursor: pointer;display: block;width: 100%;margin-bottom: 0;padding: 0.3em;box-sizing: border-box;text-align: center;}#sk-container-id-2 label.sk-toggleable__label-arrow:before {content: \"▸\";float: left;margin-right: 0.25em;color: #696969;}#sk-container-id-2 label.sk-toggleable__label-arrow:hover:before {color: black;}#sk-container-id-2 div.sk-estimator:hover label.sk-toggleable__label-arrow:before {color: black;}#sk-container-id-2 div.sk-toggleable__content {max-height: 0;max-width: 0;overflow: hidden;text-align: left;background-color: #f0f8ff;}#sk-container-id-2 div.sk-toggleable__content pre {margin: 0.2em;color: black;border-radius: 0.25em;background-color: #f0f8ff;}#sk-container-id-2 input.sk-toggleable__control:checked~div.sk-toggleable__content {max-height: 200px;max-width: 100%;overflow: auto;}#sk-container-id-2 input.sk-toggleable__control:checked~label.sk-toggleable__label-arrow:before {content: \"▾\";}#sk-container-id-2 div.sk-estimator input.sk-toggleable__control:checked~label.sk-toggleable__label {background-color: #d4ebff;}#sk-container-id-2 div.sk-label input.sk-toggleable__control:checked~label.sk-toggleable__label {background-color: #d4ebff;}#sk-container-id-2 input.sk-hidden--visually {border: 0;clip: rect(1px 1px 1px 1px);clip: rect(1px, 1px, 1px, 1px);height: 1px;margin: -1px;overflow: hidden;padding: 0;position: absolute;width: 1px;}#sk-container-id-2 div.sk-estimator {font-family: monospace;background-color: #f0f8ff;border: 1px dotted black;border-radius: 0.25em;box-sizing: border-box;margin-bottom: 0.5em;}#sk-container-id-2 div.sk-estimator:hover {background-color: #d4ebff;}#sk-container-id-2 div.sk-parallel-item::after {content: \"\";width: 100%;border-bottom: 1px solid gray;flex-grow: 1;}#sk-container-id-2 div.sk-label:hover label.sk-toggleable__label {background-color: #d4ebff;}#sk-container-id-2 div.sk-serial::before {content: \"\";position: absolute;border-left: 1px solid gray;box-sizing: border-box;top: 0;bottom: 0;left: 50%;z-index: 0;}#sk-container-id-2 div.sk-serial {display: flex;flex-direction: column;align-items: center;background-color: white;padding-right: 0.2em;padding-left: 0.2em;position: relative;}#sk-container-id-2 div.sk-item {position: relative;z-index: 1;}#sk-container-id-2 div.sk-parallel {display: flex;align-items: stretch;justify-content: center;background-color: white;position: relative;}#sk-container-id-2 div.sk-item::before, #sk-container-id-2 div.sk-parallel-item::before {content: \"\";position: absolute;border-left: 1px solid gray;box-sizing: border-box;top: 0;bottom: 0;left: 50%;z-index: -1;}#sk-container-id-2 div.sk-parallel-item {display: flex;flex-direction: column;z-index: 1;position: relative;background-color: white;}#sk-container-id-2 div.sk-parallel-item:first-child::after {align-self: flex-end;width: 50%;}#sk-container-id-2 div.sk-parallel-item:last-child::after {align-self: flex-start;width: 50%;}#sk-container-id-2 div.sk-parallel-item:only-child::after {width: 0;}#sk-container-id-2 div.sk-dashed-wrapped {border: 1px dashed gray;margin: 0 0.4em 0.5em 0.4em;box-sizing: border-box;padding-bottom: 0.4em;background-color: white;}#sk-container-id-2 div.sk-label label {font-family: monospace;font-weight: bold;display: inline-block;line-height: 1.2em;}#sk-container-id-2 div.sk-label-container {text-align: center;}#sk-container-id-2 div.sk-container {/* jupyter's `normalize.less` sets `[hidden] { display: none; }` but bootstrap.min.css set `[hidden] { display: none !important; }` so we also need the `!important` here to be able to override the default hidden behavior on the sphinx rendered scikit-learn.org. See: https://github.com/scikit-learn/scikit-learn/issues/21755 */display: inline-block !important;position: relative;}#sk-container-id-2 div.sk-text-repr-fallback {display: none;}</style><div id=\"sk-container-id-2\" class=\"sk-top-container\"><div class=\"sk-text-repr-fallback\"><pre>SVC(class_weight=&#x27;balanced&#x27;, kernel=&#x27;poly&#x27;)</pre><b>In a Jupyter environment, please rerun this cell to show the HTML representation or trust the notebook. <br />On GitHub, the HTML representation is unable to render, please try loading this page with nbviewer.org.</b></div><div class=\"sk-container\" hidden><div class=\"sk-item\"><div class=\"sk-estimator sk-toggleable\"><input class=\"sk-toggleable__control sk-hidden--visually\" id=\"sk-estimator-id-2\" type=\"checkbox\" checked><label for=\"sk-estimator-id-2\" class=\"sk-toggleable__label sk-toggleable__label-arrow\">SVC</label><div class=\"sk-toggleable__content\"><pre>SVC(class_weight=&#x27;balanced&#x27;, kernel=&#x27;poly&#x27;)</pre></div></div></div></div></div>"
      ],
      "text/plain": [
       "SVC(class_weight='balanced', kernel='poly')"
      ]
     },
     "execution_count": 111,
     "metadata": {},
     "output_type": "execute_result"
    }
   ],
   "source": [
    "svc.fit(X_train_st,y_train)"
   ]
  },
  {
   "cell_type": "code",
   "execution_count": 112,
   "id": "d6c45a92",
   "metadata": {},
   "outputs": [],
   "source": [
    "y_pred_train=svc.predict(X_train_st)\n",
    "y_pred_test=svc.predict(X_test_st)"
   ]
  },
  {
   "cell_type": "code",
   "execution_count": 113,
   "id": "81d3f8e6",
   "metadata": {},
   "outputs": [
    {
     "data": {
      "image/png": "[encoded data removed]",
      "text/plain": [
       "<Figure size 640x480 with 2 Axes>"
      ]
     },
     "metadata": {},
     "output_type": "display_data"
    }
   ],
   "source": [
    "plot_confusion_matrix(y_test,y_pred_test)"
   ]
  },
  {
   "cell_type": "code",
   "execution_count": 114,
   "id": "49b6ee86",
   "metadata": {},
   "outputs": [
    {
     "name": "stdout",
     "output_type": "stream",
     "text": [
      "Specificity TRAIN: 0.60 Specificity TEST: 0.50\n",
      "Recall TRAIN: 0.71 Recall TEST: 0.67\n"
     ]
    }
   ],
   "source": [
    "evaluate_model(y_test,y_pred_test,y_train,y_pred_train)"
   ]
  },
  {
   "cell_type": "markdown",
   "id": "fa3edee1",
   "metadata": {},
   "source": [
    "#### Il modello non rispetta tutti i requisiti"
   ]
  },
  {
   "cell_type": "markdown",
   "id": "2598b4eb",
   "metadata": {},
   "source": [
    "#### SVM: POLYNOMIAL KERNEL, BALANCED CLASSES AND HIGHER DEGREE"
   ]
  },
  {
   "cell_type": "code",
   "execution_count": 115,
   "id": "876144e1",
   "metadata": {},
   "outputs": [],
   "source": [
    "svc=SVC(kernel=\"poly\", class_weight=\"balanced\", degree=5)"
   ]
  },
  {
   "cell_type": "code",
   "execution_count": 116,
   "id": "b1607e2e",
   "metadata": {
    "scrolled": true
   },
   "outputs": [
    {
     "data": {
      "text/html": [
       "<style>#sk-container-id-3 {color: black;background-color: white;}#sk-container-id-3 pre{padding: 0;}#sk-container-id-3 div.sk-toggleable {background-color: white;}#sk-container-id-3 label.sk-toggleable__label {cursor: pointer;display: block;width: 100%;margin-bottom: 0;padding: 0.3em;box-sizing: border-box;text-align: center;}#sk-container-id-3 label.sk-toggleable__label-arrow:before {content: \"▸\";float: left;margin-right: 0.25em;color: #696969;}#sk-container-id-3 label.sk-toggleable__label-arrow:hover:before {color: black;}#sk-container-id-3 div.sk-estimator:hover label.sk-toggleable__label-arrow:before {color: black;}#sk-container-id-3 div.sk-toggleable__content {max-height: 0;max-width: 0;overflow: hidden;text-align: left;background-color: #f0f8ff;}#sk-container-id-3 div.sk-toggleable__content pre {margin: 0.2em;color: black;border-radius: 0.25em;background-color: #f0f8ff;}#sk-container-id-3 input.sk-toggleable__control:checked~div.sk-toggleable__content {max-height: 200px;max-width: 100%;overflow: auto;}#sk-container-id-3 input.sk-toggleable__control:checked~label.sk-toggleable__label-arrow:before {content: \"▾\";}#sk-container-id-3 div.sk-estimator input.sk-toggleable__control:checked~label.sk-toggleable__label {background-color: #d4ebff;}#sk-container-id-3 div.sk-label input.sk-toggleable__control:checked~label.sk-toggleable__label {background-color: #d4ebff;}#sk-container-id-3 input.sk-hidden--visually {border: 0;clip: rect(1px 1px 1px 1px);clip: rect(1px, 1px, 1px, 1px);height: 1px;margin: -1px;overflow: hidden;padding: 0;position: absolute;width: 1px;}#sk-container-id-3 div.sk-estimator {font-family: monospace;background-color: #f0f8ff;border: 1px dotted black;border-radius: 0.25em;box-sizing: border-box;margin-bottom: 0.5em;}#sk-container-id-3 div.sk-estimator:hover {background-color: #d4ebff;}#sk-container-id-3 div.sk-parallel-item::after {content: \"\";width: 100%;border-bottom: 1px solid gray;flex-grow: 1;}#sk-container-id-3 div.sk-label:hover label.sk-toggleable__label {background-color: #d4ebff;}#sk-container-id-3 div.sk-serial::before {content: \"\";position: absolute;border-left: 1px solid gray;box-sizing: border-box;top: 0;bottom: 0;left: 50%;z-index: 0;}#sk-container-id-3 div.sk-serial {display: flex;flex-direction: column;align-items: center;background-color: white;padding-right: 0.2em;padding-left: 0.2em;position: relative;}#sk-container-id-3 div.sk-item {position: relative;z-index: 1;}#sk-container-id-3 div.sk-parallel {display: flex;align-items: stretch;justify-content: center;background-color: white;position: relative;}#sk-container-id-3 div.sk-item::before, #sk-container-id-3 div.sk-parallel-item::before {content: \"\";position: absolute;border-left: 1px solid gray;box-sizing: border-box;top: 0;bottom: 0;left: 50%;z-index: -1;}#sk-container-id-3 div.sk-parallel-item {display: flex;flex-direction: column;z-index: 1;position: relative;background-color: white;}#sk-container-id-3 div.sk-parallel-item:first-child::after {align-self: flex-end;width: 50%;}#sk-container-id-3 div.sk-parallel-item:last-child::after {align-self: flex-start;width: 50%;}#sk-container-id-3 div.sk-parallel-item:only-child::after {width: 0;}#sk-container-id-3 div.sk-dashed-wrapped {border: 1px dashed gray;margin: 0 0.4em 0.5em 0.4em;box-sizing: border-box;padding-bottom: 0.4em;background-color: white;}#sk-container-id-3 div.sk-label label {font-family: monospace;font-weight: bold;display: inline-block;line-height: 1.2em;}#sk-container-id-3 div.sk-label-container {text-align: center;}#sk-container-id-3 div.sk-container {/* jupyter's `normalize.less` sets `[hidden] { display: none; }` but bootstrap.min.css set `[hidden] { display: none !important; }` so we also need the `!important` here to be able to override the default hidden behavior on the sphinx rendered scikit-learn.org. See: https://github.com/scikit-learn/scikit-learn/issues/21755 */display: inline-block !important;position: relative;}#sk-container-id-3 div.sk-text-repr-fallback {display: none;}</style><div id=\"sk-container-id-3\" class=\"sk-top-container\"><div class=\"sk-text-repr-fallback\"><pre>SVC(class_weight=&#x27;balanced&#x27;, degree=5, kernel=&#x27;poly&#x27;)</pre><b>In a Jupyter environment, please rerun this cell to show the HTML representation or trust the notebook. <br />On GitHub, the HTML representation is unable to render, please try loading this page with nbviewer.org.</b></div><div class=\"sk-container\" hidden><div class=\"sk-item\"><div class=\"sk-estimator sk-toggleable\"><input class=\"sk-toggleable__control sk-hidden--visually\" id=\"sk-estimator-id-3\" type=\"checkbox\" checked><label for=\"sk-estimator-id-3\" class=\"sk-toggleable__label sk-toggleable__label-arrow\">SVC</label><div class=\"sk-toggleable__content\"><pre>SVC(class_weight=&#x27;balanced&#x27;, degree=5, kernel=&#x27;poly&#x27;)</pre></div></div></div></div></div>"
      ],
      "text/plain": [
       "SVC(class_weight='balanced', degree=5, kernel='poly')"
      ]
     },
     "execution_count": 116,
     "metadata": {},
     "output_type": "execute_result"
    }
   ],
   "source": [
    "svc.fit(X_train_st,y_train)"
   ]
  },
  {
   "cell_type": "code",
   "execution_count": 117,
   "id": "543141ab",
   "metadata": {},
   "outputs": [],
   "source": [
    "y_pred_train=svc.predict(X_train_st)\n",
    "y_pred_test=svc.predict(X_test_st)"
   ]
  },
  {
   "cell_type": "code",
   "execution_count": 118,
   "id": "5e6d5099",
   "metadata": {},
   "outputs": [
    {
     "data": {
      "image/png": "[encoded data removed]",
      "text/plain": [
       "<Figure size 640x480 with 2 Axes>"
      ]
     },
     "metadata": {},
     "output_type": "display_data"
    }
   ],
   "source": [
    "plot_confusion_matrix(y_test,y_pred_test)"
   ]
  },
  {
   "cell_type": "code",
   "execution_count": 119,
   "id": "34ca52d6",
   "metadata": {},
   "outputs": [
    {
     "name": "stdout",
     "output_type": "stream",
     "text": [
      "Specificity TRAIN: 0.52 Specificity TEST: 0.38\n",
      "Recall TRAIN: 0.85 Recall TEST: 0.80\n"
     ]
    }
   ],
   "source": [
    "evaluate_model(y_test,y_pred_test,y_train,y_pred_train)"
   ]
  },
  {
   "cell_type": "markdown",
   "id": "ab5fbbda",
   "metadata": {},
   "source": [
    "#### Il modello non rispetta tutti i requisiti"
   ]
  },
  {
   "cell_type": "markdown",
   "id": "bdb72306",
   "metadata": {},
   "source": [
    "#### SVM: SIGMOIDAL KERNEL AND BALANCED CLASSES"
   ]
  },
  {
   "cell_type": "code",
   "execution_count": 120,
   "id": "76c5ebc4",
   "metadata": {},
   "outputs": [],
   "source": [
    "svc=SVC(kernel=\"sigmoid\",class_weight=\"balanced\")"
   ]
  },
  {
   "cell_type": "code",
   "execution_count": 121,
   "id": "daa8706c",
   "metadata": {
    "scrolled": true
   },
   "outputs": [
    {
     "data": {
      "text/html": [
       "<style>#sk-container-id-4 {color: black;background-color: white;}#sk-container-id-4 pre{padding: 0;}#sk-container-id-4 div.sk-toggleable {background-color: white;}#sk-container-id-4 label.sk-toggleable__label {cursor: pointer;display: block;width: 100%;margin-bottom: 0;padding: 0.3em;box-sizing: border-box;text-align: center;}#sk-container-id-4 label.sk-toggleable__label-arrow:before {content: \"▸\";float: left;margin-right: 0.25em;color: #696969;}#sk-container-id-4 label.sk-toggleable__label-arrow:hover:before {color: black;}#sk-container-id-4 div.sk-estimator:hover label.sk-toggleable__label-arrow:before {color: black;}#sk-container-id-4 div.sk-toggleable__content {max-height: 0;max-width: 0;overflow: hidden;text-align: left;background-color: #f0f8ff;}#sk-container-id-4 div.sk-toggleable__content pre {margin: 0.2em;color: black;border-radius: 0.25em;background-color: #f0f8ff;}#sk-container-id-4 input.sk-toggleable__control:checked~div.sk-toggleable__content {max-height: 200px;max-width: 100%;overflow: auto;}#sk-container-id-4 input.sk-toggleable__control:checked~label.sk-toggleable__label-arrow:before {content: \"▾\";}#sk-container-id-4 div.sk-estimator input.sk-toggleable__control:checked~label.sk-toggleable__label {background-color: #d4ebff;}#sk-container-id-4 div.sk-label input.sk-toggleable__control:checked~label.sk-toggleable__label {background-color: #d4ebff;}#sk-container-id-4 input.sk-hidden--visually {border: 0;clip: rect(1px 1px 1px 1px);clip: rect(1px, 1px, 1px, 1px);height: 1px;margin: -1px;overflow: hidden;padding: 0;position: absolute;width: 1px;}#sk-container-id-4 div.sk-estimator {font-family: monospace;background-color: #f0f8ff;border: 1px dotted black;border-radius: 0.25em;box-sizing: border-box;margin-bottom: 0.5em;}#sk-container-id-4 div.sk-estimator:hover {background-color: #d4ebff;}#sk-container-id-4 div.sk-parallel-item::after {content: \"\";width: 100%;border-bottom: 1px solid gray;flex-grow: 1;}#sk-container-id-4 div.sk-label:hover label.sk-toggleable__label {background-color: #d4ebff;}#sk-container-id-4 div.sk-serial::before {content: \"\";position: absolute;border-left: 1px solid gray;box-sizing: border-box;top: 0;bottom: 0;left: 50%;z-index: 0;}#sk-container-id-4 div.sk-serial {display: flex;flex-direction: column;align-items: center;background-color: white;padding-right: 0.2em;padding-left: 0.2em;position: relative;}#sk-container-id-4 div.sk-item {position: relative;z-index: 1;}#sk-container-id-4 div.sk-parallel {display: flex;align-items: stretch;justify-content: center;background-color: white;position: relative;}#sk-container-id-4 div.sk-item::before, #sk-container-id-4 div.sk-parallel-item::before {content: \"\";position: absolute;border-left: 1px solid gray;box-sizing: border-box;top: 0;bottom: 0;left: 50%;z-index: -1;}#sk-container-id-4 div.sk-parallel-item {display: flex;flex-direction: column;z-index: 1;position: relative;background-color: white;}#sk-container-id-4 div.sk-parallel-item:first-child::after {align-self: flex-end;width: 50%;}#sk-container-id-4 div.sk-parallel-item:last-child::after {align-self: flex-start;width: 50%;}#sk-container-id-4 div.sk-parallel-item:only-child::after {width: 0;}#sk-container-id-4 div.sk-dashed-wrapped {border: 1px dashed gray;margin: 0 0.4em 0.5em 0.4em;box-sizing: border-box;padding-bottom: 0.4em;background-color: white;}#sk-container-id-4 div.sk-label label {font-family: monospace;font-weight: bold;display: inline-block;line-height: 1.2em;}#sk-container-id-4 div.sk-label-container {text-align: center;}#sk-container-id-4 div.sk-container {/* jupyter's `normalize.less` sets `[hidden] { display: none; }` but bootstrap.min.css set `[hidden] { display: none !important; }` so we also need the `!important` here to be able to override the default hidden behavior on the sphinx rendered scikit-learn.org. See: https://github.com/scikit-learn/scikit-learn/issues/21755 */display: inline-block !important;position: relative;}#sk-container-id-4 div.sk-text-repr-fallback {display: none;}</style><div id=\"sk-container-id-4\" class=\"sk-top-container\"><div class=\"sk-text-repr-fallback\"><pre>SVC(class_weight=&#x27;balanced&#x27;, kernel=&#x27;sigmoid&#x27;)</pre><b>In a Jupyter environment, please rerun this cell to show the HTML representation or trust the notebook. <br />On GitHub, the HTML representation is unable to render, please try loading this page with nbviewer.org.</b></div><div class=\"sk-container\" hidden><div class=\"sk-item\"><div class=\"sk-estimator sk-toggleable\"><input class=\"sk-toggleable__control sk-hidden--visually\" id=\"sk-estimator-id-4\" type=\"checkbox\" checked><label for=\"sk-estimator-id-4\" class=\"sk-toggleable__label sk-toggleable__label-arrow\">SVC</label><div class=\"sk-toggleable__content\"><pre>SVC(class_weight=&#x27;balanced&#x27;, kernel=&#x27;sigmoid&#x27;)</pre></div></div></div></div></div>"
      ],
      "text/plain": [
       "SVC(class_weight='balanced', kernel='sigmoid')"
      ]
     },
     "execution_count": 121,
     "metadata": {},
     "output_type": "execute_result"
    }
   ],
   "source": [
    "svc.fit(X_train_st,y_train)"
   ]
  },
  {
   "cell_type": "code",
   "execution_count": 122,
   "id": "7aed8617",
   "metadata": {},
   "outputs": [],
   "source": [
    "y_pred_train=svc.predict(X_train_st)\n",
    "y_pred_test=svc.predict(X_test_st)"
   ]
  },
  {
   "cell_type": "code",
   "execution_count": 123,
   "id": "e76d8fc9",
   "metadata": {},
   "outputs": [
    {
     "data": {
      "image/png": "[encoded data removed]",
      "text/plain": [
       "<Figure size 640x480 with 2 Axes>"
      ]
     },
     "metadata": {},
     "output_type": "display_data"
    }
   ],
   "source": [
    "plot_confusion_matrix(y_test,y_pred_test)"
   ]
  },
  {
   "cell_type": "code",
   "execution_count": 124,
   "id": "d316b063",
   "metadata": {},
   "outputs": [
    {
     "name": "stdout",
     "output_type": "stream",
     "text": [
      "Specificity TRAIN: 0.46 Specificity TEST: 0.47\n",
      "Recall TRAIN: 0.49 Recall TEST: 0.49\n"
     ]
    }
   ],
   "source": [
    "evaluate_model(y_test,y_pred_test,y_train,y_pred_train)"
   ]
  },
  {
   "cell_type": "markdown",
   "id": "a7cf2f51",
   "metadata": {},
   "source": [
    "#### Il modello non rispetta i requisiti"
   ]
  },
  {
   "cell_type": "markdown",
   "id": "702a5fa9",
   "metadata": {},
   "source": [
    "#### SVM: GAUSSIAN KERNEL AND BALANCED CLASSES"
   ]
  },
  {
   "cell_type": "code",
   "execution_count": 125,
   "id": "775dcc25",
   "metadata": {},
   "outputs": [],
   "source": [
    "svc=SVC(kernel=\"rbf\",class_weight=\"balanced\")"
   ]
  },
  {
   "cell_type": "code",
   "execution_count": 126,
   "id": "b2a2c45a",
   "metadata": {
    "scrolled": true
   },
   "outputs": [
    {
     "data": {
      "text/html": [
       "<style>#sk-container-id-5 {color: black;background-color: white;}#sk-container-id-5 pre{padding: 0;}#sk-container-id-5 div.sk-toggleable {background-color: white;}#sk-container-id-5 label.sk-toggleable__label {cursor: pointer;display: block;width: 100%;margin-bottom: 0;padding: 0.3em;box-sizing: border-box;text-align: center;}#sk-container-id-5 label.sk-toggleable__label-arrow:before {content: \"▸\";float: left;margin-right: 0.25em;color: #696969;}#sk-container-id-5 label.sk-toggleable__label-arrow:hover:before {color: black;}#sk-container-id-5 div.sk-estimator:hover label.sk-toggleable__label-arrow:before {color: black;}#sk-container-id-5 div.sk-toggleable__content {max-height: 0;max-width: 0;overflow: hidden;text-align: left;background-color: #f0f8ff;}#sk-container-id-5 div.sk-toggleable__content pre {margin: 0.2em;color: black;border-radius: 0.25em;background-color: #f0f8ff;}#sk-container-id-5 input.sk-toggleable__control:checked~div.sk-toggleable__content {max-height: 200px;max-width: 100%;overflow: auto;}#sk-container-id-5 input.sk-toggleable__control:checked~label.sk-toggleable__label-arrow:before {content: \"▾\";}#sk-container-id-5 div.sk-estimator input.sk-toggleable__control:checked~label.sk-toggleable__label {background-color: #d4ebff;}#sk-container-id-5 div.sk-label input.sk-toggleable__control:checked~label.sk-toggleable__label {background-color: #d4ebff;}#sk-container-id-5 input.sk-hidden--visually {border: 0;clip: rect(1px 1px 1px 1px);clip: rect(1px, 1px, 1px, 1px);height: 1px;margin: -1px;overflow: hidden;padding: 0;position: absolute;width: 1px;}#sk-container-id-5 div.sk-estimator {font-family: monospace;background-color: #f0f8ff;border: 1px dotted black;border-radius: 0.25em;box-sizing: border-box;margin-bottom: 0.5em;}#sk-container-id-5 div.sk-estimator:hover {background-color: #d4ebff;}#sk-container-id-5 div.sk-parallel-item::after {content: \"\";width: 100%;border-bottom: 1px solid gray;flex-grow: 1;}#sk-container-id-5 div.sk-label:hover label.sk-toggleable__label {background-color: #d4ebff;}#sk-container-id-5 div.sk-serial::before {content: \"\";position: absolute;border-left: 1px solid gray;box-sizing: border-box;top: 0;bottom: 0;left: 50%;z-index: 0;}#sk-container-id-5 div.sk-serial {display: flex;flex-direction: column;align-items: center;background-color: white;padding-right: 0.2em;padding-left: 0.2em;position: relative;}#sk-container-id-5 div.sk-item {position: relative;z-index: 1;}#sk-container-id-5 div.sk-parallel {display: flex;align-items: stretch;justify-content: center;background-color: white;position: relative;}#sk-container-id-5 div.sk-item::before, #sk-container-id-5 div.sk-parallel-item::before {content: \"\";position: absolute;border-left: 1px solid gray;box-sizing: border-box;top: 0;bottom: 0;left: 50%;z-index: -1;}#sk-container-id-5 div.sk-parallel-item {display: flex;flex-direction: column;z-index: 1;position: relative;background-color: white;}#sk-container-id-5 div.sk-parallel-item:first-child::after {align-self: flex-end;width: 50%;}#sk-container-id-5 div.sk-parallel-item:last-child::after {align-self: flex-start;width: 50%;}#sk-container-id-5 div.sk-parallel-item:only-child::after {width: 0;}#sk-container-id-5 div.sk-dashed-wrapped {border: 1px dashed gray;margin: 0 0.4em 0.5em 0.4em;box-sizing: border-box;padding-bottom: 0.4em;background-color: white;}#sk-container-id-5 div.sk-label label {font-family: monospace;font-weight: bold;display: inline-block;line-height: 1.2em;}#sk-container-id-5 div.sk-label-container {text-align: center;}#sk-container-id-5 div.sk-container {/* jupyter's `normalize.less` sets `[hidden] { display: none; }` but bootstrap.min.css set `[hidden] { display: none !important; }` so we also need the `!important` here to be able to override the default hidden behavior on the sphinx rendered scikit-learn.org. See: https://github.com/scikit-learn/scikit-learn/issues/21755 */display: inline-block !important;position: relative;}#sk-container-id-5 div.sk-text-repr-fallback {display: none;}</style><div id=\"sk-container-id-5\" class=\"sk-top-container\"><div class=\"sk-text-repr-fallback\"><pre>SVC(class_weight=&#x27;balanced&#x27;)</pre><b>In a Jupyter environment, please rerun this cell to show the HTML representation or trust the notebook. <br />On GitHub, the HTML representation is unable to render, please try loading this page with nbviewer.org.</b></div><div class=\"sk-container\" hidden><div class=\"sk-item\"><div class=\"sk-estimator sk-toggleable\"><input class=\"sk-toggleable__control sk-hidden--visually\" id=\"sk-estimator-id-5\" type=\"checkbox\" checked><label for=\"sk-estimator-id-5\" class=\"sk-toggleable__label sk-toggleable__label-arrow\">SVC</label><div class=\"sk-toggleable__content\"><pre>SVC(class_weight=&#x27;balanced&#x27;)</pre></div></div></div></div></div>"
      ],
      "text/plain": [
       "SVC(class_weight='balanced')"
      ]
     },
     "execution_count": 126,
     "metadata": {},
     "output_type": "execute_result"
    }
   ],
   "source": [
    "svc.fit(X_train_st,y_train)"
   ]
  },
  {
   "cell_type": "code",
   "execution_count": 127,
   "id": "b3fbf407",
   "metadata": {},
   "outputs": [],
   "source": [
    "y_pred_train=svc.predict(X_train_st)\n",
    "y_pred_test=svc.predict(X_test_st)"
   ]
  },
  {
   "cell_type": "code",
   "execution_count": 128,
   "id": "0267bb55",
   "metadata": {},
   "outputs": [
    {
     "data": {
      "image/png": "[encoded data removed]",
      "text/plain": [
       "<Figure size 640x480 with 2 Axes>"
      ]
     },
     "metadata": {},
     "output_type": "display_data"
    }
   ],
   "source": [
    "plot_confusion_matrix(y_test,y_pred_test)"
   ]
  },
  {
   "cell_type": "code",
   "execution_count": 129,
   "id": "f8e293c0",
   "metadata": {},
   "outputs": [
    {
     "name": "stdout",
     "output_type": "stream",
     "text": [
      "Specificity TRAIN: 0.64 Specificity TEST: 0.53\n",
      "Recall TRAIN: 0.68 Recall TEST: 0.66\n"
     ]
    }
   ],
   "source": [
    "evaluate_model(y_test,y_pred_test,y_train,y_pred_train)"
   ]
  },
  {
   "cell_type": "markdown",
   "id": "873b0330",
   "metadata": {},
   "source": [
    "#### Il modello non rispetta tutti i requisiti"
   ]
  },
  {
   "cell_type": "markdown",
   "id": "11482b4a",
   "metadata": {},
   "source": [
    "### K-NEAREST NEIGHBORS MODEL"
   ]
  },
  {
   "cell_type": "code",
   "execution_count": 130,
   "id": "7f7bf4e4",
   "metadata": {},
   "outputs": [],
   "source": [
    "from sklearn.neighbors import KNeighborsClassifier"
   ]
  },
  {
   "cell_type": "code",
   "execution_count": 131,
   "id": "0b8f3cef",
   "metadata": {
    "scrolled": false
   },
   "outputs": [
    {
     "name": "stdout",
     "output_type": "stream",
     "text": [
      "\n",
      "K=2\n",
      "Specificity TRAIN: 0.85 Specificity TEST: 0.60\n",
      "Recall TRAIN: 0.81 Recall TEST: 0.73\n",
      "\n",
      "K=3\n",
      "Specificity TRAIN: 0.55 Specificity TEST: 0.36\n",
      "Recall TRAIN: 0.94 Recall TEST: 0.89\n",
      "\n",
      "K=4\n",
      "Specificity TRAIN: 0.64 Specificity TEST: 0.45\n",
      "Recall TRAIN: 0.89 Recall TEST: 0.84\n",
      "\n",
      "K=5\n",
      "Specificity TRAIN: 0.41 Specificity TEST: 0.28\n",
      "Recall TRAIN: 0.95 Recall TEST: 0.93\n",
      "\n",
      "K=6\n",
      "Specificity TRAIN: 0.49 Specificity TEST: 0.35\n",
      "Recall TRAIN: 0.92 Recall TEST: 0.88\n",
      "\n",
      "K=7\n",
      "Specificity TRAIN: 0.32 Specificity TEST: 0.22\n",
      "Recall TRAIN: 0.96 Recall TEST: 0.94\n",
      "\n",
      "K=8\n",
      "Specificity TRAIN: 0.38 Specificity TEST: 0.27\n",
      "Recall TRAIN: 0.94 Recall TEST: 0.91\n",
      "\n",
      "K=9\n",
      "Specificity TRAIN: 0.25 Specificity TEST: 0.16\n",
      "Recall TRAIN: 0.97 Recall TEST: 0.95\n",
      "\n",
      "K=10\n",
      "Specificity TRAIN: 0.29 Specificity TEST: 0.19\n",
      "Recall TRAIN: 0.95 Recall TEST: 0.93\n",
      "\n",
      "K=20\n",
      "Specificity TRAIN: 0.11 Specificity TEST: 0.07\n",
      "Recall TRAIN: 0.98 Recall TEST: 0.98\n",
      "\n",
      "K=30\n",
      "Specificity TRAIN: 0.04 Specificity TEST: 0.02\n",
      "Recall TRAIN: 0.99 Recall TEST: 0.99\n",
      "\n",
      "K=40\n",
      "Specificity TRAIN: 0.01 Specificity TEST: 0.01\n",
      "Recall TRAIN: 1.00 Recall TEST: 1.00\n",
      "\n",
      "K=50\n",
      "Specificity TRAIN: 0.00 Specificity TEST: 0.00\n",
      "Recall TRAIN: 1.00 Recall TEST: 1.00\n",
      "\n",
      "K=60\n",
      "Specificity TRAIN: 0.00 Specificity TEST: 0.00\n",
      "Recall TRAIN: 1.00 Recall TEST: 1.00\n",
      "\n",
      "K=70\n",
      "Specificity TRAIN: 0.00 Specificity TEST: 0.00\n",
      "Recall TRAIN: 1.00 Recall TEST: 1.00\n",
      "\n",
      "K=80\n",
      "Specificity TRAIN: 0.00 Specificity TEST: 0.00\n",
      "Recall TRAIN: 1.00 Recall TEST: 1.00\n",
      "\n",
      "K=90\n",
      "Specificity TRAIN: 0.00 Specificity TEST: 0.00\n",
      "Recall TRAIN: 1.00 Recall TEST: 1.00\n",
      "\n",
      "K=100\n",
      "Specificity TRAIN: 0.00 Specificity TEST: 0.00\n",
      "Recall TRAIN: 1.00 Recall TEST: 1.00\n"
     ]
    }
   ],
   "source": [
    "Ks=[2,3,4,5,6,7,8,9,10,20,30,40,50,60,70,80,90,100]\n",
    "\n",
    "for K in Ks:\n",
    "    \n",
    "    print(f\"\\nK={K}\")\n",
    "    \n",
    "    knn=KNeighborsClassifier(n_neighbors=K)\n",
    "    knn.fit(X_train_norm,y_train)\n",
    "    \n",
    "    y_pred_train=knn.predict(X_train_norm)\n",
    "    \n",
    "    y_pred_test=knn.predict(X_test_norm)\n",
    "    \n",
    "    evaluate_model(y_test,y_pred_test,y_train,y_pred_train)"
   ]
  },
  {
   "cell_type": "markdown",
   "id": "debc905a",
   "metadata": {},
   "source": [
    "#### Scelgo K=2, in corrispondenza del quale il modello rispetta entrambi i requisiti"
   ]
  },
  {
   "cell_type": "code",
   "execution_count": 132,
   "id": "b640899d",
   "metadata": {},
   "outputs": [],
   "source": [
    "K=2\n",
    "knn=KNeighborsClassifier(n_neighbors=K)\n",
    "knn.fit(X_train_norm,y_train)\n",
    "y_pred_train=knn.predict(X_train_norm)\n",
    "y_pred_test=knn.predict(X_test_norm)"
   ]
  },
  {
   "cell_type": "code",
   "execution_count": 133,
   "id": "46645a2b",
   "metadata": {},
   "outputs": [
    {
     "data": {
      "image/png": "[encoded data removed]",
      "text/plain": [
       "<Figure size 640x480 with 2 Axes>"
      ]
     },
     "metadata": {},
     "output_type": "display_data"
    }
   ],
   "source": [
    "plot_confusion_matrix(y_test,y_pred_test)"
   ]
  },
  {
   "cell_type": "code",
   "execution_count": 134,
   "id": "20b93e42",
   "metadata": {},
   "outputs": [
    {
     "name": "stdout",
     "output_type": "stream",
     "text": [
      "Specificity TRAIN: 0.85 Specificity TEST: 0.60\n",
      "Recall TRAIN: 0.81 Recall TEST: 0.73\n"
     ]
    }
   ],
   "source": [
    "evaluate_model(y_test,y_pred_test,y_train,y_pred_train)"
   ]
  },
  {
   "cell_type": "markdown",
   "id": "63aeb91f",
   "metadata": {},
   "source": [
    "#### Il modello rispetta entrambi i requisiti"
   ]
  },
  {
   "cell_type": "markdown",
   "id": "8cd2ccc3",
   "metadata": {},
   "source": [
    "### RADIUS NEAREST NEIGHBORS MODEL"
   ]
  },
  {
   "cell_type": "code",
   "execution_count": 135,
   "id": "205752e9",
   "metadata": {},
   "outputs": [],
   "source": [
    "from sklearn.neighbors import RadiusNeighborsClassifier"
   ]
  },
  {
   "cell_type": "code",
   "execution_count": 136,
   "id": "92e27f8e",
   "metadata": {},
   "outputs": [
    {
     "name": "stdout",
     "output_type": "stream",
     "text": [
      "3.691677742209991\n"
     ]
    }
   ],
   "source": [
    "from scipy.spatial.distance import pdist\n",
    "\n",
    "pairwise_distances = pdist(X_train_norm)\n",
    "\n",
    "max_distance = np.max(pairwise_distances)\n",
    "\n",
    "print(max_distance)"
   ]
  },
  {
   "cell_type": "code",
   "execution_count": 137,
   "id": "81d0bd2d",
   "metadata": {},
   "outputs": [
    {
     "name": "stdout",
     "output_type": "stream",
     "text": [
      "\n",
      "R=0.5\n",
      "Error occurred: No neighbors found for test samples array([  40,  112,  360,  377,  414,  416,  503,  515,  555,  660,  863,\n",
      "        957, 1023, 1040, 1117, 1122, 1158, 1207, 1215, 1242, 1269, 1320,\n",
      "       1341, 1360, 1375, 1435, 1469, 1477, 1627, 1658, 1704, 1709, 1723,\n",
      "       1756, 1786, 1812, 1827, 1900, 1937, 1954, 2032, 2174, 2259, 2329,\n",
      "       2337, 2409, 2434, 2492, 2520, 2521, 2560, 2818, 2836, 2841, 2845,\n",
      "       2867, 2934, 2946, 3043, 3044, 3111, 3126, 3141, 3154, 3222, 3315,\n",
      "       3386, 3428, 3455, 3501, 3609, 3627, 3628, 3664, 3673, 3749, 3830,\n",
      "       3832, 3866, 3887, 3888, 4191, 4234, 4264, 4316, 4410, 4416, 4440,\n",
      "       4443, 4548, 4561, 4562, 4565, 4597, 4631, 4648, 4749, 4769, 4774,\n",
      "       4841, 4875, 4880, 4910, 5070, 5084, 5152, 5157, 5168, 5258, 5278,\n",
      "       5308, 5318, 5410, 5531, 5567, 5571, 5599, 5626, 5661, 5706, 5811,\n",
      "       5813, 5883, 5995, 6011, 6018, 6020, 6024, 6042, 6123, 6156],\n",
      "      dtype=int64), you can try using larger radius, giving a label for outliers, or considering removing them from your dataset.\n",
      "\n",
      "R=1\n",
      "Error occurred: No neighbors found for test samples array([  40,  112,  377,  503,  515,  555,  660,  863,  957, 1023, 1040,\n",
      "       1117, 1207, 1215, 1242, 1320, 1341, 1360, 1375, 1658, 1704, 1709,\n",
      "       1756, 1786, 1827, 1900, 1954, 2032, 2174, 2259, 2329, 2337, 2434,\n",
      "       2492, 2520, 2521, 2560, 2818, 2867, 2946, 3043, 3126, 3386, 3428,\n",
      "       3501, 3664, 3673, 3749, 3830, 3866, 3888, 4191, 4234, 4264, 4316,\n",
      "       4410, 4561, 4562, 4565, 4597, 4648, 4749, 4841, 4910, 5070, 5084,\n",
      "       5157, 5168, 5258, 5278, 5308, 5318, 5410, 5531, 5571, 5599, 5661,\n",
      "       5706, 5883, 6018, 6020, 6024, 6123, 6156], dtype=int64), you can try using larger radius, giving a label for outliers, or considering removing them from your dataset.\n",
      "\n",
      "R=1.4\n",
      "Error occurred: No neighbors found for test samples array([ 515, 1040, 1117, 1320, 1360, 1375, 1658, 1704, 1786, 2492, 3501,\n",
      "       3749, 3830, 3866, 3888, 4191, 4648, 5157, 5318], dtype=int64), you can try using larger radius, giving a label for outliers, or considering removing them from your dataset.\n",
      "\n",
      "R=1.5\n",
      "Error occurred: No neighbors found for test samples array([1704, 3888], dtype=int64), you can try using larger radius, giving a label for outliers, or considering removing them from your dataset.\n",
      "\n",
      "R=1.7\n",
      "Specificity TRAIN: 0.01 Specificity TEST: 0.00\n",
      "Recall TRAIN: 1.00 Recall TEST: 1.00\n",
      "\n",
      "R=1.8\n",
      "Specificity TRAIN: 0.00 Specificity TEST: 0.00\n",
      "Recall TRAIN: 1.00 Recall TEST: 1.00\n",
      "\n",
      "R=2\n",
      "Specificity TRAIN: 0.00 Specificity TEST: 0.00\n",
      "Recall TRAIN: 1.00 Recall TEST: 1.00\n",
      "\n",
      "R=2.5\n",
      "Specificity TRAIN: 0.00 Specificity TEST: 0.00\n",
      "Recall TRAIN: 1.00 Recall TEST: 1.00\n",
      "\n",
      "R=3\n",
      "Specificity TRAIN: 0.00 Specificity TEST: 0.00\n",
      "Recall TRAIN: 1.00 Recall TEST: 1.00\n",
      "\n",
      "R=4\n",
      "Specificity TRAIN: 0.00 Specificity TEST: 0.00\n",
      "Recall TRAIN: 1.00 Recall TEST: 1.00\n"
     ]
    }
   ],
   "source": [
    "Rs=[0.5, 1, 1.4, 1.5, 1.7, 1.8, 2, 2.5, 3, 4]\n",
    "\n",
    "for R in Rs:\n",
    "    \n",
    "    try:\n",
    "        \n",
    "        print(f\"\\nR={R}\")\n",
    "\n",
    "        rnn=RadiusNeighborsClassifier(radius=R)\n",
    "        rnn.fit(X_train_norm,y_train)\n",
    "\n",
    "\n",
    "        y_pred_train=rnn.predict(X_train_norm)\n",
    "\n",
    "        y_pred_test=rnn.predict(X_test_norm)\n",
    "        \n",
    "        evaluate_model(y_test,y_pred_test,y_train,y_pred_train)\n",
    "        \n",
    "    except ValueError as e:\n",
    "        \n",
    "        print(\"Error occurred:\", e)\n",
    "        continue"
   ]
  },
  {
   "cell_type": "markdown",
   "id": "352577b1",
   "metadata": {},
   "source": [
    "#### Osservo che osservazioni del test set non hanno \"neighbors\" a distanze basse; in tutti gli altri casi, i modelli tendono a rilevare le osservazioni come appartenenti alla classe positiva. Scelgo quindi arbitrariamente R=1.8"
   ]
  },
  {
   "cell_type": "code",
   "execution_count": 138,
   "id": "b13a0502",
   "metadata": {},
   "outputs": [],
   "source": [
    "R=1.8\n",
    "rnn=RadiusNeighborsClassifier(radius=R)\n",
    "rnn.fit(X_train_norm,y_train)\n",
    "y_pred_train=rnn.predict(X_train_norm)\n",
    "y_pred_test=rnn.predict(X_test_norm)"
   ]
  },
  {
   "cell_type": "code",
   "execution_count": 139,
   "id": "bad1fa57",
   "metadata": {},
   "outputs": [
    {
     "data": {
      "image/png": "[encoded data removed]",
      "text/plain": [
       "<Figure size 640x480 with 2 Axes>"
      ]
     },
     "metadata": {},
     "output_type": "display_data"
    }
   ],
   "source": [
    "plot_confusion_matrix(y_test,y_pred_test)"
   ]
  },
  {
   "cell_type": "code",
   "execution_count": 140,
   "id": "72631396",
   "metadata": {},
   "outputs": [
    {
     "name": "stdout",
     "output_type": "stream",
     "text": [
      "Specificity TRAIN: 0.00 Specificity TEST: 0.00\n",
      "Recall TRAIN: 1.00 Recall TEST: 1.00\n"
     ]
    }
   ],
   "source": [
    "evaluate_model(y_test,y_pred_test,y_train,y_pred_train)"
   ]
  },
  {
   "cell_type": "markdown",
   "id": "f3c280d8",
   "metadata": {},
   "source": [
    "#### Quasi tutte le osservazioni sono predette come positive"
   ]
  },
  {
   "cell_type": "markdown",
   "id": "dc01ed9d",
   "metadata": {},
   "source": [
    "### NEURAL NETWORK MODELS"
   ]
  },
  {
   "cell_type": "code",
   "execution_count": 141,
   "id": "314b6d1d",
   "metadata": {},
   "outputs": [],
   "source": [
    "from sklearn.linear_model import Perceptron"
   ]
  },
  {
   "cell_type": "markdown",
   "id": "0a308346",
   "metadata": {},
   "source": [
    "#### NN: PERCEPTRON"
   ]
  },
  {
   "cell_type": "code",
   "execution_count": 142,
   "id": "847ce3b1",
   "metadata": {},
   "outputs": [
    {
     "data": {
      "text/html": [
       "<style>#sk-container-id-6 {color: black;background-color: white;}#sk-container-id-6 pre{padding: 0;}#sk-container-id-6 div.sk-toggleable {background-color: white;}#sk-container-id-6 label.sk-toggleable__label {cursor: pointer;display: block;width: 100%;margin-bottom: 0;padding: 0.3em;box-sizing: border-box;text-align: center;}#sk-container-id-6 label.sk-toggleable__label-arrow:before {content: \"▸\";float: left;margin-right: 0.25em;color: #696969;}#sk-container-id-6 label.sk-toggleable__label-arrow:hover:before {color: black;}#sk-container-id-6 div.sk-estimator:hover label.sk-toggleable__label-arrow:before {color: black;}#sk-container-id-6 div.sk-toggleable__content {max-height: 0;max-width: 0;overflow: hidden;text-align: left;background-color: #f0f8ff;}#sk-container-id-6 div.sk-toggleable__content pre {margin: 0.2em;color: black;border-radius: 0.25em;background-color: #f0f8ff;}#sk-container-id-6 input.sk-toggleable__control:checked~div.sk-toggleable__content {max-height: 200px;max-width: 100%;overflow: auto;}#sk-container-id-6 input.sk-toggleable__control:checked~label.sk-toggleable__label-arrow:before {content: \"▾\";}#sk-container-id-6 div.sk-estimator input.sk-toggleable__control:checked~label.sk-toggleable__label {background-color: #d4ebff;}#sk-container-id-6 div.sk-label input.sk-toggleable__control:checked~label.sk-toggleable__label {background-color: #d4ebff;}#sk-container-id-6 input.sk-hidden--visually {border: 0;clip: rect(1px 1px 1px 1px);clip: rect(1px, 1px, 1px, 1px);height: 1px;margin: -1px;overflow: hidden;padding: 0;position: absolute;width: 1px;}#sk-container-id-6 div.sk-estimator {font-family: monospace;background-color: #f0f8ff;border: 1px dotted black;border-radius: 0.25em;box-sizing: border-box;margin-bottom: 0.5em;}#sk-container-id-6 div.sk-estimator:hover {background-color: #d4ebff;}#sk-container-id-6 div.sk-parallel-item::after {content: \"\";width: 100%;border-bottom: 1px solid gray;flex-grow: 1;}#sk-container-id-6 div.sk-label:hover label.sk-toggleable__label {background-color: #d4ebff;}#sk-container-id-6 div.sk-serial::before {content: \"\";position: absolute;border-left: 1px solid gray;box-sizing: border-box;top: 0;bottom: 0;left: 50%;z-index: 0;}#sk-container-id-6 div.sk-serial {display: flex;flex-direction: column;align-items: center;background-color: white;padding-right: 0.2em;padding-left: 0.2em;position: relative;}#sk-container-id-6 div.sk-item {position: relative;z-index: 1;}#sk-container-id-6 div.sk-parallel {display: flex;align-items: stretch;justify-content: center;background-color: white;position: relative;}#sk-container-id-6 div.sk-item::before, #sk-container-id-6 div.sk-parallel-item::before {content: \"\";position: absolute;border-left: 1px solid gray;box-sizing: border-box;top: 0;bottom: 0;left: 50%;z-index: -1;}#sk-container-id-6 div.sk-parallel-item {display: flex;flex-direction: column;z-index: 1;position: relative;background-color: white;}#sk-container-id-6 div.sk-parallel-item:first-child::after {align-self: flex-end;width: 50%;}#sk-container-id-6 div.sk-parallel-item:last-child::after {align-self: flex-start;width: 50%;}#sk-container-id-6 div.sk-parallel-item:only-child::after {width: 0;}#sk-container-id-6 div.sk-dashed-wrapped {border: 1px dashed gray;margin: 0 0.4em 0.5em 0.4em;box-sizing: border-box;padding-bottom: 0.4em;background-color: white;}#sk-container-id-6 div.sk-label label {font-family: monospace;font-weight: bold;display: inline-block;line-height: 1.2em;}#sk-container-id-6 div.sk-label-container {text-align: center;}#sk-container-id-6 div.sk-container {/* jupyter's `normalize.less` sets `[hidden] { display: none; }` but bootstrap.min.css set `[hidden] { display: none !important; }` so we also need the `!important` here to be able to override the default hidden behavior on the sphinx rendered scikit-learn.org. See: https://github.com/scikit-learn/scikit-learn/issues/21755 */display: inline-block !important;position: relative;}#sk-container-id-6 div.sk-text-repr-fallback {display: none;}</style><div id=\"sk-container-id-6\" class=\"sk-top-container\"><div class=\"sk-text-repr-fallback\"><pre>Perceptron()</pre><b>In a Jupyter environment, please rerun this cell to show the HTML representation or trust the notebook. <br />On GitHub, the HTML representation is unable to render, please try loading this page with nbviewer.org.</b></div><div class=\"sk-container\" hidden><div class=\"sk-item\"><div class=\"sk-estimator sk-toggleable\"><input class=\"sk-toggleable__control sk-hidden--visually\" id=\"sk-estimator-id-6\" type=\"checkbox\" checked><label for=\"sk-estimator-id-6\" class=\"sk-toggleable__label sk-toggleable__label-arrow\">Perceptron</label><div class=\"sk-toggleable__content\"><pre>Perceptron()</pre></div></div></div></div></div>"
      ],
      "text/plain": [
       "Perceptron()"
      ]
     },
     "execution_count": 142,
     "metadata": {},
     "output_type": "execute_result"
    }
   ],
   "source": [
    "p=Perceptron() \n",
    "p.fit(X_train_norm,y_train)"
   ]
  },
  {
   "cell_type": "code",
   "execution_count": 143,
   "id": "747b28d0",
   "metadata": {},
   "outputs": [],
   "source": [
    "y_pred_train=p.predict(X_train_norm)\n",
    "y_pred_test=p.predict(X_test_norm)"
   ]
  },
  {
   "cell_type": "code",
   "execution_count": 144,
   "id": "6b2407b1",
   "metadata": {},
   "outputs": [
    {
     "data": {
      "image/png": "[encoded data removed]",
      "text/plain": [
       "<Figure size 640x480 with 2 Axes>"
      ]
     },
     "metadata": {},
     "output_type": "display_data"
    }
   ],
   "source": [
    "plot_confusion_matrix(y_test,y_pred_test)"
   ]
  },
  {
   "cell_type": "code",
   "execution_count": 145,
   "id": "98712cac",
   "metadata": {},
   "outputs": [
    {
     "name": "stdout",
     "output_type": "stream",
     "text": [
      "Specificity TRAIN: 0.00 Specificity TEST: 0.00\n",
      "Recall TRAIN: 1.00 Recall TEST: 1.00\n"
     ]
    }
   ],
   "source": [
    "evaluate_model(y_test,y_pred_test,y_train,y_pred_train)"
   ]
  },
  {
   "cell_type": "markdown",
   "id": "a37111af",
   "metadata": {},
   "source": [
    "#### Quasi tutte le osservazioni sono predette come positive"
   ]
  },
  {
   "cell_type": "markdown",
   "id": "491ca609",
   "metadata": {},
   "source": [
    "#### NN: MULTI-LAYER PERCEPTRON"
   ]
  },
  {
   "cell_type": "code",
   "execution_count": 146,
   "id": "690e001d",
   "metadata": {},
   "outputs": [],
   "source": [
    "from sklearn.neural_network import MLPClassifier"
   ]
  },
  {
   "cell_type": "code",
   "execution_count": 147,
   "id": "09abe6c7",
   "metadata": {},
   "outputs": [
    {
     "name": "stderr",
     "output_type": "stream",
     "text": [
      "C:\\Users\\Dell\\anaconda3\\Lib\\site-packages\\sklearn\\neural_network\\_multilayer_perceptron.py:686: ConvergenceWarning: Stochastic Optimizer: Maximum iterations (200) reached and the optimization hasn't converged yet.\n",
      "  warnings.warn(\n"
     ]
    },
    {
     "data": {
      "text/html": [
       "<style>#sk-container-id-7 {color: black;background-color: white;}#sk-container-id-7 pre{padding: 0;}#sk-container-id-7 div.sk-toggleable {background-color: white;}#sk-container-id-7 label.sk-toggleable__label {cursor: pointer;display: block;width: 100%;margin-bottom: 0;padding: 0.3em;box-sizing: border-box;text-align: center;}#sk-container-id-7 label.sk-toggleable__label-arrow:before {content: \"▸\";float: left;margin-right: 0.25em;color: #696969;}#sk-container-id-7 label.sk-toggleable__label-arrow:hover:before {color: black;}#sk-container-id-7 div.sk-estimator:hover label.sk-toggleable__label-arrow:before {color: black;}#sk-container-id-7 div.sk-toggleable__content {max-height: 0;max-width: 0;overflow: hidden;text-align: left;background-color: #f0f8ff;}#sk-container-id-7 div.sk-toggleable__content pre {margin: 0.2em;color: black;border-radius: 0.25em;background-color: #f0f8ff;}#sk-container-id-7 input.sk-toggleable__control:checked~div.sk-toggleable__content {max-height: 200px;max-width: 100%;overflow: auto;}#sk-container-id-7 input.sk-toggleable__control:checked~label.sk-toggleable__label-arrow:before {content: \"▾\";}#sk-container-id-7 div.sk-estimator input.sk-toggleable__control:checked~label.sk-toggleable__label {background-color: #d4ebff;}#sk-container-id-7 div.sk-label input.sk-toggleable__control:checked~label.sk-toggleable__label {background-color: #d4ebff;}#sk-container-id-7 input.sk-hidden--visually {border: 0;clip: rect(1px 1px 1px 1px);clip: rect(1px, 1px, 1px, 1px);height: 1px;margin: -1px;overflow: hidden;padding: 0;position: absolute;width: 1px;}#sk-container-id-7 div.sk-estimator {font-family: monospace;background-color: #f0f8ff;border: 1px dotted black;border-radius: 0.25em;box-sizing: border-box;margin-bottom: 0.5em;}#sk-container-id-7 div.sk-estimator:hover {background-color: #d4ebff;}#sk-container-id-7 div.sk-parallel-item::after {content: \"\";width: 100%;border-bottom: 1px solid gray;flex-grow: 1;}#sk-container-id-7 div.sk-label:hover label.sk-toggleable__label {background-color: #d4ebff;}#sk-container-id-7 div.sk-serial::before {content: \"\";position: absolute;border-left: 1px solid gray;box-sizing: border-box;top: 0;bottom: 0;left: 50%;z-index: 0;}#sk-container-id-7 div.sk-serial {display: flex;flex-direction: column;align-items: center;background-color: white;padding-right: 0.2em;padding-left: 0.2em;position: relative;}#sk-container-id-7 div.sk-item {position: relative;z-index: 1;}#sk-container-id-7 div.sk-parallel {display: flex;align-items: stretch;justify-content: center;background-color: white;position: relative;}#sk-container-id-7 div.sk-item::before, #sk-container-id-7 div.sk-parallel-item::before {content: \"\";position: absolute;border-left: 1px solid gray;box-sizing: border-box;top: 0;bottom: 0;left: 50%;z-index: -1;}#sk-container-id-7 div.sk-parallel-item {display: flex;flex-direction: column;z-index: 1;position: relative;background-color: white;}#sk-container-id-7 div.sk-parallel-item:first-child::after {align-self: flex-end;width: 50%;}#sk-container-id-7 div.sk-parallel-item:last-child::after {align-self: flex-start;width: 50%;}#sk-container-id-7 div.sk-parallel-item:only-child::after {width: 0;}#sk-container-id-7 div.sk-dashed-wrapped {border: 1px dashed gray;margin: 0 0.4em 0.5em 0.4em;box-sizing: border-box;padding-bottom: 0.4em;background-color: white;}#sk-container-id-7 div.sk-label label {font-family: monospace;font-weight: bold;display: inline-block;line-height: 1.2em;}#sk-container-id-7 div.sk-label-container {text-align: center;}#sk-container-id-7 div.sk-container {/* jupyter's `normalize.less` sets `[hidden] { display: none; }` but bootstrap.min.css set `[hidden] { display: none !important; }` so we also need the `!important` here to be able to override the default hidden behavior on the sphinx rendered scikit-learn.org. See: https://github.com/scikit-learn/scikit-learn/issues/21755 */display: inline-block !important;position: relative;}#sk-container-id-7 div.sk-text-repr-fallback {display: none;}</style><div id=\"sk-container-id-7\" class=\"sk-top-container\"><div class=\"sk-text-repr-fallback\"><pre>MLPClassifier(hidden_layer_sizes=(100, 100, 100))</pre><b>In a Jupyter environment, please rerun this cell to show the HTML representation or trust the notebook. <br />On GitHub, the HTML representation is unable to render, please try loading this page with nbviewer.org.</b></div><div class=\"sk-container\" hidden><div class=\"sk-item\"><div class=\"sk-estimator sk-toggleable\"><input class=\"sk-toggleable__control sk-hidden--visually\" id=\"sk-estimator-id-7\" type=\"checkbox\" checked><label for=\"sk-estimator-id-7\" class=\"sk-toggleable__label sk-toggleable__label-arrow\">MLPClassifier</label><div class=\"sk-toggleable__content\"><pre>MLPClassifier(hidden_layer_sizes=(100, 100, 100))</pre></div></div></div></div></div>"
      ],
      "text/plain": [
       "MLPClassifier(hidden_layer_sizes=(100, 100, 100))"
      ]
     },
     "execution_count": 147,
     "metadata": {},
     "output_type": "execute_result"
    }
   ],
   "source": [
    "mlp=MLPClassifier(hidden_layer_sizes=(100, 100, 100,)) \n",
    "mlp.fit(X_train_norm,y_train)"
   ]
  },
  {
   "cell_type": "code",
   "execution_count": 148,
   "id": "3dc5d862",
   "metadata": {},
   "outputs": [],
   "source": [
    "y_pred_train=mlp.predict(X_train_norm)\n",
    "y_pred_test=mlp.predict(X_test_norm)"
   ]
  },
  {
   "cell_type": "code",
   "execution_count": 149,
   "id": "bb885f41",
   "metadata": {},
   "outputs": [
    {
     "data": {
      "image/png": "[encoded data removed]",
      "text/plain": [
       "<Figure size 640x480 with 2 Axes>"
      ]
     },
     "metadata": {},
     "output_type": "display_data"
    }
   ],
   "source": [
    "plot_confusion_matrix(y_test,y_pred_test)"
   ]
  },
  {
   "cell_type": "code",
   "execution_count": 150,
   "id": "76749c5c",
   "metadata": {},
   "outputs": [
    {
     "name": "stdout",
     "output_type": "stream",
     "text": [
      "Specificity TRAIN: 0.46 Specificity TEST: 0.28\n",
      "Recall TRAIN: 0.96 Recall TEST: 0.92\n"
     ]
    }
   ],
   "source": [
    "evaluate_model(y_test,y_pred_test,y_train,y_pred_train)"
   ]
  },
  {
   "cell_type": "markdown",
   "id": "d87b7a02",
   "metadata": {},
   "source": [
    "#### Il modello non rispetta tutti i requisiti"
   ]
  },
  {
   "cell_type": "markdown",
   "id": "07de0abb",
   "metadata": {},
   "source": [
    "### RESULTS"
   ]
  },
  {
   "cell_type": "markdown",
   "id": "e77e04d3",
   "metadata": {},
   "source": [
    "#### Il modello che rispetta, quasi ai limiti, i requisiti è ottenuto con l'argoritmo K-NEAREST NEIGHBORS, con K=2"
   ]
  },
  {
   "cell_type": "code",
   "execution_count": 179,
   "id": "52c06f46",
   "metadata": {},
   "outputs": [],
   "source": [
    "K=2\n",
    "knn=KNeighborsClassifier(n_neighbors=K)\n",
    "knn.fit(X_train_norm,y_train)\n",
    "y_pred_train=knn.predict(X_train_norm)\n",
    "y_pred_test=knn.predict(X_test_norm)"
   ]
  },
  {
   "cell_type": "code",
   "execution_count": 180,
   "id": "fc91c61d",
   "metadata": {},
   "outputs": [
    {
     "data": {
      "image/png": "[encoded data removed]",
      "text/plain": [
       "<Figure size 640x480 with 2 Axes>"
      ]
     },
     "metadata": {},
     "output_type": "display_data"
    }
   ],
   "source": [
    "plot_confusion_matrix(y_test,y_pred_test)"
   ]
  },
  {
   "cell_type": "code",
   "execution_count": 181,
   "id": "cec5b687",
   "metadata": {},
   "outputs": [
    {
     "name": "stdout",
     "output_type": "stream",
     "text": [
      "Specificity TRAIN: 0.85 Specificity TEST: 0.60\n",
      "Recall TRAIN: 0.81 Recall TEST: 0.73\n"
     ]
    }
   ],
   "source": [
    "evaluate_model(y_test,y_pred_test,y_train,y_pred_train)"
   ]
  },
  {
   "cell_type": "code",
   "execution_count": 182,
   "id": "5195a58b",
   "metadata": {},
   "outputs": [],
   "source": [
    "tn, fp, fn, tp = confusion_matrix(y_test,y_pred_test).ravel()"
   ]
  },
  {
   "cell_type": "code",
   "execution_count": 183,
   "id": "bfe94fa4",
   "metadata": {},
   "outputs": [],
   "source": [
    "predicted_positive_percentage=(tp+fp)/(tn+fp+fn+tp)*100"
   ]
  },
  {
   "cell_type": "code",
   "execution_count": 184,
   "id": "3ebdc05e",
   "metadata": {},
   "outputs": [],
   "source": [
    "false_negative_percentage=fn/(tn+fp+fn+tp)*100"
   ]
  },
  {
   "cell_type": "code",
   "execution_count": 185,
   "id": "06ffd237",
   "metadata": {},
   "outputs": [
    {
     "name": "stdout",
     "output_type": "stream",
     "text": [
      "The predicted positive are: 67 %\n"
     ]
    }
   ],
   "source": [
    "print(\"The predicted positive are: %d %%\" %round(predicted_positive_percentage))"
   ]
  },
  {
   "cell_type": "code",
   "execution_count": 186,
   "id": "29e9660d",
   "metadata": {},
   "outputs": [
    {
     "name": "stdout",
     "output_type": "stream",
     "text": [
      "The false negative are: 22 %\n"
     ]
    }
   ],
   "source": [
    "print(\"The false negative are: %d %%\" %round(false_negative_percentage))"
   ]
  },
  {
   "cell_type": "markdown",
   "id": "d12e3acf",
   "metadata": {},
   "source": [
    "#### Stabilisco che i predetti positivi vengano analizzati ulteriormente per stabilire se possono ricevere o meno una carta di credito: la percentuale di predetti positivi è di circa il 67 %.\n",
    "#### Nel caso in cui le ulteriori analisi permettessero di classificare correttamente i falsi positivi, la banca sbaglierebbe a fornire la carta di credito nel 22 % dei casi (falsi negativi)"
   ]
  }
 ],
 "metadata": {
  "kernelspec": {
   "display_name": "Python 3 (ipykernel)",
   "language": "python",
   "name": "python3"
  },
  "language_info": {
   "codemirror_mode": {
    "name": "ipython",
    "version": 3
   },
   "file_extension": ".py",
   "mimetype": "text/x-python",
   "name": "python",
   "nbconvert_exporter": "python",
   "pygments_lexer": "ipython3",
   "version": "3.11.3"
  }
 },
 "nbformat": 4,
 "nbformat_minor": 5
}
